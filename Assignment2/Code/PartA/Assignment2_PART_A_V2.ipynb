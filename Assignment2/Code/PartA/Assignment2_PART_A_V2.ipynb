{
 "cells": [
  {
   "cell_type": "markdown",
   "metadata": {
    "id": "7ipnWvssmbh7"
   },
   "source": [
    "# Fasion-MNIST classification \n",
    "\n",
    "In this Assignment you are going to classify a fashion dataset.\n",
    "\n",
    "[Fashion-MNIST](https://github.com/zalandoresearch/fashion-mnist) is a dataset of Zalando's article images—consisting of a training set of 60,000 examples and a test set of 10,000 examples. Each example is a 28x28 grayscale image, associated with a label from 10 classes. We intend Fashion-MNIST to serve as a direct drop-in replacement for the original MNIST dataset for benchmarking machine learning algorithms. It shares the same image size and structure of training and testing splits.\n",
    "\n",
    "![](https://www.tensorflow.org/static/tutorials/keras/classification_files/output_oZTImqg_CaW1_0.png)\n"
   ]
  },
  {
   "cell_type": "code",
   "execution_count": 35,
   "metadata": {
    "id": "6jP0xrK5uqWp"
   },
   "outputs": [],
   "source": [
    "# Imad Hanzaz, Yannick Urselmann, Jaylong Verschuren"
   ]
  },
  {
   "cell_type": "markdown",
   "metadata": {
    "id": "OOH78U5DpU5k"
   },
   "source": [
    "# Initialization\n",
    "\n",
    "load all needed libraries and functions, \n",
    "check the previos tutorial how to correctly load keras and other modules"
   ]
  },
  {
   "attachments": {},
   "cell_type": "markdown",
   "metadata": {},
   "source": [
    "### Import the needed libraries for this assignment. "
   ]
  },
  {
   "cell_type": "code",
   "execution_count": 36,
   "metadata": {
    "id": "Of4Qf_7DpXOS"
   },
   "outputs": [
    {
     "name": "stdout",
     "output_type": "stream",
     "text": [
      "Current Tensorflow version used is: 2.11.0\n"
     ]
    }
   ],
   "source": [
    "import tensorflow as tf\n",
    "import numpy as np\n",
    "import matplotlib.pyplot as plt\n",
    "import pandas as pd\n",
    "import os\n",
    "\n",
    "print(\"Current Tensorflow version used is: \" + tf.__version__)"
   ]
  },
  {
   "attachments": {},
   "cell_type": "markdown",
   "metadata": {},
   "source": [
    "### Functions created for this assignment"
   ]
  },
  {
   "cell_type": "code",
   "execution_count": 37,
   "metadata": {},
   "outputs": [],
   "source": [
    "def plotSample(X, y , classes):\n",
    "    plt.imshow(X, cmap=plt.get_cmap('gray'))\n",
    "    plt.colorbar()\n",
    "    plt.xlabel(classes[y])\n",
    "    plt.show()\n",
    "    \n",
    "def plotAccuracyVsEpoch(history):\n",
    "    plt.plot(history.history['sparse_categorical_accuracy'])\n",
    "    plt.plot(history.history['val_sparse_categorical_accuracy'])\n",
    "    plt.title('Model Accuracy')\n",
    "    plt.ylabel('Accuracy')\n",
    "    plt.xlabel('Epoch')\n",
    "    plt.legend(['train', 'val'], loc='upper left')\n",
    "    plt.show()\n",
    "    \n",
    "def plotLossVsEpoch(history):\n",
    "    plt.plot(history.history['loss'])\n",
    "    plt.plot(history.history['val_loss'])\n",
    "    plt.title('Model Accuracy')\n",
    "    plt.ylabel('loss')\n",
    "    plt.xlabel('epoch')\n",
    "    plt.legend(['train', 'val'], loc='upper left')\n",
    "    plt.show()\n",
    "    "
   ]
  },
  {
   "attachments": {},
   "cell_type": "markdown",
   "metadata": {},
   "source": [
    "### Check if a GPU is detected or if CPU must be used to train the TensorFlow model."
   ]
  },
  {
   "cell_type": "code",
   "execution_count": 38,
   "metadata": {},
   "outputs": [
    {
     "name": "stdout",
     "output_type": "stream",
     "text": [
      "No physical devices\n",
      "Using CPU to train the model.\n"
     ]
    }
   ],
   "source": [
    "physical_devices = tf.config.list_physical_devices('GPU')\n",
    "\n",
    "if (len(physical_devices) > 0):\n",
    "    details = tf.config.experimental.get_device_details(physical_devices[0])\n",
    "    print(\"GPU detected!\")\n",
    "    print(\"Num GPUs:\", len(physical_devices))\n",
    "    print(\"GPU Type:\", details[\"device_name\"])\n",
    "    print(\"Compute Capability:\", details[\"compute_capability\"])\n",
    "else:\n",
    "    print(\"No physical devices\")\n",
    "    print(\"Using CPU to train the model.\")"
   ]
  },
  {
   "attachments": {},
   "cell_type": "markdown",
   "metadata": {},
   "source": [
    "### Create a variable to trigger training of the model or not.\n",
    "This is done because the whole notebook can be run at once. If a model is trained already, it would be time consuming to create another model."
   ]
  },
  {
   "cell_type": "code",
   "execution_count": 39,
   "metadata": {},
   "outputs": [],
   "source": [
    "TrainModel = False"
   ]
  },
  {
   "cell_type": "markdown",
   "metadata": {
    "id": "yWrbNzmtuhKG"
   },
   "source": [
    "# Load dataset & Plot a subset\n",
    "\n",
    "load your dataset and show a plot of the subset of your data"
   ]
  },
  {
   "attachments": {},
   "cell_type": "markdown",
   "metadata": {},
   "source": [
    "### Load the Fashion MNIST dataset and divide it into train and test datasets."
   ]
  },
  {
   "cell_type": "code",
   "execution_count": 40,
   "metadata": {
    "id": "kTZNxjTkul9u"
   },
   "outputs": [],
   "source": [
    "fashion_mnist = tf.keras.datasets.fashion_mnist\n",
    "(x_train, y_train), (x_test, y_test) = fashion_mnist.load_data()\n",
    "class_name = ['top', 'trouser', 'pullover', 'dress', 'coat', 'sandal', 'shirt', 'sneaker', 'bag', 'ankle boot']"
   ]
  },
  {
   "attachments": {},
   "cell_type": "markdown",
   "metadata": {},
   "source": [
    "Show the train and test shape of the dataset."
   ]
  },
  {
   "cell_type": "code",
   "execution_count": 41,
   "metadata": {},
   "outputs": [
    {
     "name": "stdout",
     "output_type": "stream",
     "text": [
      "The shape of x_train is: (60000, 28, 28)\n",
      "The shape of y_train is: (60000,)\n",
      "The shape of x_test is: (10000, 28, 28)\n",
      "The shape of y_test is: (10000,)\n"
     ]
    }
   ],
   "source": [
    "print(\"The shape of x_train is: \" + str(x_train.shape))\n",
    "print(\"The shape of y_train is: \" + str(y_train.shape))\n",
    "print(\"The shape of x_test is: \" + str(x_test.shape))\n",
    "print(\"The shape of y_test is: \" + str(y_test.shape))"
   ]
  },
  {
   "cell_type": "code",
   "execution_count": 42,
   "metadata": {},
   "outputs": [
    {
     "data": {
      "image/png": "[encoded data removed]",
      "text/plain": [
       "<Figure size 640x480 with 2 Axes>"
      ]
     },
     "metadata": {},
     "output_type": "display_data"
    }
   ],
   "source": [
    "index = 100\n",
    "plotSample(x_train[index], y_train[index], class_name)"
   ]
  },
  {
   "cell_type": "markdown",
   "metadata": {
    "id": "O-P5qhvGumPu"
   },
   "source": [
    "# Prepare Data\n",
    "\n",
    "pre-process your raw input data... rescale... normalize...."
   ]
  },
  {
   "attachments": {},
   "cell_type": "markdown",
   "metadata": {},
   "source": [
    "The pictures in the dataset are already in a 28x28 pixel format.\n",
    "Also the data is in grayscale. If it would be RGB then the shape would be (60000, 28, 28, 3)."
   ]
  },
  {
   "attachments": {},
   "cell_type": "markdown",
   "metadata": {},
   "source": [
    "In the next steps, the x_train and x_test (Images) will be normalized by dividing them with 255.0.\n",
    "This results in output data ranging from 0 to 1 instead of 0 to 255. Which is easier to train for the model."
   ]
  },
  {
   "cell_type": "code",
   "execution_count": 43,
   "metadata": {},
   "outputs": [
    {
     "data": {
      "text/plain": [
       "array([[  0,   0,   0,   0,   0,   0,   0,   0,   0,   1,   0,   0,  18,\n",
       "        107, 119, 103,   9,   0,   0,   0,   0,   0,   0,   0,   0,   0,\n",
       "          0,   0],\n",
       "       [  0,   0,   0,   0,   0,   0,   0,   0,   0,   0,   0,  99, 155,\n",
       "        113,  61, 118, 173, 117,   0,   0,   3,   0,   0,   0,   0,   0,\n",
       "          0,   0],\n",
       "       [  0,   0,   0,   0,   0,   0,   0,   0,   1,   0, 110, 136,   0,\n",
       "          0,   0,   0,   0, 167, 159,   0,   0,   2,   0,   0,   0,   0,\n",
       "          0,   0],\n",
       "       [  0,   0,   0,   0,   0,   1,   0,   6,   0,  72, 147,   0,   0,\n",
       "          5,   0,   2,   0,   0, 174, 118,   0,   5,   0,   0,   0,   0,\n",
       "          0,   0],\n",
       "       [  0,   0,   0,   0,   0,   1,   5,   0,   0, 174,   4,   0,   4,\n",
       "          0,   0,   0,   0,   0,   0, 204,  44,   0,   4,   0,   0,   0,\n",
       "          0,   0],\n",
       "       [  0,   0,   0,   0,   0,   0,   8,   0, 125, 128,   0,   9,   0,\n",
       "          0,   0,   0,   0,   2,   0, 107, 152,   0,   6,   0,   0,   0,\n",
       "          0,   0],\n",
       "       [  0,   0,   0,   0,   0,   0,   0,   0, 184,   9,   0,   4,   0,\n",
       "          0,   0,   0,   0,   2,   0,   0, 190,   0,   0,   2,   0,   0,\n",
       "          0,   0],\n",
       "       [  0,   0,   0,   1,   0,   2,   0,  73, 158,   0,   0,   0,   0,\n",
       "          1,   0,   0,   0,   0,   4,   0, 157,  79,   0,   3,   1,   0,\n",
       "          0,   0],\n",
       "       [  0,   0,   2,   5,   1,   0,   0, 157,  98,   0,   2,   0,   0,\n",
       "          1,   0,   0,   0,   0,   5,   0, 121, 145,   0,   0,   0,   0,\n",
       "          0,   0],\n",
       "       [  0,   0,   0,   0,   0,   0,   0, 231,  84,   0,   2,   1,   1,\n",
       "          0,   0,   0,   0,   0,   1,   0,  92, 223,  16,   0,   7,   4,\n",
       "          1,   0],\n",
       "       [  0,   0,   0,   0,   0,   0,  38, 183,  81,   0,   0,   0,   2,\n",
       "          2,   1,   2,   1,   0,   1,   0, 120, 226,  57,   0,   0,   0,\n",
       "          0,   0],\n",
       "       [  0,   0, 173, 216, 193, 213, 183, 164, 167,  98,  16,   0,   0,\n",
       "          0,   0,   0,   0,   0,   0,   0, 107, 141, 111,  91,  90, 108,\n",
       "         50,   0],\n",
       "       [  0,   0, 185, 221, 217, 210, 202, 222, 200, 206, 202, 204, 109,\n",
       "         27,  12,  17,  61, 136, 180, 221, 202, 225, 208, 214, 223, 240,\n",
       "        162,   0],\n",
       "       [  0,   0, 183, 220, 205, 200, 193, 184, 189, 182, 173, 194, 215,\n",
       "        216, 205, 207, 207, 195, 185, 194, 194, 203, 212, 183, 193, 211,\n",
       "        153,   0],\n",
       "       [  0,   0, 190, 233, 203, 206, 214, 216, 195, 183, 176, 159, 175,\n",
       "        189, 202, 195, 186, 186, 182, 186, 195, 209, 235, 203, 202, 215,\n",
       "        136,   0],\n",
       "       [  0,   0, 180, 228, 201, 202, 188, 183, 178, 192, 186, 181, 181,\n",
       "        177, 204, 217, 175, 179, 184, 176, 166, 169, 175, 185, 152, 203,\n",
       "        107,   0],\n",
       "       [  0,   0, 167, 235, 200, 207, 207, 209, 207, 203, 198, 189, 182,\n",
       "        178, 186, 189, 178, 192, 197, 195, 192, 185, 184, 205, 187, 255,\n",
       "         61,   0],\n",
       "       [  0,   0, 152, 250, 208, 214, 209, 202, 200, 202, 205, 204, 200,\n",
       "        192, 198, 204, 195, 205, 206, 198, 199, 203, 214, 207, 179, 249,\n",
       "         55,   0],\n",
       "       [  0,   0, 126, 255, 211, 215, 210, 206, 203, 203, 203, 206, 204,\n",
       "        199, 206, 207, 200, 206, 201, 199, 202, 208, 215, 195, 174, 211,\n",
       "         15,   0],\n",
       "       [  0,   0, 107, 255, 212, 211, 210, 211, 208, 206, 206, 207, 208,\n",
       "        208, 217, 214, 205, 206, 204, 208, 211, 211, 220, 197, 182, 225,\n",
       "          0,   0],\n",
       "       [  0,   0,  63, 232, 211, 216, 212, 214, 212, 212, 214, 212, 211,\n",
       "        212, 223, 219, 210, 214, 213, 212, 211, 209, 217, 208, 168, 190,\n",
       "          0,   0],\n",
       "       [  0,   0,  14, 255, 218, 221, 215, 218, 218, 217, 215, 213, 211,\n",
       "        215, 228, 220, 216, 222, 217, 217, 216, 218, 212, 213, 189, 143,\n",
       "          0,   0],\n",
       "       [  0,   0,   0, 230, 227, 214, 217, 218, 216, 217, 217, 214, 216,\n",
       "        222, 226, 218, 218, 220, 219, 218, 217, 218, 217, 215, 216, 113,\n",
       "          0,   0],\n",
       "       [  0,   0,   0, 177, 233, 216, 223, 222, 213, 213, 215, 212, 220,\n",
       "        226, 221, 220, 221, 218, 222, 220, 220, 221, 217, 212, 219,  52,\n",
       "          0,   0],\n",
       "       [  0,   0,   0,  10, 223, 222, 220, 211, 213, 215, 220, 222, 226,\n",
       "        226, 221, 223, 222, 222, 221, 218, 220, 219, 220, 223, 174,   0,\n",
       "          0,   0],\n",
       "       [  0,   0,   0,   0, 126, 241, 208, 210, 214, 214, 216, 216, 220,\n",
       "        220, 214, 213, 212, 212, 210, 215, 217, 218, 215, 236,  42,   0,\n",
       "          1,   0],\n",
       "       [  0,   0,   0,   0,   0, 188, 237, 230, 233, 255, 255, 255, 255,\n",
       "        255, 255, 255, 255, 255, 255, 255, 231, 229, 239, 161,   0,   0,\n",
       "          0,   0],\n",
       "       [  0,   0,   0,   0,   0,   0,  63,  95, 108, 105, 100, 103, 104,\n",
       "        105, 102, 100,  98,  97,  96,  90,  80,  83,  60,   0,   0,   0,\n",
       "          0,   0]], dtype=uint8)"
      ]
     },
     "execution_count": 43,
     "metadata": {},
     "output_type": "execute_result"
    }
   ],
   "source": [
    "x_train[100]"
   ]
  },
  {
   "cell_type": "code",
   "execution_count": 44,
   "metadata": {},
   "outputs": [],
   "source": [
    "x_train = x_train / 255.0\n",
    "x_test = x_test / 255.0"
   ]
  },
  {
   "cell_type": "code",
   "execution_count": 45,
   "metadata": {},
   "outputs": [
    {
     "data": {
      "text/plain": [
       "array([[0.        , 0.        , 0.        , 0.        , 0.        ,\n",
       "        0.        , 0.        , 0.        , 0.        , 0.00392157,\n",
       "        0.        , 0.        , 0.07058824, 0.41960784, 0.46666667,\n",
       "        0.40392157, 0.03529412, 0.        , 0.        , 0.        ,\n",
       "        0.        , 0.        , 0.        , 0.        , 0.        ,\n",
       "        0.        , 0.        , 0.        ],\n",
       "       [0.        , 0.        , 0.        , 0.        , 0.        ,\n",
       "        0.        , 0.        , 0.        , 0.        , 0.        ,\n",
       "        0.        , 0.38823529, 0.60784314, 0.44313725, 0.23921569,\n",
       "        0.4627451 , 0.67843137, 0.45882353, 0.        , 0.        ,\n",
       "        0.01176471, 0.        , 0.        , 0.        , 0.        ,\n",
       "        0.        , 0.        , 0.        ],\n",
       "       [0.        , 0.        , 0.        , 0.        , 0.        ,\n",
       "        0.        , 0.        , 0.        , 0.00392157, 0.        ,\n",
       "        0.43137255, 0.53333333, 0.        , 0.        , 0.        ,\n",
       "        0.        , 0.        , 0.65490196, 0.62352941, 0.        ,\n",
       "        0.        , 0.00784314, 0.        , 0.        , 0.        ,\n",
       "        0.        , 0.        , 0.        ],\n",
       "       [0.        , 0.        , 0.        , 0.        , 0.        ,\n",
       "        0.00392157, 0.        , 0.02352941, 0.        , 0.28235294,\n",
       "        0.57647059, 0.        , 0.        , 0.01960784, 0.        ,\n",
       "        0.00784314, 0.        , 0.        , 0.68235294, 0.4627451 ,\n",
       "        0.        , 0.01960784, 0.        , 0.        , 0.        ,\n",
       "        0.        , 0.        , 0.        ],\n",
       "       [0.        , 0.        , 0.        , 0.        , 0.        ,\n",
       "        0.00392157, 0.01960784, 0.        , 0.        , 0.68235294,\n",
       "        0.01568627, 0.        , 0.01568627, 0.        , 0.        ,\n",
       "        0.        , 0.        , 0.        , 0.        , 0.8       ,\n",
       "        0.17254902, 0.        , 0.01568627, 0.        , 0.        ,\n",
       "        0.        , 0.        , 0.        ],\n",
       "       [0.        , 0.        , 0.        , 0.        , 0.        ,\n",
       "        0.        , 0.03137255, 0.        , 0.49019608, 0.50196078,\n",
       "        0.        , 0.03529412, 0.        , 0.        , 0.        ,\n",
       "        0.        , 0.        , 0.00784314, 0.        , 0.41960784,\n",
       "        0.59607843, 0.        , 0.02352941, 0.        , 0.        ,\n",
       "        0.        , 0.        , 0.        ],\n",
       "       [0.        , 0.        , 0.        , 0.        , 0.        ,\n",
       "        0.        , 0.        , 0.        , 0.72156863, 0.03529412,\n",
       "        0.        , 0.01568627, 0.        , 0.        , 0.        ,\n",
       "        0.        , 0.        , 0.00784314, 0.        , 0.        ,\n",
       "        0.74509804, 0.        , 0.        , 0.00784314, 0.        ,\n",
       "        0.        , 0.        , 0.        ],\n",
       "       [0.        , 0.        , 0.        , 0.00392157, 0.        ,\n",
       "        0.00784314, 0.        , 0.28627451, 0.61960784, 0.        ,\n",
       "        0.        , 0.        , 0.        , 0.00392157, 0.        ,\n",
       "        0.        , 0.        , 0.        , 0.01568627, 0.        ,\n",
       "        0.61568627, 0.30980392, 0.        , 0.01176471, 0.00392157,\n",
       "        0.        , 0.        , 0.        ],\n",
       "       [0.        , 0.        , 0.00784314, 0.01960784, 0.00392157,\n",
       "        0.        , 0.        , 0.61568627, 0.38431373, 0.        ,\n",
       "        0.00784314, 0.        , 0.        , 0.00392157, 0.        ,\n",
       "        0.        , 0.        , 0.        , 0.01960784, 0.        ,\n",
       "        0.4745098 , 0.56862745, 0.        , 0.        , 0.        ,\n",
       "        0.        , 0.        , 0.        ],\n",
       "       [0.        , 0.        , 0.        , 0.        , 0.        ,\n",
       "        0.        , 0.        , 0.90588235, 0.32941176, 0.        ,\n",
       "        0.00784314, 0.00392157, 0.00392157, 0.        , 0.        ,\n",
       "        0.        , 0.        , 0.        , 0.00392157, 0.        ,\n",
       "        0.36078431, 0.8745098 , 0.0627451 , 0.        , 0.02745098,\n",
       "        0.01568627, 0.00392157, 0.        ],\n",
       "       [0.        , 0.        , 0.        , 0.        , 0.        ,\n",
       "        0.        , 0.14901961, 0.71764706, 0.31764706, 0.        ,\n",
       "        0.        , 0.        , 0.00784314, 0.00784314, 0.00392157,\n",
       "        0.00784314, 0.00392157, 0.        , 0.00392157, 0.        ,\n",
       "        0.47058824, 0.88627451, 0.22352941, 0.        , 0.        ,\n",
       "        0.        , 0.        , 0.        ],\n",
       "       [0.        , 0.        , 0.67843137, 0.84705882, 0.75686275,\n",
       "        0.83529412, 0.71764706, 0.64313725, 0.65490196, 0.38431373,\n",
       "        0.0627451 , 0.        , 0.        , 0.        , 0.        ,\n",
       "        0.        , 0.        , 0.        , 0.        , 0.        ,\n",
       "        0.41960784, 0.55294118, 0.43529412, 0.35686275, 0.35294118,\n",
       "        0.42352941, 0.19607843, 0.        ],\n",
       "       [0.        , 0.        , 0.7254902 , 0.86666667, 0.85098039,\n",
       "        0.82352941, 0.79215686, 0.87058824, 0.78431373, 0.80784314,\n",
       "        0.79215686, 0.8       , 0.42745098, 0.10588235, 0.04705882,\n",
       "        0.06666667, 0.23921569, 0.53333333, 0.70588235, 0.86666667,\n",
       "        0.79215686, 0.88235294, 0.81568627, 0.83921569, 0.8745098 ,\n",
       "        0.94117647, 0.63529412, 0.        ],\n",
       "       [0.        , 0.        , 0.71764706, 0.8627451 , 0.80392157,\n",
       "        0.78431373, 0.75686275, 0.72156863, 0.74117647, 0.71372549,\n",
       "        0.67843137, 0.76078431, 0.84313725, 0.84705882, 0.80392157,\n",
       "        0.81176471, 0.81176471, 0.76470588, 0.7254902 , 0.76078431,\n",
       "        0.76078431, 0.79607843, 0.83137255, 0.71764706, 0.75686275,\n",
       "        0.82745098, 0.6       , 0.        ],\n",
       "       [0.        , 0.        , 0.74509804, 0.91372549, 0.79607843,\n",
       "        0.80784314, 0.83921569, 0.84705882, 0.76470588, 0.71764706,\n",
       "        0.69019608, 0.62352941, 0.68627451, 0.74117647, 0.79215686,\n",
       "        0.76470588, 0.72941176, 0.72941176, 0.71372549, 0.72941176,\n",
       "        0.76470588, 0.81960784, 0.92156863, 0.79607843, 0.79215686,\n",
       "        0.84313725, 0.53333333, 0.        ],\n",
       "       [0.        , 0.        , 0.70588235, 0.89411765, 0.78823529,\n",
       "        0.79215686, 0.7372549 , 0.71764706, 0.69803922, 0.75294118,\n",
       "        0.72941176, 0.70980392, 0.70980392, 0.69411765, 0.8       ,\n",
       "        0.85098039, 0.68627451, 0.70196078, 0.72156863, 0.69019608,\n",
       "        0.65098039, 0.6627451 , 0.68627451, 0.7254902 , 0.59607843,\n",
       "        0.79607843, 0.41960784, 0.        ],\n",
       "       [0.        , 0.        , 0.65490196, 0.92156863, 0.78431373,\n",
       "        0.81176471, 0.81176471, 0.81960784, 0.81176471, 0.79607843,\n",
       "        0.77647059, 0.74117647, 0.71372549, 0.69803922, 0.72941176,\n",
       "        0.74117647, 0.69803922, 0.75294118, 0.77254902, 0.76470588,\n",
       "        0.75294118, 0.7254902 , 0.72156863, 0.80392157, 0.73333333,\n",
       "        1.        , 0.23921569, 0.        ],\n",
       "       [0.        , 0.        , 0.59607843, 0.98039216, 0.81568627,\n",
       "        0.83921569, 0.81960784, 0.79215686, 0.78431373, 0.79215686,\n",
       "        0.80392157, 0.8       , 0.78431373, 0.75294118, 0.77647059,\n",
       "        0.8       , 0.76470588, 0.80392157, 0.80784314, 0.77647059,\n",
       "        0.78039216, 0.79607843, 0.83921569, 0.81176471, 0.70196078,\n",
       "        0.97647059, 0.21568627, 0.        ],\n",
       "       [0.        , 0.        , 0.49411765, 1.        , 0.82745098,\n",
       "        0.84313725, 0.82352941, 0.80784314, 0.79607843, 0.79607843,\n",
       "        0.79607843, 0.80784314, 0.8       , 0.78039216, 0.80784314,\n",
       "        0.81176471, 0.78431373, 0.80784314, 0.78823529, 0.78039216,\n",
       "        0.79215686, 0.81568627, 0.84313725, 0.76470588, 0.68235294,\n",
       "        0.82745098, 0.05882353, 0.        ],\n",
       "       [0.        , 0.        , 0.41960784, 1.        , 0.83137255,\n",
       "        0.82745098, 0.82352941, 0.82745098, 0.81568627, 0.80784314,\n",
       "        0.80784314, 0.81176471, 0.81568627, 0.81568627, 0.85098039,\n",
       "        0.83921569, 0.80392157, 0.80784314, 0.8       , 0.81568627,\n",
       "        0.82745098, 0.82745098, 0.8627451 , 0.77254902, 0.71372549,\n",
       "        0.88235294, 0.        , 0.        ],\n",
       "       [0.        , 0.        , 0.24705882, 0.90980392, 0.82745098,\n",
       "        0.84705882, 0.83137255, 0.83921569, 0.83137255, 0.83137255,\n",
       "        0.83921569, 0.83137255, 0.82745098, 0.83137255, 0.8745098 ,\n",
       "        0.85882353, 0.82352941, 0.83921569, 0.83529412, 0.83137255,\n",
       "        0.82745098, 0.81960784, 0.85098039, 0.81568627, 0.65882353,\n",
       "        0.74509804, 0.        , 0.        ],\n",
       "       [0.        , 0.        , 0.05490196, 1.        , 0.85490196,\n",
       "        0.86666667, 0.84313725, 0.85490196, 0.85490196, 0.85098039,\n",
       "        0.84313725, 0.83529412, 0.82745098, 0.84313725, 0.89411765,\n",
       "        0.8627451 , 0.84705882, 0.87058824, 0.85098039, 0.85098039,\n",
       "        0.84705882, 0.85490196, 0.83137255, 0.83529412, 0.74117647,\n",
       "        0.56078431, 0.        , 0.        ],\n",
       "       [0.        , 0.        , 0.        , 0.90196078, 0.89019608,\n",
       "        0.83921569, 0.85098039, 0.85490196, 0.84705882, 0.85098039,\n",
       "        0.85098039, 0.83921569, 0.84705882, 0.87058824, 0.88627451,\n",
       "        0.85490196, 0.85490196, 0.8627451 , 0.85882353, 0.85490196,\n",
       "        0.85098039, 0.85490196, 0.85098039, 0.84313725, 0.84705882,\n",
       "        0.44313725, 0.        , 0.        ],\n",
       "       [0.        , 0.        , 0.        , 0.69411765, 0.91372549,\n",
       "        0.84705882, 0.8745098 , 0.87058824, 0.83529412, 0.83529412,\n",
       "        0.84313725, 0.83137255, 0.8627451 , 0.88627451, 0.86666667,\n",
       "        0.8627451 , 0.86666667, 0.85490196, 0.87058824, 0.8627451 ,\n",
       "        0.8627451 , 0.86666667, 0.85098039, 0.83137255, 0.85882353,\n",
       "        0.20392157, 0.        , 0.        ],\n",
       "       [0.        , 0.        , 0.        , 0.03921569, 0.8745098 ,\n",
       "        0.87058824, 0.8627451 , 0.82745098, 0.83529412, 0.84313725,\n",
       "        0.8627451 , 0.87058824, 0.88627451, 0.88627451, 0.86666667,\n",
       "        0.8745098 , 0.87058824, 0.87058824, 0.86666667, 0.85490196,\n",
       "        0.8627451 , 0.85882353, 0.8627451 , 0.8745098 , 0.68235294,\n",
       "        0.        , 0.        , 0.        ],\n",
       "       [0.        , 0.        , 0.        , 0.        , 0.49411765,\n",
       "        0.94509804, 0.81568627, 0.82352941, 0.83921569, 0.83921569,\n",
       "        0.84705882, 0.84705882, 0.8627451 , 0.8627451 , 0.83921569,\n",
       "        0.83529412, 0.83137255, 0.83137255, 0.82352941, 0.84313725,\n",
       "        0.85098039, 0.85490196, 0.84313725, 0.9254902 , 0.16470588,\n",
       "        0.        , 0.00392157, 0.        ],\n",
       "       [0.        , 0.        , 0.        , 0.        , 0.        ,\n",
       "        0.7372549 , 0.92941176, 0.90196078, 0.91372549, 1.        ,\n",
       "        1.        , 1.        , 1.        , 1.        , 1.        ,\n",
       "        1.        , 1.        , 1.        , 1.        , 1.        ,\n",
       "        0.90588235, 0.89803922, 0.9372549 , 0.63137255, 0.        ,\n",
       "        0.        , 0.        , 0.        ],\n",
       "       [0.        , 0.        , 0.        , 0.        , 0.        ,\n",
       "        0.        , 0.24705882, 0.37254902, 0.42352941, 0.41176471,\n",
       "        0.39215686, 0.40392157, 0.40784314, 0.41176471, 0.4       ,\n",
       "        0.39215686, 0.38431373, 0.38039216, 0.37647059, 0.35294118,\n",
       "        0.31372549, 0.3254902 , 0.23529412, 0.        , 0.        ,\n",
       "        0.        , 0.        , 0.        ]])"
      ]
     },
     "execution_count": 45,
     "metadata": {},
     "output_type": "execute_result"
    }
   ],
   "source": [
    "x_train[100]"
   ]
  },
  {
   "cell_type": "markdown",
   "metadata": {
    "id": "t5t5_38HupW3"
   },
   "source": [
    "# Fit the Model\n",
    "\n",
    "Fitting the model is the time consuming part, this depend on the complexity of the model and the amount of training data.\n",
    "In the fitting process the model is first build up in memory with all the tunable parameters and intercomnnects (with random start values). This is also the limitation of some systems, all these parameters are stored in memory (or when not fitting in a swap file)\n",
    "\n",
    "**TIP:** do not start the first time with training a lot of epochs, first see if this and all following steps in your system work and when you are sure that all works train your final model. You can also monitor the Jetson CPU/GPU/Memory performance during this process (see Tips & Tricks)\n",
    "\n",
    "* Explain what hyperparameters are available and what they do.\n",
    "* Which hyperparameter result in better training results?"
   ]
  },
  {
   "cell_type": "code",
   "execution_count": 46,
   "metadata": {},
   "outputs": [
    {
     "name": "stdout",
     "output_type": "stream",
     "text": [
      "Model: \"sequential_1\"\n",
      "_________________________________________________________________\n",
      " Layer (type)                Output Shape              Param #   \n",
      "=================================================================\n",
      " flatten_1 (Flatten)         (None, 784)               0         \n",
      "                                                                 \n",
      " dense_2 (Dense)             (None, 128)               100480    \n",
      "                                                                 \n",
      " dense_3 (Dense)             (None, 10)                1290      \n",
      "                                                                 \n",
      "=================================================================\n",
      "Total params: 101,770\n",
      "Trainable params: 101,770\n",
      "Non-trainable params: 0\n",
      "_________________________________________________________________\n"
     ]
    }
   ],
   "source": [
    "model = tf.keras.models.Sequential()\n",
    "model.add(tf.keras.layers.Flatten(input_shape = (28,28)))\n",
    "model.add(tf.keras.layers.Dense(128, activation = \"relu\"))\n",
    "model.add(tf.keras.layers.Dense(10, activation = \"softmax\"))\n",
    "model.summary()"
   ]
  },
  {
   "cell_type": "code",
   "execution_count": 47,
   "metadata": {},
   "outputs": [],
   "source": [
    "model.compile(optimizer = \"adam\", loss = 'sparse_categorical_crossentropy', metrics = ['sparse_categorical_accuracy'])"
   ]
  },
  {
   "cell_type": "code",
   "execution_count": 48,
   "metadata": {},
   "outputs": [
    {
     "name": "stdout",
     "output_type": "stream",
     "text": [
      "Epoch 1/10\n",
      "40199/40199 [==============================] - 43s 1ms/step - loss: 0.5236 - sparse_categorical_accuracy: 0.8098 - val_loss: 0.4413 - val_sparse_categorical_accuracy: 0.8411\n",
      "Epoch 2/10\n",
      "40199/40199 [==============================] - 41s 1ms/step - loss: 0.4209 - sparse_categorical_accuracy: 0.8505 - val_loss: 0.4005 - val_sparse_categorical_accuracy: 0.8543\n",
      "Epoch 3/10\n",
      "40199/40199 [==============================] - 40s 1ms/step - loss: 0.3903 - sparse_categorical_accuracy: 0.8612 - val_loss: 0.4259 - val_sparse_categorical_accuracy: 0.8565\n",
      "Epoch 4/10\n",
      "40199/40199 [==============================] - 41s 1ms/step - loss: 0.3732 - sparse_categorical_accuracy: 0.8695 - val_loss: 0.4110 - val_sparse_categorical_accuracy: 0.8656\n",
      "Epoch 5/10\n",
      "40199/40199 [==============================] - 41s 1ms/step - loss: 0.3687 - sparse_categorical_accuracy: 0.8724 - val_loss: 0.4384 - val_sparse_categorical_accuracy: 0.8596\n",
      "Epoch 6/10\n",
      "40199/40199 [==============================] - 41s 1ms/step - loss: 0.3548 - sparse_categorical_accuracy: 0.8760 - val_loss: 0.4399 - val_sparse_categorical_accuracy: 0.8595\n",
      "Epoch 7/10\n",
      "40199/40199 [==============================] - 41s 1ms/step - loss: 0.3461 - sparse_categorical_accuracy: 0.8796 - val_loss: 0.4215 - val_sparse_categorical_accuracy: 0.8692\n",
      "Epoch 8/10\n",
      "40199/40199 [==============================] - 41s 1ms/step - loss: 0.3437 - sparse_categorical_accuracy: 0.8819 - val_loss: 0.4557 - val_sparse_categorical_accuracy: 0.8683\n",
      "Epoch 9/10\n",
      "40199/40199 [==============================] - 41s 1ms/step - loss: 0.3398 - sparse_categorical_accuracy: 0.8819 - val_loss: 0.4700 - val_sparse_categorical_accuracy: 0.8526\n",
      "Epoch 10/10\n",
      "40199/40199 [==============================] - 41s 1ms/step - loss: 0.3322 - sparse_categorical_accuracy: 0.8847 - val_loss: 0.4745 - val_sparse_categorical_accuracy: 0.8691\n"
     ]
    }
   ],
   "source": [
    "history = model.fit(x_train, y_train, epochs=10, batch_size=1, validation_split=0.33)"
   ]
  },
  {
   "cell_type": "code",
   "execution_count": 49,
   "metadata": {},
   "outputs": [
    {
     "data": {
      "text/plain": [
       "dict_keys(['loss', 'sparse_categorical_accuracy', 'val_loss', 'val_sparse_categorical_accuracy'])"
      ]
     },
     "execution_count": 49,
     "metadata": {},
     "output_type": "execute_result"
    }
   ],
   "source": [
    "history.history.keys()"
   ]
  },
  {
   "cell_type": "code",
   "execution_count": 50,
   "metadata": {},
   "outputs": [
    {
     "data": {
      "image/png": "[encoded data removed]",
      "text/plain": [
       "<Figure size 640x480 with 1 Axes>"
      ]
     },
     "metadata": {},
     "output_type": "display_data"
    }
   ],
   "source": [
    "plotAccuracyVsEpoch(history)"
   ]
  },
  {
   "cell_type": "code",
   "execution_count": 51,
   "metadata": {},
   "outputs": [
    {
     "data": {
      "image/png": "[encoded data removed]",
      "text/plain": [
       "<Figure size 640x480 with 1 Axes>"
      ]
     },
     "metadata": {},
     "output_type": "display_data"
    }
   ],
   "source": [
    "plotLossVsEpoch(history)"
   ]
  },
  {
   "cell_type": "markdown",
   "metadata": {
    "id": "WdzrdzNeusno"
   },
   "source": [
    "# Evaluate Model\n",
    "\n",
    "Show the model accuracy after the training process ...\n",
    "* What is the final accuracy of the trained Network?"
   ]
  },
  {
   "cell_type": "markdown",
   "metadata": {
    "id": "l8a1ovA8uyMX"
   },
   "source": [
    "# Save model\n",
    "\n",
    "Save the model for later usage"
   ]
  },
  {
   "cell_type": "markdown",
   "metadata": {
    "id": "BbK5-OQ4u32A"
   },
   "source": [
    "# Evaluate Final Model\n",
    "\n",
    "After training and saving the model you can deploy this model on any given input image. You can start a new application in where you import this model and apply it on any given imput images, so you can just load the model and don't need the timeconsuming training anymore."
   ]
  },
  {
   "cell_type": "markdown",
   "metadata": {
    "id": "uqEeHGjG3fsd"
   },
   "source": [
    "## Make Prediction\n",
    "\n",
    "We can use our saved model to make a prediction on new images that are not trained on... make sure the input images receive the same pre-processing as the images you trained on.\n",
    "\n",
    "So fetch some images from the internet (similar classes, but not from your dataset), prepare them to fit your network and classify them. Do this for  **10 images per class** and show the results!\n",
    "\n",
    "* How good is the detection on you real dataset? (show some statistics) "
   ]
  },
  {
   "cell_type": "markdown",
   "metadata": {
    "id": "Cf-L0WA7uqWu"
   },
   "source": [
    "## Additional Questions\n",
    "* In which way could the network accuracy be improved further (only explanation, no implementation)?"
   ]
  },
  {
   "cell_type": "markdown",
   "metadata": {
    "id": "Pt5pspww72l9"
   },
   "source": []
  }
 ],
 "metadata": {
  "colab": {
   "private_outputs": true,
   "provenance": []
  },
  "gpuClass": "standard",
  "kernelspec": {
   "display_name": "base",
   "language": "python",
   "name": "python3"
  },
  "language_info": {
   "codemirror_mode": {
    "name": "ipython",
    "version": 3
   },
   "file_extension": ".py",
   "mimetype": "text/x-python",
   "name": "python",
   "nbconvert_exporter": "python",
   "pygments_lexer": "ipython3",
   "version": "3.9.15 (main, Nov 24 2022, 14:39:17) [MSC v.1916 64 bit (AMD64)]"
  },
  "vscode": {
   "interpreter": {
    "hash": "0d18f53f9c896a2b8bb565adf491d4ea47a0151f3ca6dbc95552d117e45cb145"
   }
  }
 },
 "nbformat": 4,
 "nbformat_minor": 1
}
