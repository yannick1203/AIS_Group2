{
 "cells": [
  {
   "cell_type": "markdown",
   "metadata": {
    "id": "7ipnWvssmbh7"
   },
   "source": [
    "# Fasion-MNIST classification \n",
    "\n",
    "In this Assignment you are going to classify a fashion dataset.\n",
    "\n",
    "[Fashion-MNIST](https://github.com/zalandoresearch/fashion-mnist) is a dataset of Zalando's article images—consisting of a training set of 60,000 examples and a test set of 10,000 examples. Each example is a 28x28 grayscale image, associated with a label from 10 classes. We intend Fashion-MNIST to serve as a direct drop-in replacement for the original MNIST dataset for benchmarking machine learning algorithms. It shares the same image size and structure of training and testing splits.\n",
    "\n",
    "![](https://www.tensorflow.org/static/tutorials/keras/classification_files/output_oZTImqg_CaW1_0.png)\n"
   ]
  },
  {
   "cell_type": "code",
   "execution_count": 137,
   "metadata": {
    "id": "6jP0xrK5uqWp"
   },
   "outputs": [],
   "source": [
    "# Imad Hanzaz, Yannick Urselmann, Jaylong Verschuren"
   ]
  },
  {
   "cell_type": "markdown",
   "metadata": {
    "id": "OOH78U5DpU5k"
   },
   "source": [
    "# Initialization\n",
    "\n",
    "load all needed libraries and functions, \n",
    "check the previos tutorial how to correctly load keras and other modules"
   ]
  },
  {
   "attachments": {},
   "cell_type": "markdown",
   "metadata": {},
   "source": [
    "### Import the needed libraries for this assignment. "
   ]
  },
  {
   "cell_type": "code",
   "execution_count": 138,
   "metadata": {
    "id": "Of4Qf_7DpXOS"
   },
   "outputs": [
    {
     "name": "stdout",
     "output_type": "stream",
     "text": [
      "Current Tensorflow version used is: 2.11.0\n"
     ]
    }
   ],
   "source": [
    "import tensorflow as tf\n",
    "import numpy as np\n",
    "import matplotlib.pyplot as plt\n",
    "import pandas as pd\n",
    "import os\n",
    "\n",
    "print(\"Current Tensorflow version used is: \" + tf.__version__)"
   ]
  },
  {
   "attachments": {},
   "cell_type": "markdown",
   "metadata": {},
   "source": [
    "### Functions created for this assignment"
   ]
  },
  {
   "cell_type": "code",
   "execution_count": 139,
   "metadata": {},
   "outputs": [],
   "source": [
    "def plotSample(X, y , classes):\n",
    "    plt.imshow(X, cmap=plt.get_cmap('gray'))\n",
    "    plt.colorbar()\n",
    "    plt.xlabel(classes[y])\n",
    "    plt.show()\n",
    "    \n",
    "def plotAccuracyVsEpoch(history):\n",
    "    plt.plot(history.history['accuracy'])\n",
    "    plt.plot(history.history['val_accuracy'])\n",
    "    plt.title('Model Accuracy')\n",
    "    plt.ylabel('Accuracy')\n",
    "    plt.xlabel('Epoch')\n",
    "    plt.legend(['train', 'val'], loc='upper left')\n",
    "    plt.show()\n",
    "    \n",
    "    \n",
    "def plotLossVsEpoch(history):\n",
    "    plt.plot(history.history['loss'])\n",
    "    plt.plot(history.history['val_loss'])\n",
    "    plt.title('Model Loss')\n",
    "    plt.ylabel('loss')\n",
    "    plt.xlabel('epoch')\n",
    "    plt.legend(['train', 'val'], loc='upper left')\n",
    "    plt.show()"
   ]
  },
  {
   "attachments": {},
   "cell_type": "markdown",
   "metadata": {},
   "source": [
    "### Check if a GPU is detected or if CPU must be used to train the TensorFlow model."
   ]
  },
  {
   "cell_type": "code",
   "execution_count": 140,
   "metadata": {},
   "outputs": [
    {
     "name": "stdout",
     "output_type": "stream",
     "text": [
      "No physical devices\n",
      "Using CPU to train the model.\n"
     ]
    }
   ],
   "source": [
    "physical_devices = tf.config.list_physical_devices('GPU')\n",
    "\n",
    "if (len(physical_devices) > 0):\n",
    "    details = tf.config.experimental.get_device_details(physical_devices[0])\n",
    "    print(\"GPU detected!\")\n",
    "    print(\"Num GPUs:\", len(physical_devices))\n",
    "    print(\"GPU Type:\", details[\"device_name\"])\n",
    "    print(\"Compute Capability:\", details[\"compute_capability\"])\n",
    "else:\n",
    "    print(\"No physical devices\")\n",
    "    print(\"Using CPU to train the model.\")"
   ]
  },
  {
   "attachments": {},
   "cell_type": "markdown",
   "metadata": {},
   "source": [
    "### Create a variable to trigger training of the model or not.\n",
    "This is done because the whole notebook can be run at once. If a model is trained already, it would be time consuming to create another model."
   ]
  },
  {
   "cell_type": "code",
   "execution_count": 141,
   "metadata": {},
   "outputs": [],
   "source": [
    "TrainModel = True"
   ]
  },
  {
   "cell_type": "markdown",
   "metadata": {
    "id": "yWrbNzmtuhKG"
   },
   "source": [
    "# Load dataset & Plot a subset\n",
    "\n",
    "load your dataset and show a plot of the subset of your data"
   ]
  },
  {
   "attachments": {},
   "cell_type": "markdown",
   "metadata": {},
   "source": [
    "### Load the Fashion MNIST dataset and divide it into train and test datasets."
   ]
  },
  {
   "cell_type": "code",
   "execution_count": 142,
   "metadata": {
    "id": "kTZNxjTkul9u"
   },
   "outputs": [],
   "source": [
    "fashion_mnist = tf.keras.datasets.fashion_mnist\n",
    "(x_train, y_train), (x_test, y_test) = fashion_mnist.load_data()\n",
    "class_name = ['tshirt_top', 'trouser', 'pullover', 'dress', 'coat', 'sandal', 'shirt', 'sneaker', 'bag', 'ankle boot']"
   ]
  },
  {
   "attachments": {},
   "cell_type": "markdown",
   "metadata": {},
   "source": [
    "Show the train and test shape of the dataset."
   ]
  },
  {
   "cell_type": "code",
   "execution_count": 143,
   "metadata": {},
   "outputs": [
    {
     "name": "stdout",
     "output_type": "stream",
     "text": [
      "The shape of x_train is: (60000, 28, 28)\n",
      "The shape of y_train is: (60000,)\n",
      "The shape of x_test is: (10000, 28, 28)\n",
      "The shape of y_test is: (10000,)\n"
     ]
    }
   ],
   "source": [
    "print(\"The shape of x_train is: \" + str(x_train.shape))\n",
    "print(\"The shape of y_train is: \" + str(y_train.shape))\n",
    "print(\"The shape of x_test is: \" + str(x_test.shape))\n",
    "print(\"The shape of y_test is: \" + str(y_test.shape))"
   ]
  },
  {
   "cell_type": "code",
   "execution_count": 144,
   "metadata": {},
   "outputs": [
    {
     "data": {
      "image/png": "[encoded data removed]",
      "text/plain": [
       "<Figure size 640x480 with 2 Axes>"
      ]
     },
     "metadata": {},
     "output_type": "display_data"
    }
   ],
   "source": [
    "index = 12\n",
    "plotSample(x_train[index], y_train[index], class_name)"
   ]
  },
  {
   "cell_type": "markdown",
   "metadata": {
    "id": "O-P5qhvGumPu"
   },
   "source": [
    "# Prepare Data\n",
    "\n",
    "pre-process your raw input data... rescale... normalize...."
   ]
  },
  {
   "attachments": {},
   "cell_type": "markdown",
   "metadata": {},
   "source": [
    "The pictures in the dataset are already in a 28x28 pixel format.\n",
    "Also the data is in grayscale. If it would be RGB then the shape would be (60000, 28, 28, 3)."
   ]
  },
  {
   "attachments": {},
   "cell_type": "markdown",
   "metadata": {},
   "source": [
    "In the next steps, the x_train and x_test (Images) will be normalized by dividing them with 255.0.\n",
    "This results in output data ranging from 0 to 1 instead of 0 to 255. Which is easier to train for the model."
   ]
  },
  {
   "cell_type": "code",
   "execution_count": 145,
   "metadata": {},
   "outputs": [
    {
     "data": {
      "text/plain": [
       "array([[  0,   0,   0,   0,   0,   0,   0,   0,   0,   1,   0,   0,  18,\n",
       "        107, 119, 103,   9,   0,   0,   0,   0,   0,   0,   0,   0,   0,\n",
       "          0,   0],\n",
       "       [  0,   0,   0,   0,   0,   0,   0,   0,   0,   0,   0,  99, 155,\n",
       "        113,  61, 118, 173, 117,   0,   0,   3,   0,   0,   0,   0,   0,\n",
       "          0,   0],\n",
       "       [  0,   0,   0,   0,   0,   0,   0,   0,   1,   0, 110, 136,   0,\n",
       "          0,   0,   0,   0, 167, 159,   0,   0,   2,   0,   0,   0,   0,\n",
       "          0,   0],\n",
       "       [  0,   0,   0,   0,   0,   1,   0,   6,   0,  72, 147,   0,   0,\n",
       "          5,   0,   2,   0,   0, 174, 118,   0,   5,   0,   0,   0,   0,\n",
       "          0,   0],\n",
       "       [  0,   0,   0,   0,   0,   1,   5,   0,   0, 174,   4,   0,   4,\n",
       "          0,   0,   0,   0,   0,   0, 204,  44,   0,   4,   0,   0,   0,\n",
       "          0,   0],\n",
       "       [  0,   0,   0,   0,   0,   0,   8,   0, 125, 128,   0,   9,   0,\n",
       "          0,   0,   0,   0,   2,   0, 107, 152,   0,   6,   0,   0,   0,\n",
       "          0,   0],\n",
       "       [  0,   0,   0,   0,   0,   0,   0,   0, 184,   9,   0,   4,   0,\n",
       "          0,   0,   0,   0,   2,   0,   0, 190,   0,   0,   2,   0,   0,\n",
       "          0,   0],\n",
       "       [  0,   0,   0,   1,   0,   2,   0,  73, 158,   0,   0,   0,   0,\n",
       "          1,   0,   0,   0,   0,   4,   0, 157,  79,   0,   3,   1,   0,\n",
       "          0,   0],\n",
       "       [  0,   0,   2,   5,   1,   0,   0, 157,  98,   0,   2,   0,   0,\n",
       "          1,   0,   0,   0,   0,   5,   0, 121, 145,   0,   0,   0,   0,\n",
       "          0,   0],\n",
       "       [  0,   0,   0,   0,   0,   0,   0, 231,  84,   0,   2,   1,   1,\n",
       "          0,   0,   0,   0,   0,   1,   0,  92, 223,  16,   0,   7,   4,\n",
       "          1,   0],\n",
       "       [  0,   0,   0,   0,   0,   0,  38, 183,  81,   0,   0,   0,   2,\n",
       "          2,   1,   2,   1,   0,   1,   0, 120, 226,  57,   0,   0,   0,\n",
       "          0,   0],\n",
       "       [  0,   0, 173, 216, 193, 213, 183, 164, 167,  98,  16,   0,   0,\n",
       "          0,   0,   0,   0,   0,   0,   0, 107, 141, 111,  91,  90, 108,\n",
       "         50,   0],\n",
       "       [  0,   0, 185, 221, 217, 210, 202, 222, 200, 206, 202, 204, 109,\n",
       "         27,  12,  17,  61, 136, 180, 221, 202, 225, 208, 214, 223, 240,\n",
       "        162,   0],\n",
       "       [  0,   0, 183, 220, 205, 200, 193, 184, 189, 182, 173, 194, 215,\n",
       "        216, 205, 207, 207, 195, 185, 194, 194, 203, 212, 183, 193, 211,\n",
       "        153,   0],\n",
       "       [  0,   0, 190, 233, 203, 206, 214, 216, 195, 183, 176, 159, 175,\n",
       "        189, 202, 195, 186, 186, 182, 186, 195, 209, 235, 203, 202, 215,\n",
       "        136,   0],\n",
       "       [  0,   0, 180, 228, 201, 202, 188, 183, 178, 192, 186, 181, 181,\n",
       "        177, 204, 217, 175, 179, 184, 176, 166, 169, 175, 185, 152, 203,\n",
       "        107,   0],\n",
       "       [  0,   0, 167, 235, 200, 207, 207, 209, 207, 203, 198, 189, 182,\n",
       "        178, 186, 189, 178, 192, 197, 195, 192, 185, 184, 205, 187, 255,\n",
       "         61,   0],\n",
       "       [  0,   0, 152, 250, 208, 214, 209, 202, 200, 202, 205, 204, 200,\n",
       "        192, 198, 204, 195, 205, 206, 198, 199, 203, 214, 207, 179, 249,\n",
       "         55,   0],\n",
       "       [  0,   0, 126, 255, 211, 215, 210, 206, 203, 203, 203, 206, 204,\n",
       "        199, 206, 207, 200, 206, 201, 199, 202, 208, 215, 195, 174, 211,\n",
       "         15,   0],\n",
       "       [  0,   0, 107, 255, 212, 211, 210, 211, 208, 206, 206, 207, 208,\n",
       "        208, 217, 214, 205, 206, 204, 208, 211, 211, 220, 197, 182, 225,\n",
       "          0,   0],\n",
       "       [  0,   0,  63, 232, 211, 216, 212, 214, 212, 212, 214, 212, 211,\n",
       "        212, 223, 219, 210, 214, 213, 212, 211, 209, 217, 208, 168, 190,\n",
       "          0,   0],\n",
       "       [  0,   0,  14, 255, 218, 221, 215, 218, 218, 217, 215, 213, 211,\n",
       "        215, 228, 220, 216, 222, 217, 217, 216, 218, 212, 213, 189, 143,\n",
       "          0,   0],\n",
       "       [  0,   0,   0, 230, 227, 214, 217, 218, 216, 217, 217, 214, 216,\n",
       "        222, 226, 218, 218, 220, 219, 218, 217, 218, 217, 215, 216, 113,\n",
       "          0,   0],\n",
       "       [  0,   0,   0, 177, 233, 216, 223, 222, 213, 213, 215, 212, 220,\n",
       "        226, 221, 220, 221, 218, 222, 220, 220, 221, 217, 212, 219,  52,\n",
       "          0,   0],\n",
       "       [  0,   0,   0,  10, 223, 222, 220, 211, 213, 215, 220, 222, 226,\n",
       "        226, 221, 223, 222, 222, 221, 218, 220, 219, 220, 223, 174,   0,\n",
       "          0,   0],\n",
       "       [  0,   0,   0,   0, 126, 241, 208, 210, 214, 214, 216, 216, 220,\n",
       "        220, 214, 213, 212, 212, 210, 215, 217, 218, 215, 236,  42,   0,\n",
       "          1,   0],\n",
       "       [  0,   0,   0,   0,   0, 188, 237, 230, 233, 255, 255, 255, 255,\n",
       "        255, 255, 255, 255, 255, 255, 255, 231, 229, 239, 161,   0,   0,\n",
       "          0,   0],\n",
       "       [  0,   0,   0,   0,   0,   0,  63,  95, 108, 105, 100, 103, 104,\n",
       "        105, 102, 100,  98,  97,  96,  90,  80,  83,  60,   0,   0,   0,\n",
       "          0,   0]], dtype=uint8)"
      ]
     },
     "execution_count": 145,
     "metadata": {},
     "output_type": "execute_result"
    }
   ],
   "source": [
    "x_train[100]"
   ]
  },
  {
   "cell_type": "code",
   "execution_count": 146,
   "metadata": {},
   "outputs": [],
   "source": [
    "x_train = x_train / 255.0\n",
    "x_test = x_test / 255.0"
   ]
  },
  {
   "cell_type": "code",
   "execution_count": 147,
   "metadata": {},
   "outputs": [
    {
     "data": {
      "text/plain": [
       "array([[0.        , 0.        , 0.        , 0.        , 0.        ,\n",
       "        0.        , 0.        , 0.        , 0.        , 0.00392157,\n",
       "        0.        , 0.        , 0.07058824, 0.41960784, 0.46666667,\n",
       "        0.40392157, 0.03529412, 0.        , 0.        , 0.        ,\n",
       "        0.        , 0.        , 0.        , 0.        , 0.        ,\n",
       "        0.        , 0.        , 0.        ],\n",
       "       [0.        , 0.        , 0.        , 0.        , 0.        ,\n",
       "        0.        , 0.        , 0.        , 0.        , 0.        ,\n",
       "        0.        , 0.38823529, 0.60784314, 0.44313725, 0.23921569,\n",
       "        0.4627451 , 0.67843137, 0.45882353, 0.        , 0.        ,\n",
       "        0.01176471, 0.        , 0.        , 0.        , 0.        ,\n",
       "        0.        , 0.        , 0.        ],\n",
       "       [0.        , 0.        , 0.        , 0.        , 0.        ,\n",
       "        0.        , 0.        , 0.        , 0.00392157, 0.        ,\n",
       "        0.43137255, 0.53333333, 0.        , 0.        , 0.        ,\n",
       "        0.        , 0.        , 0.65490196, 0.62352941, 0.        ,\n",
       "        0.        , 0.00784314, 0.        , 0.        , 0.        ,\n",
       "        0.        , 0.        , 0.        ],\n",
       "       [0.        , 0.        , 0.        , 0.        , 0.        ,\n",
       "        0.00392157, 0.        , 0.02352941, 0.        , 0.28235294,\n",
       "        0.57647059, 0.        , 0.        , 0.01960784, 0.        ,\n",
       "        0.00784314, 0.        , 0.        , 0.68235294, 0.4627451 ,\n",
       "        0.        , 0.01960784, 0.        , 0.        , 0.        ,\n",
       "        0.        , 0.        , 0.        ],\n",
       "       [0.        , 0.        , 0.        , 0.        , 0.        ,\n",
       "        0.00392157, 0.01960784, 0.        , 0.        , 0.68235294,\n",
       "        0.01568627, 0.        , 0.01568627, 0.        , 0.        ,\n",
       "        0.        , 0.        , 0.        , 0.        , 0.8       ,\n",
       "        0.17254902, 0.        , 0.01568627, 0.        , 0.        ,\n",
       "        0.        , 0.        , 0.        ],\n",
       "       [0.        , 0.        , 0.        , 0.        , 0.        ,\n",
       "        0.        , 0.03137255, 0.        , 0.49019608, 0.50196078,\n",
       "        0.        , 0.03529412, 0.        , 0.        , 0.        ,\n",
       "        0.        , 0.        , 0.00784314, 0.        , 0.41960784,\n",
       "        0.59607843, 0.        , 0.02352941, 0.        , 0.        ,\n",
       "        0.        , 0.        , 0.        ],\n",
       "       [0.        , 0.        , 0.        , 0.        , 0.        ,\n",
       "        0.        , 0.        , 0.        , 0.72156863, 0.03529412,\n",
       "        0.        , 0.01568627, 0.        , 0.        , 0.        ,\n",
       "        0.        , 0.        , 0.00784314, 0.        , 0.        ,\n",
       "        0.74509804, 0.        , 0.        , 0.00784314, 0.        ,\n",
       "        0.        , 0.        , 0.        ],\n",
       "       [0.        , 0.        , 0.        , 0.00392157, 0.        ,\n",
       "        0.00784314, 0.        , 0.28627451, 0.61960784, 0.        ,\n",
       "        0.        , 0.        , 0.        , 0.00392157, 0.        ,\n",
       "        0.        , 0.        , 0.        , 0.01568627, 0.        ,\n",
       "        0.61568627, 0.30980392, 0.        , 0.01176471, 0.00392157,\n",
       "        0.        , 0.        , 0.        ],\n",
       "       [0.        , 0.        , 0.00784314, 0.01960784, 0.00392157,\n",
       "        0.        , 0.        , 0.61568627, 0.38431373, 0.        ,\n",
       "        0.00784314, 0.        , 0.        , 0.00392157, 0.        ,\n",
       "        0.        , 0.        , 0.        , 0.01960784, 0.        ,\n",
       "        0.4745098 , 0.56862745, 0.        , 0.        , 0.        ,\n",
       "        0.        , 0.        , 0.        ],\n",
       "       [0.        , 0.        , 0.        , 0.        , 0.        ,\n",
       "        0.        , 0.        , 0.90588235, 0.32941176, 0.        ,\n",
       "        0.00784314, 0.00392157, 0.00392157, 0.        , 0.        ,\n",
       "        0.        , 0.        , 0.        , 0.00392157, 0.        ,\n",
       "        0.36078431, 0.8745098 , 0.0627451 , 0.        , 0.02745098,\n",
       "        0.01568627, 0.00392157, 0.        ],\n",
       "       [0.        , 0.        , 0.        , 0.        , 0.        ,\n",
       "        0.        , 0.14901961, 0.71764706, 0.31764706, 0.        ,\n",
       "        0.        , 0.        , 0.00784314, 0.00784314, 0.00392157,\n",
       "        0.00784314, 0.00392157, 0.        , 0.00392157, 0.        ,\n",
       "        0.47058824, 0.88627451, 0.22352941, 0.        , 0.        ,\n",
       "        0.        , 0.        , 0.        ],\n",
       "       [0.        , 0.        , 0.67843137, 0.84705882, 0.75686275,\n",
       "        0.83529412, 0.71764706, 0.64313725, 0.65490196, 0.38431373,\n",
       "        0.0627451 , 0.        , 0.        , 0.        , 0.        ,\n",
       "        0.        , 0.        , 0.        , 0.        , 0.        ,\n",
       "        0.41960784, 0.55294118, 0.43529412, 0.35686275, 0.35294118,\n",
       "        0.42352941, 0.19607843, 0.        ],\n",
       "       [0.        , 0.        , 0.7254902 , 0.86666667, 0.85098039,\n",
       "        0.82352941, 0.79215686, 0.87058824, 0.78431373, 0.80784314,\n",
       "        0.79215686, 0.8       , 0.42745098, 0.10588235, 0.04705882,\n",
       "        0.06666667, 0.23921569, 0.53333333, 0.70588235, 0.86666667,\n",
       "        0.79215686, 0.88235294, 0.81568627, 0.83921569, 0.8745098 ,\n",
       "        0.94117647, 0.63529412, 0.        ],\n",
       "       [0.        , 0.        , 0.71764706, 0.8627451 , 0.80392157,\n",
       "        0.78431373, 0.75686275, 0.72156863, 0.74117647, 0.71372549,\n",
       "        0.67843137, 0.76078431, 0.84313725, 0.84705882, 0.80392157,\n",
       "        0.81176471, 0.81176471, 0.76470588, 0.7254902 , 0.76078431,\n",
       "        0.76078431, 0.79607843, 0.83137255, 0.71764706, 0.75686275,\n",
       "        0.82745098, 0.6       , 0.        ],\n",
       "       [0.        , 0.        , 0.74509804, 0.91372549, 0.79607843,\n",
       "        0.80784314, 0.83921569, 0.84705882, 0.76470588, 0.71764706,\n",
       "        0.69019608, 0.62352941, 0.68627451, 0.74117647, 0.79215686,\n",
       "        0.76470588, 0.72941176, 0.72941176, 0.71372549, 0.72941176,\n",
       "        0.76470588, 0.81960784, 0.92156863, 0.79607843, 0.79215686,\n",
       "        0.84313725, 0.53333333, 0.        ],\n",
       "       [0.        , 0.        , 0.70588235, 0.89411765, 0.78823529,\n",
       "        0.79215686, 0.7372549 , 0.71764706, 0.69803922, 0.75294118,\n",
       "        0.72941176, 0.70980392, 0.70980392, 0.69411765, 0.8       ,\n",
       "        0.85098039, 0.68627451, 0.70196078, 0.72156863, 0.69019608,\n",
       "        0.65098039, 0.6627451 , 0.68627451, 0.7254902 , 0.59607843,\n",
       "        0.79607843, 0.41960784, 0.        ],\n",
       "       [0.        , 0.        , 0.65490196, 0.92156863, 0.78431373,\n",
       "        0.81176471, 0.81176471, 0.81960784, 0.81176471, 0.79607843,\n",
       "        0.77647059, 0.74117647, 0.71372549, 0.69803922, 0.72941176,\n",
       "        0.74117647, 0.69803922, 0.75294118, 0.77254902, 0.76470588,\n",
       "        0.75294118, 0.7254902 , 0.72156863, 0.80392157, 0.73333333,\n",
       "        1.        , 0.23921569, 0.        ],\n",
       "       [0.        , 0.        , 0.59607843, 0.98039216, 0.81568627,\n",
       "        0.83921569, 0.81960784, 0.79215686, 0.78431373, 0.79215686,\n",
       "        0.80392157, 0.8       , 0.78431373, 0.75294118, 0.77647059,\n",
       "        0.8       , 0.76470588, 0.80392157, 0.80784314, 0.77647059,\n",
       "        0.78039216, 0.79607843, 0.83921569, 0.81176471, 0.70196078,\n",
       "        0.97647059, 0.21568627, 0.        ],\n",
       "       [0.        , 0.        , 0.49411765, 1.        , 0.82745098,\n",
       "        0.84313725, 0.82352941, 0.80784314, 0.79607843, 0.79607843,\n",
       "        0.79607843, 0.80784314, 0.8       , 0.78039216, 0.80784314,\n",
       "        0.81176471, 0.78431373, 0.80784314, 0.78823529, 0.78039216,\n",
       "        0.79215686, 0.81568627, 0.84313725, 0.76470588, 0.68235294,\n",
       "        0.82745098, 0.05882353, 0.        ],\n",
       "       [0.        , 0.        , 0.41960784, 1.        , 0.83137255,\n",
       "        0.82745098, 0.82352941, 0.82745098, 0.81568627, 0.80784314,\n",
       "        0.80784314, 0.81176471, 0.81568627, 0.81568627, 0.85098039,\n",
       "        0.83921569, 0.80392157, 0.80784314, 0.8       , 0.81568627,\n",
       "        0.82745098, 0.82745098, 0.8627451 , 0.77254902, 0.71372549,\n",
       "        0.88235294, 0.        , 0.        ],\n",
       "       [0.        , 0.        , 0.24705882, 0.90980392, 0.82745098,\n",
       "        0.84705882, 0.83137255, 0.83921569, 0.83137255, 0.83137255,\n",
       "        0.83921569, 0.83137255, 0.82745098, 0.83137255, 0.8745098 ,\n",
       "        0.85882353, 0.82352941, 0.83921569, 0.83529412, 0.83137255,\n",
       "        0.82745098, 0.81960784, 0.85098039, 0.81568627, 0.65882353,\n",
       "        0.74509804, 0.        , 0.        ],\n",
       "       [0.        , 0.        , 0.05490196, 1.        , 0.85490196,\n",
       "        0.86666667, 0.84313725, 0.85490196, 0.85490196, 0.85098039,\n",
       "        0.84313725, 0.83529412, 0.82745098, 0.84313725, 0.89411765,\n",
       "        0.8627451 , 0.84705882, 0.87058824, 0.85098039, 0.85098039,\n",
       "        0.84705882, 0.85490196, 0.83137255, 0.83529412, 0.74117647,\n",
       "        0.56078431, 0.        , 0.        ],\n",
       "       [0.        , 0.        , 0.        , 0.90196078, 0.89019608,\n",
       "        0.83921569, 0.85098039, 0.85490196, 0.84705882, 0.85098039,\n",
       "        0.85098039, 0.83921569, 0.84705882, 0.87058824, 0.88627451,\n",
       "        0.85490196, 0.85490196, 0.8627451 , 0.85882353, 0.85490196,\n",
       "        0.85098039, 0.85490196, 0.85098039, 0.84313725, 0.84705882,\n",
       "        0.44313725, 0.        , 0.        ],\n",
       "       [0.        , 0.        , 0.        , 0.69411765, 0.91372549,\n",
       "        0.84705882, 0.8745098 , 0.87058824, 0.83529412, 0.83529412,\n",
       "        0.84313725, 0.83137255, 0.8627451 , 0.88627451, 0.86666667,\n",
       "        0.8627451 , 0.86666667, 0.85490196, 0.87058824, 0.8627451 ,\n",
       "        0.8627451 , 0.86666667, 0.85098039, 0.83137255, 0.85882353,\n",
       "        0.20392157, 0.        , 0.        ],\n",
       "       [0.        , 0.        , 0.        , 0.03921569, 0.8745098 ,\n",
       "        0.87058824, 0.8627451 , 0.82745098, 0.83529412, 0.84313725,\n",
       "        0.8627451 , 0.87058824, 0.88627451, 0.88627451, 0.86666667,\n",
       "        0.8745098 , 0.87058824, 0.87058824, 0.86666667, 0.85490196,\n",
       "        0.8627451 , 0.85882353, 0.8627451 , 0.8745098 , 0.68235294,\n",
       "        0.        , 0.        , 0.        ],\n",
       "       [0.        , 0.        , 0.        , 0.        , 0.49411765,\n",
       "        0.94509804, 0.81568627, 0.82352941, 0.83921569, 0.83921569,\n",
       "        0.84705882, 0.84705882, 0.8627451 , 0.8627451 , 0.83921569,\n",
       "        0.83529412, 0.83137255, 0.83137255, 0.82352941, 0.84313725,\n",
       "        0.85098039, 0.85490196, 0.84313725, 0.9254902 , 0.16470588,\n",
       "        0.        , 0.00392157, 0.        ],\n",
       "       [0.        , 0.        , 0.        , 0.        , 0.        ,\n",
       "        0.7372549 , 0.92941176, 0.90196078, 0.91372549, 1.        ,\n",
       "        1.        , 1.        , 1.        , 1.        , 1.        ,\n",
       "        1.        , 1.        , 1.        , 1.        , 1.        ,\n",
       "        0.90588235, 0.89803922, 0.9372549 , 0.63137255, 0.        ,\n",
       "        0.        , 0.        , 0.        ],\n",
       "       [0.        , 0.        , 0.        , 0.        , 0.        ,\n",
       "        0.        , 0.24705882, 0.37254902, 0.42352941, 0.41176471,\n",
       "        0.39215686, 0.40392157, 0.40784314, 0.41176471, 0.4       ,\n",
       "        0.39215686, 0.38431373, 0.38039216, 0.37647059, 0.35294118,\n",
       "        0.31372549, 0.3254902 , 0.23529412, 0.        , 0.        ,\n",
       "        0.        , 0.        , 0.        ]])"
      ]
     },
     "execution_count": 147,
     "metadata": {},
     "output_type": "execute_result"
    }
   ],
   "source": [
    "x_train[100]"
   ]
  },
  {
   "cell_type": "code",
   "execution_count": 148,
   "metadata": {},
   "outputs": [
    {
     "data": {
      "text/plain": [
       "(60000, 28, 28)"
      ]
     },
     "execution_count": 148,
     "metadata": {},
     "output_type": "execute_result"
    }
   ],
   "source": [
    "x_train.shape"
   ]
  },
  {
   "cell_type": "code",
   "execution_count": 149,
   "metadata": {},
   "outputs": [],
   "source": [
    "y_train_onehot = tf.keras.utils.to_categorical(y_train)\n",
    "y_test_onehot = tf.keras.utils.to_categorical(y_test)"
   ]
  },
  {
   "cell_type": "markdown",
   "metadata": {
    "id": "t5t5_38HupW3"
   },
   "source": [
    "# Fit the Model\n",
    "\n",
    "Fitting the model is the time consuming part, this depend on the complexity of the model and the amount of training data.\n",
    "In the fitting process the model is first build up in memory with all the tunable parameters and intercomnnects (with random start values). This is also the limitation of some systems, all these parameters are stored in memory (or when not fitting in a swap file)\n",
    "\n",
    "**TIP:** do not start the first time with training a lot of epochs, first see if this and all following steps in your system work and when you are sure that all works train your final model. You can also monitor the Jetson CPU/GPU/Memory performance during this process (see Tips & Tricks)\n",
    "\n",
    "* Explain what hyperparameters are available and what they do.\n",
    "* Which hyperparameter result in better training results?"
   ]
  },
  {
   "cell_type": "code",
   "execution_count": 150,
   "metadata": {},
   "outputs": [
    {
     "name": "stdout",
     "output_type": "stream",
     "text": [
      "Model: \"sequential_3\"\n",
      "_________________________________________________________________\n",
      " Layer (type)                Output Shape              Param #   \n",
      "=================================================================\n",
      " flatten_3 (Flatten)         (None, 784)               0         \n",
      "                                                                 \n",
      " dense_6 (Dense)             (None, 128)               100480    \n",
      "                                                                 \n",
      " dense_7 (Dense)             (None, 10)                1290      \n",
      "                                                                 \n",
      "=================================================================\n",
      "Total params: 101,770\n",
      "Trainable params: 101,770\n",
      "Non-trainable params: 0\n",
      "_________________________________________________________________\n"
     ]
    }
   ],
   "source": [
    "model = tf.keras.models.Sequential()\n",
    "model.add(tf.keras.layers.Flatten(input_shape = (28,28)))\n",
    "model.add(tf.keras.layers.Dense(128, activation = \"relu\"))\n",
    "model.add(tf.keras.layers.Dense(10))\n",
    "\n",
    "model.compile(loss=tf.keras.losses.SparseCategoricalCrossentropy(from_logits=True),\n",
    "              optimizer='adam', \n",
    "              metrics=['accuracy'])\n",
    "model.summary()"
   ]
  },
  {
   "cell_type": "code",
   "execution_count": 151,
   "metadata": {},
   "outputs": [
    {
     "name": "stdout",
     "output_type": "stream",
     "text": [
      "Epoch 1/50\n",
      "1250/1250 [==============================] - 2s 1ms/step - loss: 0.5105 - accuracy: 0.8217 - val_loss: 0.4748 - val_accuracy: 0.8341 - lr: 0.0010\n",
      "Epoch 2/50\n",
      "1250/1250 [==============================] - 2s 1ms/step - loss: 0.3812 - accuracy: 0.8634 - val_loss: 0.4060 - val_accuracy: 0.8573 - lr: 0.0010\n",
      "Epoch 3/50\n",
      "1250/1250 [==============================] - 2s 1ms/step - loss: 0.3455 - accuracy: 0.8748 - val_loss: 0.3697 - val_accuracy: 0.8704 - lr: 0.0010\n",
      "Epoch 4/50\n",
      "1250/1250 [==============================] - 2s 1ms/step - loss: 0.3177 - accuracy: 0.8846 - val_loss: 0.3751 - val_accuracy: 0.8670 - lr: 0.0010\n",
      "Epoch 5/50\n",
      "1250/1250 [==============================] - 2s 1ms/step - loss: 0.2977 - accuracy: 0.8903 - val_loss: 0.3537 - val_accuracy: 0.8726 - lr: 0.0010\n",
      "Epoch 6/50\n",
      "1250/1250 [==============================] - 2s 1ms/step - loss: 0.2838 - accuracy: 0.8964 - val_loss: 0.3389 - val_accuracy: 0.8795 - lr: 0.0010\n"
     ]
    }
   ],
   "source": [
    "if TrainModel:\n",
    "    checkpoint = tf.keras.callbacks.ModelCheckpoint(\"./model.h5\", monitor='val_acc', verbose=1, save_best_only=True, mode='max')\n",
    "\n",
    "    es = tf.keras.callbacks.EarlyStopping(monitor='val_loss', mode='max', patience=5,  restore_best_weights=True)\n",
    "\n",
    "    reduce_learningrate = tf.keras.callbacks.ReduceLROnPlateau(monitor='val_loss',\n",
    "                                factor=0.2,\n",
    "                                patience=3,\n",
    "                                verbose=1,\n",
    "                                min_delta=0.0001)\n",
    "\n",
    "    callbacks_list = [es, reduce_learningrate]\n",
    "    history = model.fit(x_train, y_train, epochs=50, batch_size=48, validation_data=(x_test, y_test), callbacks=[callbacks_list])"
   ]
  },
  {
   "cell_type": "markdown",
   "metadata": {
    "id": "WdzrdzNeusno"
   },
   "source": [
    "# Evaluate Model\n",
    "\n",
    "Show the model accuracy after the training process ...\n",
    "* What is the final accuracy of the trained Network?"
   ]
  },
  {
   "cell_type": "code",
   "execution_count": 152,
   "metadata": {},
   "outputs": [
    {
     "name": "stdout",
     "output_type": "stream",
     "text": [
      "10000/10000 [==============================] - 7s 722us/step - loss: 0.4748 - accuracy: 0.8341\n",
      "Validated loss: 0.4748241603374481 , Validated Accuracy: 0.8341000080108643\n"
     ]
    }
   ],
   "source": [
    "val_loss, val_acc = model.evaluate(x_test, y_test, batch_size= 1)\n",
    "print(f\"Validated loss: {val_loss} , Validated Accuracy: {val_acc}\")"
   ]
  },
  {
   "cell_type": "code",
   "execution_count": 153,
   "metadata": {},
   "outputs": [],
   "source": [
    "def plotAccuracyVsEpoch(history):\n",
    "    plt.plot(history.history['accuracy'])\n",
    "    plt.plot(history.history['val_accuracy'])\n",
    "    plt.title('Model Accuracy')\n",
    "    plt.ylabel('Accuracy')\n",
    "    plt.xlabel('Epoch')\n",
    "    plt.legend(['train', 'val'], loc='upper left')\n",
    "    plt.show()\n",
    "    \n",
    "    \n",
    "def plotLossVsEpoch(history):\n",
    "    plt.plot(history.history['loss'])\n",
    "    plt.plot(history.history['val_loss'])\n",
    "    plt.title('Model Loss')\n",
    "    plt.ylabel('loss')\n",
    "    plt.xlabel('epoch')\n",
    "    plt.legend(['train', 'val'], loc='upper left')\n",
    "    plt.show()"
   ]
  },
  {
   "cell_type": "code",
   "execution_count": 154,
   "metadata": {},
   "outputs": [
    {
     "data": {
      "image/png": "[encoded data removed]",
      "text/plain": [
       "<Figure size 640x480 with 1 Axes>"
      ]
     },
     "metadata": {},
     "output_type": "display_data"
    }
   ],
   "source": [
    "plotAccuracyVsEpoch(history)"
   ]
  },
  {
   "cell_type": "code",
   "execution_count": 155,
   "metadata": {},
   "outputs": [
    {
     "data": {
      "image/png": "[encoded data removed]",
      "text/plain": [
       "<Figure size 640x480 with 1 Axes>"
      ]
     },
     "metadata": {},
     "output_type": "display_data"
    }
   ],
   "source": [
    "plotLossVsEpoch(history)"
   ]
  },
  {
   "cell_type": "markdown",
   "metadata": {
    "id": "l8a1ovA8uyMX"
   },
   "source": [
    "# Save model\n",
    "\n",
    "Save the model for later usage"
   ]
  },
  {
   "cell_type": "code",
   "execution_count": 156,
   "metadata": {},
   "outputs": [
    {
     "name": "stderr",
     "output_type": "stream",
     "text": [
      "WARNING:absl:Found untraced functions such as _update_step_xla while saving (showing 1 of 1). These functions will not be directly callable after loading.\n"
     ]
    },
    {
     "name": "stdout",
     "output_type": "stream",
     "text": [
      "INFO:tensorflow:Assets written to: saved_models/model4\\assets\n"
     ]
    },
    {
     "name": "stderr",
     "output_type": "stream",
     "text": [
      "INFO:tensorflow:Assets written to: saved_models/model4\\assets\n"
     ]
    }
   ],
   "source": [
    "model.save('saved_models/model'+ str(\"4\"))"
   ]
  },
  {
   "cell_type": "markdown",
   "metadata": {
    "id": "BbK5-OQ4u32A"
   },
   "source": [
    "# Evaluate Final Model\n",
    "\n",
    "After training and saving the model you can deploy this model on any given input image. You can start a new application in where you import this model and apply it on any given imput images, so you can just load the model and don't need the timeconsuming training anymore."
   ]
  },
  {
   "cell_type": "code",
   "execution_count": 157,
   "metadata": {},
   "outputs": [],
   "source": [
    "test_model = tf.keras.models.load_model(\"./saved_models/model4/\")"
   ]
  },
  {
   "cell_type": "markdown",
   "metadata": {
    "id": "uqEeHGjG3fsd"
   },
   "source": [
    "## Make Prediction\n",
    "\n",
    "We can use our saved model to make a prediction on new images that are not trained on... make sure the input images receive the same pre-processing as the images you trained on.\n",
    "\n",
    "So fetch some images from the internet (similar classes, but not from your dataset), prepare them to fit your network and classify them. Do this for  **10 images per class** and show the results!\n",
    "\n",
    "* How good is the detection on you real dataset? (show some statistics) "
   ]
  },
  {
   "cell_type": "code",
   "execution_count": 158,
   "metadata": {},
   "outputs": [],
   "source": [
    "import pathlib\n",
    "import PIL\n",
    "data_dir = pathlib.Path(\"./testset/datasetTest/\")"
   ]
  },
  {
   "cell_type": "code",
   "execution_count": 159,
   "metadata": {},
   "outputs": [
    {
     "name": "stdout",
     "output_type": "stream",
     "text": [
      "100\n"
     ]
    }
   ],
   "source": [
    "jpgImages =  len(list(data_dir.glob('*/*.jpg')))\n",
    "jpegImages = len(list(data_dir.glob('*/*.jpeg')))\t\n",
    "\n",
    "image_count = jpgImages + jpegImages\n",
    "print(image_count)"
   ]
  },
  {
   "cell_type": "code",
   "execution_count": 160,
   "metadata": {},
   "outputs": [
    {
     "data": {
      "image/png": "[encoded data removed]",
      "text/plain": [
       "<PIL.JpegImagePlugin.JpegImageFile image mode=L size=612x612>"
      ]
     },
     "execution_count": 160,
     "metadata": {},
     "output_type": "execute_result"
    }
   ],
   "source": [
    "bag = list(data_dir.glob('Bag/*'))\n",
    "PIL.Image.open(str(bag[3]))"
   ]
  },
  {
   "cell_type": "code",
   "execution_count": 161,
   "metadata": {},
   "outputs": [],
   "source": [
    "from pathlib import Path\n",
    "import imghdr\n",
    "\n",
    "data_dir = \"./testset/datasetTest\"\n",
    "image_extensions = [\".png\", \".jpg\"]  # add there all your images file extensions\n",
    "\n",
    "img_type_accepted_by_tf = [\"bmp\", \"gif\", \"jpeg\", \"png\"]\n",
    "for filepath in Path(data_dir).rglob(\"*\"):\n",
    "    if filepath.suffix.lower() in image_extensions:\n",
    "        img_type = imghdr.what(filepath)\n",
    "        if img_type is None:\n",
    "            print(f\"{filepath} is not an image\")\n",
    "        elif img_type not in img_type_accepted_by_tf:\n",
    "            print(f\"{filepath} is a {img_type}, not accepted by TensorFlow\")"
   ]
  },
  {
   "cell_type": "code",
   "execution_count": 162,
   "metadata": {},
   "outputs": [
    {
     "name": "stdout",
     "output_type": "stream",
     "text": [
      "Found 100 files belonging to 10 classes.\n"
     ]
    }
   ],
   "source": [
    "batch_size = 100\n",
    "img_height = 28\n",
    "img_width = 28\n",
    "\n",
    "\n",
    "test_ds = tf.keras.utils.image_dataset_from_directory(\n",
    "  data_dir,\n",
    "  seed=123,\n",
    "  color_mode= 'grayscale',\n",
    "  image_size=(img_height, img_width),\n",
    "  batch_size=batch_size)"
   ]
  },
  {
   "cell_type": "code",
   "execution_count": 163,
   "metadata": {},
   "outputs": [
    {
     "name": "stdout",
     "output_type": "stream",
     "text": [
      "['ankle boot', 'bag', 'coat', 'dress', 'pullover', 'sandal', 'shirt', 'sneaker', 'trouser', 'tshirt_top']\n"
     ]
    }
   ],
   "source": [
    "class_names = test_ds.class_names\n",
    "print(class_names)"
   ]
  },
  {
   "cell_type": "code",
   "execution_count": 164,
   "metadata": {},
   "outputs": [],
   "source": [
    "def inverseImageBW_array(originalImage):\n",
    "    temp = 1 - originalImage\n",
    "    temp = -1.* originalImage\n",
    "    return temp"
   ]
  },
  {
   "cell_type": "code",
   "execution_count": 165,
   "metadata": {},
   "outputs": [
    {
     "data": {
      "image/png": "[encoded data removed]",
      "text/plain": [
       "<Figure size 1000x1000 with 9 Axes>"
      ]
     },
     "metadata": {},
     "output_type": "display_data"
    }
   ],
   "source": [
    "import matplotlib.pyplot as plt\n",
    "\n",
    "plt.figure(figsize=(10, 10))\n",
    "for images, labels in test_ds.take(1):\n",
    "  for i in range(9):\n",
    "    ax = plt.subplot(3, 3, i + 1)\n",
    "    plt.imshow(inverseImageBW_array(images[i].numpy().astype(\"uint8\")), cmap = 'gray')\n",
    "    plt.title(class_names[labels[i]])\n",
    "    plt.axis(\"off\")"
   ]
  },
  {
   "cell_type": "code",
   "execution_count": 166,
   "metadata": {},
   "outputs": [],
   "source": [
    "for image_batch, labels_batch in test_ds:\n",
    "    x_validation = image_batch\n",
    "    y_validation = labels_batch\n",
    "\n",
    "y_validation_onehot = tf.keras.utils.to_categorical(y_validation, 10)\n",
    "\n",
    "\n",
    "x_validation = inverseImageBW_array(np.array(x_validation) / 255)\n",
    "y_validation = np.array(y_validation)\n",
    "y_validation_onehot = np.array(y_validation_onehot)"
   ]
  },
  {
   "cell_type": "code",
   "execution_count": 167,
   "metadata": {},
   "outputs": [
    {
     "data": {
      "text/plain": [
       "<tf.Tensor: shape=(100,), dtype=int32, numpy=\n",
       "array([7, 8, 5, 7, 0, 4, 1, 2, 8, 7, 7, 4, 5, 4, 2, 0, 4, 9, 0, 2, 8, 9,\n",
       "       7, 6, 1, 3, 5, 9, 6, 6, 7, 8, 1, 4, 2, 7, 8, 2, 1, 0, 1, 3, 6, 8,\n",
       "       4, 5, 3, 5, 9, 5, 0, 9, 3, 8, 3, 3, 6, 2, 6, 5, 1, 6, 2, 7, 7, 3,\n",
       "       1, 0, 0, 2, 1, 9, 9, 0, 4, 1, 4, 4, 1, 8, 3, 5, 5, 2, 4, 5, 3, 2,\n",
       "       9, 7, 3, 0, 8, 9, 6, 6, 8, 0, 6, 9])>"
      ]
     },
     "execution_count": 167,
     "metadata": {},
     "output_type": "execute_result"
    }
   ],
   "source": [
    "labels_batch"
   ]
  },
  {
   "cell_type": "code",
   "execution_count": 168,
   "metadata": {},
   "outputs": [],
   "source": [
    "x_validation = np.reshape(x_validation, (100,28,28))"
   ]
  },
  {
   "cell_type": "code",
   "execution_count": 169,
   "metadata": {},
   "outputs": [
    {
     "data": {
      "text/plain": [
       "(100, 28, 28)"
      ]
     },
     "execution_count": 169,
     "metadata": {},
     "output_type": "execute_result"
    }
   ],
   "source": [
    "x_validation.shape"
   ]
  },
  {
   "cell_type": "code",
   "execution_count": 170,
   "metadata": {},
   "outputs": [
    {
     "data": {
      "image/png": "[encoded data removed]",
      "text/plain": [
       "<Figure size 640x480 with 2 Axes>"
      ]
     },
     "metadata": {},
     "output_type": "display_data"
    }
   ],
   "source": [
    "plotSample(x_validation[2], y_validation[2], class_names)"
   ]
  },
  {
   "cell_type": "code",
   "execution_count": 171,
   "metadata": {},
   "outputs": [],
   "source": [
    "#print(\"Generate predictions for 4 samples\")\n",
    "#predictions = test_model.predict(x_validation[:100])\n",
    "#print(\"predictions shape:\", predictions.shape)\n",
    "\n",
    "#predictionClasses = np.argmax(predictions, axis=1)\n",
    "\n"
   ]
  },
  {
   "cell_type": "code",
   "execution_count": 172,
   "metadata": {},
   "outputs": [
    {
     "name": "stdout",
     "output_type": "stream",
     "text": [
      "WARNING:tensorflow:5 out of the last 6 calls to <function Model.make_predict_function.<locals>.predict_function at 0x0000022622600B80> triggered tf.function retracing. Tracing is expensive and the excessive number of tracings could be due to (1) creating @tf.function repeatedly in a loop, (2) passing tensors with different shapes, (3) passing Python objects instead of tensors. For (1), please define your @tf.function outside of the loop. For (2), @tf.function has reduce_retracing=True option that can avoid unnecessary retracing. For (3), please refer to https://www.tensorflow.org/guide/function#controlling_retracing and https://www.tensorflow.org/api_docs/python/tf/function for  more details.\n"
     ]
    },
    {
     "name": "stderr",
     "output_type": "stream",
     "text": [
      "WARNING:tensorflow:5 out of the last 6 calls to <function Model.make_predict_function.<locals>.predict_function at 0x0000022622600B80> triggered tf.function retracing. Tracing is expensive and the excessive number of tracings could be due to (1) creating @tf.function repeatedly in a loop, (2) passing tensors with different shapes, (3) passing Python objects instead of tensors. For (1), please define your @tf.function outside of the loop. For (2), @tf.function has reduce_retracing=True option that can avoid unnecessary retracing. For (3), please refer to https://www.tensorflow.org/guide/function#controlling_retracing and https://www.tensorflow.org/api_docs/python/tf/function for  more details.\n"
     ]
    }
   ],
   "source": [
    "predictions = test_model.predict_on_batch(x_validation)\n",
    "predictionClasses = np.argmax(predictions, axis=1)"
   ]
  },
  {
   "cell_type": "code",
   "execution_count": 173,
   "metadata": {},
   "outputs": [
    {
     "data": {
      "text/plain": [
       "array([[-13.118587  , -23.269855  , -15.284706  , -17.900913  ,\n",
       "        -11.562066  ,  28.277765  , -17.535913  ,  -9.699055  ,\n",
       "        -27.41658   , -29.065783  ],\n",
       "       [-14.422288  , -18.409327  , -12.176766  , -15.991936  ,\n",
       "         -6.552281  ,  26.913534  , -14.441225  , -11.758386  ,\n",
       "        -28.452137  , -29.410091  ],\n",
       "       [-15.945821  , -23.579962  , -17.393515  , -23.222292  ,\n",
       "        -15.199596  ,  34.07733   , -22.55072   ,  -6.752589  ,\n",
       "        -33.040897  , -21.472101  ],\n",
       "       [-17.567295  , -24.897663  , -16.064363  , -20.018026  ,\n",
       "        -12.312107  ,  31.903643  , -20.877577  ,  -9.512911  ,\n",
       "        -32.51344   , -28.057207  ],\n",
       "       [-14.100318  , -23.193312  , -14.697425  , -19.924423  ,\n",
       "        -11.814906  ,  29.17453   , -19.581593  ,  -7.3883157 ,\n",
       "        -32.308273  , -25.726322  ],\n",
       "       [-10.534315  , -20.040138  , -10.716481  , -15.045318  ,\n",
       "         -7.2045937 ,  22.470402  , -11.825446  ,  -9.089934  ,\n",
       "        -26.283098  , -26.101461  ],\n",
       "       [-13.899753  , -21.634169  , -13.093544  , -15.938286  ,\n",
       "         -9.184514  ,  26.323496  , -17.559736  ,  -9.372366  ,\n",
       "        -23.33074   , -31.379503  ],\n",
       "       [-11.649597  , -20.304966  , -13.7053585 , -15.376017  ,\n",
       "         -8.420918  ,  25.489025  , -14.017203  , -11.3165245 ,\n",
       "        -28.077818  , -29.59183   ],\n",
       "       [ -6.937164  , -11.957269  ,  -8.527805  ,  -6.109872  ,\n",
       "         -2.929579  ,  15.523601  ,  -8.803794  ,  -8.412097  ,\n",
       "        -22.571465  , -24.129446  ],\n",
       "       [-14.514643  , -23.690832  , -14.931089  , -18.181532  ,\n",
       "        -11.057882  ,  27.108433  , -18.626812  ,  -9.307143  ,\n",
       "        -27.192173  , -28.129131  ],\n",
       "       [-13.8469095 , -24.322565  , -15.471558  , -20.562263  ,\n",
       "        -13.312011  ,  31.878119  , -18.947775  ,  -6.4835577 ,\n",
       "        -35.00261   , -28.106354  ],\n",
       "       [-12.806631  , -19.30647   , -14.8400545 , -16.48493   ,\n",
       "         -8.91199   ,  27.406754  , -15.930252  ,  -9.879647  ,\n",
       "        -28.584688  , -28.67088   ],\n",
       "       [-13.10193   , -23.205473  , -15.454315  , -18.041979  ,\n",
       "        -11.346682  ,  28.147095  , -18.033453  ,  -9.871505  ,\n",
       "        -27.500538  , -28.808908  ],\n",
       "       [-11.683643  , -19.912853  , -13.436953  , -15.839057  ,\n",
       "         -9.481893  ,  26.121809  , -15.28653   ,  -9.192181  ,\n",
       "        -25.895817  , -27.929544  ],\n",
       "       [-15.117184  , -20.994186  , -12.201329  , -17.039782  ,\n",
       "         -7.7047377 ,  25.11996   , -15.128597  , -11.634019  ,\n",
       "        -27.67837   , -28.502125  ],\n",
       "       [-13.866956  , -21.580284  , -14.27479   , -17.724878  ,\n",
       "        -11.074523  ,  28.381044  , -18.546461  ,  -5.841048  ,\n",
       "        -30.503036  , -24.75411   ],\n",
       "       [-13.3898115 , -20.585188  , -11.702937  , -15.7338505 ,\n",
       "         -7.5298934 ,  25.194235  , -14.2104    , -11.210282  ,\n",
       "        -27.342884  , -29.687363  ],\n",
       "       [ -3.7491283 , -15.3069725 ,  -4.549456  ,  -9.279121  ,\n",
       "         -2.954673  ,  16.742907  ,  -3.4397461 , -14.009422  ,\n",
       "        -24.385736  , -27.310966  ],\n",
       "       [-14.881783  , -24.669247  , -15.496757  , -22.606031  ,\n",
       "        -13.6192045 ,  32.234333  , -20.256544  ,  -5.723793  ,\n",
       "        -37.726826  , -23.268593  ],\n",
       "       [-14.565858  , -18.161715  ,  -9.981831  , -14.13464   ,\n",
       "         -4.2386246 ,  21.965242  , -13.011176  , -12.995705  ,\n",
       "        -26.727982  , -28.444815  ],\n",
       "       [-13.923281  , -16.841879  , -10.378399  , -14.545389  ,\n",
       "         -4.5523925 ,  24.783974  , -12.329769  , -12.1525    ,\n",
       "        -27.493225  , -29.56287   ],\n",
       "       [-11.502901  , -15.708655  , -13.446474  , -11.759764  ,\n",
       "         -6.9043903 ,  21.741007  , -14.186396  ,  -9.319656  ,\n",
       "        -27.255716  , -25.170294  ],\n",
       "       [-18.008726  , -25.059706  , -16.140368  , -20.620043  ,\n",
       "        -12.027577  ,  30.966158  , -21.601748  ,  -9.693039  ,\n",
       "        -31.666573  , -27.13083   ],\n",
       "       [-12.111831  , -21.726248  , -14.821568  , -17.212824  ,\n",
       "        -10.334172  ,  27.22849   , -16.363068  ,  -9.967821  ,\n",
       "        -27.33737   , -28.874067  ],\n",
       "       [-11.366693  , -20.55117   , -13.524947  , -13.70018   ,\n",
       "         -9.053543  ,  24.485546  , -16.95332   ,  -6.405244  ,\n",
       "        -25.544365  , -29.33863   ],\n",
       "       [ -6.7943473 , -12.467709  , -10.001008  ,  -5.5343227 ,\n",
       "         -4.1727524 ,  15.784138  ,  -7.247598  ,  -9.821771  ,\n",
       "        -23.7258    , -27.793245  ],\n",
       "       [-14.74112   , -23.548054  , -16.113983  , -21.483562  ,\n",
       "        -12.818274  ,  32.342545  , -21.058632  ,  -7.811952  ,\n",
       "        -32.79021   , -27.586456  ],\n",
       "       [ -8.57417   , -18.220846  , -11.305819  , -12.419883  ,\n",
       "         -6.7618227 ,  22.138494  , -10.276564  , -11.13186   ,\n",
       "        -26.332973  , -28.53308   ],\n",
       "       [-11.885614  , -17.171879  ,  -9.889715  , -11.889414  ,\n",
       "         -5.9372993 ,  21.109861  , -13.210893  , -11.039253  ,\n",
       "        -27.856333  , -28.83242   ],\n",
       "       [ -5.7256994 , -13.2316065 ,  -2.8387702 ,  -7.0347314 ,\n",
       "         -2.1400518 ,  12.65371   ,  -4.4445744 , -10.355549  ,\n",
       "        -24.54662   , -23.353321  ],\n",
       "       [-14.155911  , -22.587326  , -14.946157  , -17.82208   ,\n",
       "        -11.037866  ,  26.776337  , -17.102488  ,  -9.272334  ,\n",
       "        -26.192585  , -26.326803  ],\n",
       "       [-10.794383  , -12.357613  , -11.914769  , -11.146885  ,\n",
       "         -5.8671947 ,  21.505764  , -13.524506  ,  -9.973908  ,\n",
       "        -25.894253  , -28.381098  ],\n",
       "       [-14.875288  , -23.482573  , -14.342     , -19.045353  ,\n",
       "        -10.906623  ,  30.218811  , -17.442867  , -10.46572   ,\n",
       "        -29.625109  , -32.243412  ],\n",
       "       [-13.022135  , -17.124704  ,  -7.9276614 , -12.824437  ,\n",
       "         -2.842554  ,  19.214855  , -10.625156  , -13.3498745 ,\n",
       "        -26.46821   , -26.87864   ],\n",
       "       [-12.706776  , -18.405405  , -10.758491  , -14.186148  ,\n",
       "         -5.4669213 ,  22.898584  , -13.48557   , -10.739214  ,\n",
       "        -27.026869  , -29.31924   ],\n",
       "       [-13.397571  , -23.78276   , -16.047638  , -18.595179  ,\n",
       "        -12.041051  ,  29.1835    , -18.584776  ,  -9.439725  ,\n",
       "        -28.026384  , -29.16823   ],\n",
       "       [ -9.117384  ,  -6.731978  ,  -9.173678  ,  -6.1042795 ,\n",
       "         -2.5171957 ,  16.167225  , -11.500109  ,  -9.077632  ,\n",
       "        -24.470974  , -27.425003  ],\n",
       "       [-14.638688  , -16.942047  , -10.13304   , -12.960737  ,\n",
       "         -3.9883323 ,  22.25538   , -14.448566  , -12.095327  ,\n",
       "        -26.20141   , -29.148256  ],\n",
       "       [-14.379274  , -22.018377  , -13.157099  , -15.527704  ,\n",
       "         -8.837032  ,  25.301422  , -15.656647  , -10.42679   ,\n",
       "        -24.931328  , -29.246977  ],\n",
       "       [-14.510133  , -23.656776  , -15.265443  , -20.865416  ,\n",
       "        -12.222273  ,  30.299923  , -20.050959  ,  -5.582311  ,\n",
       "        -36.13663   , -23.376152  ],\n",
       "       [-14.326102  , -21.787312  , -12.173183  , -16.530119  ,\n",
       "         -8.959526  ,  25.024681  , -15.036614  , -10.148308  ,\n",
       "        -25.438696  , -28.51792   ],\n",
       "       [-13.986067  , -18.366566  , -13.186496  , -14.901878  ,\n",
       "         -6.759779  ,  25.171782  , -17.320858  ,  -9.652621  ,\n",
       "        -27.282236  , -28.908726  ],\n",
       "       [-13.724704  , -17.843254  , -11.564974  , -13.181974  ,\n",
       "         -5.562878  ,  23.139633  , -14.652746  , -10.112838  ,\n",
       "        -28.337109  , -29.961042  ],\n",
       "       [ -7.7688174 ,  -8.206946  ,  -8.47516   ,  -6.88492   ,\n",
       "         -1.3824518 ,  15.978082  ,  -7.6287036 , -11.246534  ,\n",
       "        -23.499296  , -27.717705  ],\n",
       "       [-10.321321  , -18.097761  ,  -8.566166  , -12.49502   ,\n",
       "         -6.411542  ,  19.968477  , -11.225053  , -10.331093  ,\n",
       "        -23.38889   , -26.027767  ],\n",
       "       [-16.312714  , -26.417633  , -16.068516  , -21.599922  ,\n",
       "        -14.799143  ,  35.14451   , -21.346796  ,  -5.0385594 ,\n",
       "        -32.974808  , -29.189856  ],\n",
       "       [-11.921399  , -17.248266  , -14.404908  , -12.656747  ,\n",
       "         -8.491444  ,  23.218557  , -15.73806   ,  -8.862527  ,\n",
       "        -27.744553  , -27.287209  ],\n",
       "       [-14.370337  , -23.699781  , -15.98616   , -19.165737  ,\n",
       "        -12.27429   ,  31.155653  , -18.704445  ,  -8.374073  ,\n",
       "        -30.381649  , -31.453955  ],\n",
       "       [ -2.9037745 , -15.325711  ,  -6.3668666 ,  -9.286428  ,\n",
       "         -4.9339375 ,  16.91416   ,  -5.4954205 , -11.421587  ,\n",
       "        -23.985815  , -24.426712  ],\n",
       "       [-14.345671  , -24.483797  , -15.873892  , -19.776007  ,\n",
       "        -13.246532  ,  32.260178  , -19.90906   ,  -7.8674912 ,\n",
       "        -30.359154  , -30.93589   ],\n",
       "       [-15.537512  , -24.067577  , -15.416953  , -19.325836  ,\n",
       "        -12.128333  ,  30.915527  , -20.310795  ,  -7.916042  ,\n",
       "        -30.257809  , -28.958857  ],\n",
       "       [ -0.2865612 , -10.42749   ,  -2.5930462 ,  -3.0983105 ,\n",
       "          0.32403514,  10.5089445 ,   1.1200416 , -13.516102  ,\n",
       "        -19.995968  , -24.31739   ],\n",
       "       [ -9.403395  , -13.212742  , -11.123282  ,  -7.5972967 ,\n",
       "         -5.2542143 ,  18.69743   , -11.84833   ,  -8.28776   ,\n",
       "        -26.39753   , -26.368317  ],\n",
       "       [ -9.760706  , -12.1758    , -10.907723  , -11.334946  ,\n",
       "         -4.370623  ,  20.657343  , -11.408576  ,  -9.506833  ,\n",
       "        -25.024687  , -27.969631  ],\n",
       "       [-11.208206  , -15.713948  , -12.947177  , -12.114001  ,\n",
       "         -6.560266  ,  22.519434  , -14.557351  ,  -8.744426  ,\n",
       "        -23.888597  , -26.032692  ],\n",
       "       [ -9.188458  , -12.37702   , -10.838585  ,  -7.7243943 ,\n",
       "         -3.353021  ,  18.168663  , -11.5168495 , -10.195786  ,\n",
       "        -22.95992   , -26.826376  ],\n",
       "       [-10.578714  , -17.975458  ,  -7.3077655 , -13.56801   ,\n",
       "         -4.1678753 ,  19.197218  ,  -7.9743357 , -12.204465  ,\n",
       "        -26.32461   , -25.817074  ],\n",
       "       [ -9.095828  , -16.450087  ,  -8.216089  ,  -8.84334   ,\n",
       "         -3.872119  ,  17.677826  ,  -7.6957145 , -11.673065  ,\n",
       "        -25.999702  , -28.504425  ],\n",
       "       [-13.322132  , -21.664078  , -14.303265  , -17.76089   ,\n",
       "        -10.267574  ,  28.17971   , -17.163013  , -10.704065  ,\n",
       "        -27.62028   , -30.425327  ],\n",
       "       [-12.730478  , -21.11748   , -14.050132  , -15.81025   ,\n",
       "         -9.09773   ,  22.829294  , -16.661716  , -10.503942  ,\n",
       "        -23.28166   , -26.06972   ],\n",
       "       [-12.627412  , -20.098003  , -10.516169  , -15.546685  ,\n",
       "         -7.894735  ,  22.77894   , -14.898301  ,  -8.018056  ,\n",
       "        -22.639484  , -25.30668   ],\n",
       "       [-11.367319  , -18.990414  ,  -9.319359  , -14.547131  ,\n",
       "         -5.877998  ,  21.148697  , -10.924674  , -10.901266  ,\n",
       "        -27.086338  , -26.595764  ],\n",
       "       [-12.090019  , -14.305914  ,  -7.8788466 ,  -7.7101684 ,\n",
       "         -2.20385   ,  18.29025   , -11.305766  , -11.092909  ,\n",
       "        -27.197744  , -30.029623  ],\n",
       "       [-16.455116  , -25.17736   , -16.158625  , -21.684114  ,\n",
       "        -14.469655  ,  33.837776  , -20.771334  ,  -5.2515454 ,\n",
       "        -33.229008  , -28.442167  ],\n",
       "       [-17.06015   , -24.892256  , -16.68719   , -21.428995  ,\n",
       "        -13.631758  ,  34.53728   , -21.128712  ,  -8.851166  ,\n",
       "        -33.803284  , -31.661505  ],\n",
       "       [-14.194223  , -12.562777  ,  -9.18509   ,  -8.599397  ,\n",
       "         -1.9696424 ,  18.378977  , -14.699816  , -11.21376   ,\n",
       "        -24.42972   , -25.955614  ],\n",
       "       [-13.870633  , -20.867817  , -13.484042  , -16.844662  ,\n",
       "         -9.063275  ,  26.849236  , -16.612204  , -10.61872   ,\n",
       "        -27.149454  , -30.217865  ],\n",
       "       [-14.552733  , -23.08338   , -16.029911  , -20.177244  ,\n",
       "        -11.831676  ,  30.145166  , -19.239346  ,  -8.963977  ,\n",
       "        -31.587069  , -27.08468   ],\n",
       "       [-14.043296  , -20.231642  , -15.560718  , -20.81837   ,\n",
       "        -12.541284  ,  28.023321  , -19.628494  ,  -6.3939185 ,\n",
       "        -32.013428  , -16.453524  ],\n",
       "       [-16.14834   , -19.499203  , -11.164688  , -16.351336  ,\n",
       "         -5.5851874 ,  24.87132   , -15.937824  , -12.762159  ,\n",
       "        -28.380026  , -28.60605   ],\n",
       "       [-11.035934  , -21.353613  , -15.798492  , -14.966159  ,\n",
       "        -10.542822  ,  26.84213   , -17.135197  ,  -8.977417  ,\n",
       "        -24.989864  , -30.318396  ],\n",
       "       [ -3.3034568 , -15.867156  ,  -9.563974  ,  -8.549826  ,\n",
       "         -6.066643  ,  18.414719  ,  -7.633279  , -10.331725  ,\n",
       "        -22.954208  , -26.399876  ],\n",
       "       [ -7.4630723 , -15.212642  ,  -9.050071  ,  -8.981891  ,\n",
       "         -5.277866  ,  18.698355  ,  -7.9641037 ,  -9.203072  ,\n",
       "        -26.417305  , -26.288797  ],\n",
       "       [-15.344187  , -24.320557  , -15.387246  , -20.619202  ,\n",
       "        -12.413974  ,  30.874844  , -19.676344  ,  -7.927823  ,\n",
       "        -33.102783  , -26.732794  ],\n",
       "       [-10.26804   , -18.886381  , -10.784218  , -13.190112  ,\n",
       "         -7.5389504 ,  21.7878    , -12.599423  ,  -9.317331  ,\n",
       "        -24.203478  , -26.442827  ],\n",
       "       [-13.85139   , -21.868155  , -12.41155   , -16.391018  ,\n",
       "         -9.192387  ,  25.217787  , -15.953245  , -10.166734  ,\n",
       "        -24.620878  , -29.780924  ],\n",
       "       [-13.786205  , -17.864151  , -10.20887   , -12.850639  ,\n",
       "         -5.8668942 ,  23.768671  , -14.519909  , -12.599903  ,\n",
       "        -26.758871  , -30.597649  ],\n",
       "       [-10.259107  , -18.406116  ,  -7.392436  , -13.719454  ,\n",
       "         -6.139285  ,  20.061176  ,  -8.527141  ,  -9.67366   ,\n",
       "        -25.549047  , -23.192974  ],\n",
       "       [ -9.856233  , -18.630512  ,  -7.1099553 , -14.744287  ,\n",
       "         -4.26418   ,  22.697866  , -10.084928  , -11.12416   ,\n",
       "        -21.57811   , -29.75222   ],\n",
       "       [-10.925656  , -11.043605  , -12.123616  , -12.904949  ,\n",
       "         -5.8842077 ,  22.946917  , -14.925785  ,  -8.5633335 ,\n",
       "        -26.121317  , -28.391817  ],\n",
       "       [-11.843076  , -20.8159    , -14.691915  , -15.674206  ,\n",
       "         -9.540817  ,  26.001024  , -15.1859665 ,  -9.976172  ,\n",
       "        -27.575058  , -28.588272  ],\n",
       "       [-15.405665  , -22.680191  , -14.096283  , -17.244429  ,\n",
       "        -11.094126  ,  28.314857  , -19.294073  ,  -7.4542813 ,\n",
       "        -28.333906  , -27.495743  ],\n",
       "       [-15.009117  , -24.24004   , -15.1056595 , -21.746326  ,\n",
       "        -13.259578  ,  32.2089    , -21.66841   ,  -6.3462763 ,\n",
       "        -34.831474  , -27.042233  ],\n",
       "       [-10.950344  , -14.527479  , -10.103533  ,  -8.019408  ,\n",
       "         -3.2112718 ,  18.333738  , -10.655628  , -10.725792  ,\n",
       "        -26.207792  , -28.966162  ],\n",
       "       [-13.489487  , -15.393902  ,  -2.8587463 , -10.632185  ,\n",
       "          0.69342047,  16.785255  ,  -6.70979   , -16.396532  ,\n",
       "        -28.121964  , -29.460276  ],\n",
       "       [-15.897048  , -26.850336  , -16.045845  , -20.648788  ,\n",
       "        -13.522036  ,  34.025013  , -20.468319  ,  -8.796106  ,\n",
       "        -31.091417  , -33.804096  ],\n",
       "       [-12.807467  , -19.069374  , -12.318613  , -14.734096  ,\n",
       "         -8.096911  ,  23.595787  , -16.26241   ,  -9.055518  ,\n",
       "        -24.094912  , -26.6026    ],\n",
       "       [-11.568195  , -15.1267185 ,  -9.681806  ,  -9.039289  ,\n",
       "         -3.8437955 ,  19.411303  , -12.195116  ,  -9.9337015 ,\n",
       "        -26.647808  , -28.418293  ],\n",
       "       [ -9.539926  , -16.043802  ,  -9.188154  , -12.33685   ,\n",
       "         -5.866091  ,  20.84879   , -11.58324   ,  -7.9067297 ,\n",
       "        -24.287518  , -25.721872  ],\n",
       "       [-13.66803   , -21.945349  , -13.271631  , -18.834965  ,\n",
       "        -10.510638  ,  26.728575  , -17.063292  ,  -8.301708  ,\n",
       "        -31.428469  , -23.483198  ],\n",
       "       [ -7.0280952 , -14.376669  ,  -9.882091  ,  -7.7432513 ,\n",
       "         -5.7588935 ,  18.398077  ,  -9.290355  ,  -8.017834  ,\n",
       "        -25.849483  , -26.050667  ],\n",
       "       [-15.360435  , -22.357828  , -16.601404  , -18.256779  ,\n",
       "        -11.191843  ,  26.230133  , -18.191936  ,  -6.568193  ,\n",
       "        -24.572186  , -19.452675  ],\n",
       "       [-12.471715  , -12.26785   , -13.837405  , -11.78922   ,\n",
       "         -5.671729  ,  21.907515  , -14.243471  , -11.448161  ,\n",
       "        -25.940817  , -28.06303   ],\n",
       "       [ -4.8383365 , -12.96646   ,  -5.941078  ,  -6.431087  ,\n",
       "         -1.7286451 ,  13.753647  ,  -3.0205836 , -10.726351  ,\n",
       "        -21.31523   , -25.571037  ],\n",
       "       [ -3.1658592 ,  -8.194637  ,  -1.8115168 ,  -1.4211429 ,\n",
       "          1.4309747 ,   6.6410575 ,  -0.7441422 ,  -6.2480574 ,\n",
       "        -11.709878  , -16.512516  ],\n",
       "       [-12.73649   , -14.112674  ,  -5.498812  ,  -8.024385  ,\n",
       "         -0.66094995,  14.076747  ,  -6.2263465 , -13.729788  ,\n",
       "        -24.802242  , -26.33809   ],\n",
       "       [-11.147369  ,  -6.8707414 , -11.388116  ,  -8.566189  ,\n",
       "         -3.7516296 ,  18.532864  , -13.39458   , -10.874277  ,\n",
       "        -25.25905   , -28.017714  ],\n",
       "       [-15.714038  , -22.66691   , -14.464319  , -19.674585  ,\n",
       "         -9.673619  ,  26.701033  , -19.167437  ,  -8.492484  ,\n",
       "        -27.218456  , -23.643785  ],\n",
       "       [-11.338567  , -21.56703   , -14.018962  , -17.169113  ,\n",
       "        -10.12398   ,  26.569178  , -15.256527  ,  -8.941646  ,\n",
       "        -26.271257  , -26.66204   ],\n",
       "       [-10.643167  , -20.810665  , -14.123309  , -15.793407  ,\n",
       "         -9.698047  ,  26.062704  , -14.654244  , -10.084607  ,\n",
       "        -27.570595  , -29.249502  ]], dtype=float32)"
      ]
     },
     "execution_count": 173,
     "metadata": {},
     "output_type": "execute_result"
    }
   ],
   "source": [
    "predictions"
   ]
  },
  {
   "cell_type": "code",
   "execution_count": 174,
   "metadata": {},
   "outputs": [
    {
     "data": {
      "text/plain": [
       "array([5, 5, 5, 5, 5, 5, 5, 5, 5, 5, 5, 5, 5, 5, 5, 5, 5, 5, 5, 5, 5, 5,\n",
       "       5, 5, 5, 5, 5, 5, 5, 5, 5, 5, 5, 5, 5, 5, 5, 5, 5, 5, 5, 5, 5, 5,\n",
       "       5, 5, 5, 5, 5, 5, 5, 5, 5, 5, 5, 5, 5, 5, 5, 5, 5, 5, 5, 5, 5, 5,\n",
       "       5, 5, 5, 5, 5, 5, 5, 5, 5, 5, 5, 5, 5, 5, 5, 5, 5, 5, 5, 5, 5, 5,\n",
       "       5, 5, 5, 5, 5, 5, 5, 5, 5, 5, 5, 5], dtype=int64)"
      ]
     },
     "execution_count": 174,
     "metadata": {},
     "output_type": "execute_result"
    }
   ],
   "source": [
    "predictionClasses"
   ]
  },
  {
   "cell_type": "code",
   "execution_count": 175,
   "metadata": {},
   "outputs": [
    {
     "data": {
      "text/plain": [
       "array([-13.118587, -23.269855, -15.284706, -17.900913, -11.562066,\n",
       "        28.277765, -17.535913,  -9.699055, -27.41658 , -29.065783],\n",
       "      dtype=float32)"
      ]
     },
     "execution_count": 175,
     "metadata": {},
     "output_type": "execute_result"
    }
   ],
   "source": [
    "predictions[0]"
   ]
  },
  {
   "cell_type": "code",
   "execution_count": 176,
   "metadata": {},
   "outputs": [],
   "source": [
    "def plot_image(i, predictions_array, true_label, img):\n",
    "  true_label, img = true_label[i], img[i]\n",
    "  plt.grid(False)\n",
    "  plt.xticks([])\n",
    "  plt.yticks([])\n",
    "\n",
    "  plt.imshow(img, cmap=plt.cm.binary)\n",
    "\n",
    "  predicted_label = np.argmax(predictions_array)\n",
    "  if predicted_label == true_label:\n",
    "    color = 'blue'\n",
    "  else:\n",
    "    color = 'red'\n",
    "\n",
    "  plt.xlabel(\"{} {:2.0f}% ({})\".format(class_names[predicted_label],\n",
    "                                100*np.max(predictions_array),\n",
    "                                class_names[true_label]),\n",
    "                                color=color)\n",
    "\n",
    "def plot_value_array(i, predictions_array, true_label):\n",
    "  true_label = true_label[i]\n",
    "  plt.grid(False)\n",
    "  plt.xticks(range(10))\n",
    "  plt.yticks([])\n",
    "  thisplot = plt.bar(range(10), predictions_array, color=\"#777777\")\n",
    "  plt.ylim([0, 1])\n",
    "  predicted_label = np.argmax(predictions_array)\n",
    "\n",
    "  thisplot[predicted_label].set_color('red')\n",
    "  thisplot[true_label].set_color('blue')\n"
   ]
  },
  {
   "cell_type": "code",
   "execution_count": 177,
   "metadata": {},
   "outputs": [
    {
     "data": {
      "image/png": "[encoded data removed]",
      "text/plain": [
       "<Figure size 1600x400 with 16 Axes>"
      ]
     },
     "metadata": {},
     "output_type": "display_data"
    }
   ],
   "source": [
    "num_rows = 2\n",
    "num_cols = 4\n",
    "num_images = num_rows*num_cols\n",
    "plt.figure(figsize=(2*2*num_cols, 2*num_rows))\n",
    "\n",
    "for i in range(num_images):\n",
    "  plt.subplot(num_rows, 2*num_cols, 2*i+1)\n",
    "  plot_image(i, predictions[i], y_validation, x_validation)\n",
    "  plt.subplot(num_rows, 2*num_cols, 2*i+2)\n",
    "  plot_value_array(i, predictions[i], predictionClasses)\n",
    "plt.tight_layout()\n",
    "plt.show()\n"
   ]
  },
  {
   "cell_type": "markdown",
   "metadata": {
    "id": "Cf-L0WA7uqWu"
   },
   "source": [
    "## Additional Questions\n",
    "* In which way could the network accuracy be improved further (only explanation, no implementation)?"
   ]
  },
  {
   "cell_type": "markdown",
   "metadata": {
    "id": "Pt5pspww72l9"
   },
   "source": []
  }
 ],
 "metadata": {
  "colab": {
   "private_outputs": true,
   "provenance": []
  },
  "gpuClass": "standard",
  "kernelspec": {
   "display_name": "tf",
   "language": "python",
   "name": "python3"
  },
  "language_info": {
   "codemirror_mode": {
    "name": "ipython",
    "version": 3
   },
   "file_extension": ".py",
   "mimetype": "text/x-python",
   "name": "python",
   "nbconvert_exporter": "python",
   "pygments_lexer": "ipython3",
   "version": "3.9.15"
  },
  "vscode": {
   "interpreter": {
    "hash": "427f06a84e72ce49e3bf0e8e80661d7f99fd09c6ff2b44abe5e52449b7ed2705"
   }
  }
 },
 "nbformat": 4,
 "nbformat_minor": 1
}
