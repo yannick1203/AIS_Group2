{
 "cells": [
  {
   "cell_type": "markdown",
   "metadata": {
    "id": "7ipnWvssmbh7"
   },
   "source": [
    "# Fasion-MNIST classification \n",
    "\n",
    "In this Assignment you are going to classify a fashion dataset.\n",
    "\n",
    "[Fashion-MNIST](https://github.com/zalandoresearch/fashion-mnist) is a dataset of Zalando's article images—consisting of a training set of 60,000 examples and a test set of 10,000 examples. Each example is a 28x28 grayscale image, associated with a label from 10 classes. We intend Fashion-MNIST to serve as a direct drop-in replacement for the original MNIST dataset for benchmarking machine learning algorithms. It shares the same image size and structure of training and testing splits.\n",
    "\n",
    "![](https://www.tensorflow.org/static/tutorials/keras/classification_files/output_oZTImqg_CaW1_0.png)\n"
   ]
  },
  {
   "cell_type": "code",
   "execution_count": 3,
   "metadata": {
    "id": "6jP0xrK5uqWp"
   },
   "outputs": [],
   "source": [
    "# Imad Hanzaz, Yannick Urselmann, Jaylong Verschuren"
   ]
  },
  {
   "cell_type": "markdown",
   "metadata": {
    "id": "OOH78U5DpU5k"
   },
   "source": [
    "# Initialization\n",
    "\n",
    "load all needed libraries and functions, \n",
    "check the previos tutorial how to correctly load keras and other modules"
   ]
  },
  {
   "cell_type": "code",
   "execution_count": 4,
   "metadata": {
    "id": "Of4Qf_7DpXOS"
   },
   "outputs": [
    {
     "ename": "ModuleNotFoundError",
     "evalue": "No module named 'matplotlib'",
     "output_type": "error",
     "traceback": [
      "\u001b[1;31m---------------------------------------------------------------------------\u001b[0m",
      "\u001b[1;31mModuleNotFoundError\u001b[0m                       Traceback (most recent call last)",
      "Cell \u001b[1;32mIn[4], line 3\u001b[0m\n\u001b[0;32m      1\u001b[0m \u001b[39mimport\u001b[39;00m \u001b[39mtensorflow\u001b[39;00m \u001b[39mas\u001b[39;00m \u001b[39mtf\u001b[39;00m\n\u001b[0;32m      2\u001b[0m \u001b[39mimport\u001b[39;00m \u001b[39mnumpy\u001b[39;00m \u001b[39mas\u001b[39;00m \u001b[39mnp\u001b[39;00m\n\u001b[1;32m----> 3\u001b[0m \u001b[39mimport\u001b[39;00m \u001b[39mmatplotlib\u001b[39;00m\u001b[39m.\u001b[39;00m\u001b[39mpyplot\u001b[39;00m \u001b[39mas\u001b[39;00m \u001b[39mplt\u001b[39;00m\n\u001b[0;32m      4\u001b[0m \u001b[39mimport\u001b[39;00m \u001b[39mpandas\u001b[39;00m \u001b[39mas\u001b[39;00m \u001b[39mpd\u001b[39;00m\n",
      "\u001b[1;31mModuleNotFoundError\u001b[0m: No module named 'matplotlib'"
     ]
    }
   ],
   "source": [
    "import tensorflow as tf\n",
    "import numpy as np\n",
    "import matplotlib.pyplot as plt\n",
    "import pandas as pd"
   ]
  },
  {
   "cell_type": "markdown",
   "metadata": {
    "id": "yWrbNzmtuhKG"
   },
   "source": [
    "# Load dataset & Plot a subset\n",
    "\n",
    "load your dataset and show a plot of the subset of your data"
   ]
  },
  {
   "cell_type": "code",
   "execution_count": null,
   "metadata": {
    "id": "kTZNxjTkul9u"
   },
   "outputs": [],
   "source": [
    "fashion_mnist = tf.keras.datasets.fashion_mnist\n",
    "\n",
    "(x_train, y_train), (x_test, y_test) = fashion_mnist.load_data()"
   ]
  },
  {
   "cell_type": "code",
   "execution_count": null,
   "metadata": {},
   "outputs": [
    {
     "data": {
      "image/png": "[encoded data removed]",
      "text/plain": [
       "<Figure size 640x480 with 1 Axes>"
      ]
     },
     "metadata": {},
     "output_type": "display_data"
    }
   ],
   "source": [
    "plt.imshow(x_train[6])\n",
    "plt.show()"
   ]
  },
  {
   "cell_type": "markdown",
   "metadata": {
    "id": "O-P5qhvGumPu"
   },
   "source": [
    "# Prepare Data\n",
    "\n",
    "pre-process your raw input data... rescale... normalize...."
   ]
  },
  {
   "cell_type": "code",
   "execution_count": null,
   "metadata": {
    "id": "Z1u8MMVYupNb"
   },
   "outputs": [
    {
     "data": {
      "text/plain": [
       "array([[  0,   0,   0,   0,   1,   0,   0,   0,   0,  22,  88, 188, 172,\n",
       "        132, 125, 141, 199, 143,   9,   0,   0,   0,   1,   0,   0,   0,\n",
       "          0,   0],\n",
       "       [  0,   0,   0,   1,   0,   0,  20, 131, 199, 206, 196, 202, 242,\n",
       "        255, 255, 250, 222, 197, 206, 188, 126,  17,   0,   0,   0,   0,\n",
       "          0,   0],\n",
       "       [  0,   0,   0,   1,   0,  35, 214, 191, 183, 178, 175, 168, 150,\n",
       "        162, 159, 152, 158, 179, 183, 189, 195, 185,  82,   0,   0,   0,\n",
       "          0,   0],\n",
       "       [  0,   0,   0,   0,   0, 170, 190, 172, 177, 176, 171, 169, 162,\n",
       "        155, 148, 154, 169, 174, 175, 175, 177, 183, 188,  12,   0,   0,\n",
       "          0,   0],\n",
       "       [  0,   0,   0,   0,  25, 194, 180, 178, 174, 184, 187, 189, 187,\n",
       "        184, 181, 189, 200, 197, 193, 190, 178, 175, 194,  90,   0,   0,\n",
       "          0,   0],\n",
       "       [  0,   0,   0,   0,  42, 218, 191, 197, 208, 204, 211, 209, 210,\n",
       "        212, 211, 214, 215, 213, 214, 211, 211, 191, 200, 158,   0,   0,\n",
       "          0,   0],\n",
       "       [  0,   0,   0,   0,  88, 221, 215, 217, 219, 211, 185, 150, 118,\n",
       "        107,  99,  88,  83,  90, 135, 212, 203, 207, 219, 169,   0,   0,\n",
       "          0,   0],\n",
       "       [  0,   0,   0,   0,   0,  27, 118, 162,  40,   0,   0,   0,  10,\n",
       "         19,  28,  39,  47,  36,   0,   0, 203, 230, 220, 203,   0,   0,\n",
       "          0,   0],\n",
       "       [  0,   0,   0,   0, 138, 136,  71,  69,  54, 216, 217, 203, 184,\n",
       "        168, 163, 162, 163, 178, 221, 186,  38,  26,   7,   0,   0,   0,\n",
       "          0,   0],\n",
       "       [  0,   0,   0,   0,  67, 134, 154, 224, 129,  66,  81, 117, 129,\n",
       "        128, 132, 137, 131, 129,  86,  73, 157, 151, 134, 216,  18,   0,\n",
       "          0,   0],\n",
       "       [  0,   0,   0,   0, 203, 198, 172, 183, 206, 255, 255, 250, 243,\n",
       "        240, 239, 235, 238, 244, 255, 238, 184, 160,  86,  98,   0,   0,\n",
       "          0,   0],\n",
       "       [  0,   0,   0,   0, 122, 188, 224, 151, 105, 127,  97, 100, 105,\n",
       "        114, 117, 117, 113, 103,  98, 111, 142, 254, 191, 255,  49,   0,\n",
       "          0,   0],\n",
       "       [  0,   0,   0,   0, 163, 179, 200,  95, 154, 198, 197, 200, 200,\n",
       "        198, 197, 198, 199, 202, 200, 176,  86, 206, 157, 162,  10,   0,\n",
       "          0,   0],\n",
       "       [  0,   0,   0,   0, 197, 201, 229,  71, 144, 194, 181, 183, 179,\n",
       "        182, 180, 179, 180, 190, 185, 197,  76, 219, 185, 201,  34,   0,\n",
       "          0,   0],\n",
       "       [  0,   0,   0,   0, 199, 193, 226,  58, 154, 192, 184, 187, 184,\n",
       "        186, 184, 185, 183, 192, 191, 200,  56, 219, 203, 207,  60,   0,\n",
       "          0,   0],\n",
       "       [  0,   0,   0,   0, 201, 194, 224,  41, 163, 190, 186, 186, 184,\n",
       "        185, 183, 185, 178, 190, 194, 202,  33, 211, 200, 206,  73,   0,\n",
       "          0,   0],\n",
       "       [  0,   0,   0,   0, 201, 197, 222,  17, 172, 190, 186, 187, 182,\n",
       "        186, 185, 187, 180, 187, 193, 202,  26, 212, 202, 203,  76,   0,\n",
       "          0,   0],\n",
       "       [  0,   0,   0,   0, 200, 197, 223,   0, 177, 189, 184, 185, 178,\n",
       "        184, 183, 184, 180, 183, 189, 203,  35, 196, 203, 203,  84,   0,\n",
       "          0,   0],\n",
       "       [  0,   0,   0,   0, 200, 197, 223,   0, 185, 187, 185, 187, 180,\n",
       "        184, 182, 183, 178, 182, 183, 205,  44, 159, 207, 201,  85,   0,\n",
       "          0,   0],\n",
       "       [  0,   0,   0,   0, 187, 198, 225,   0, 194, 188, 184, 185, 180,\n",
       "        183, 183, 184, 181, 181, 177, 206,  46, 129, 211, 200,  88,   0,\n",
       "          0,   0],\n",
       "       [  0,   0,   0,   6, 186, 200, 211,   0, 199, 189, 184, 184, 185,\n",
       "        182, 183, 184, 185, 182, 175, 205,  50,  97, 216, 197,  93,   0,\n",
       "          0,   0],\n",
       "       [  0,   0,   0,   5, 185, 204, 184,   0, 202, 188, 182, 182, 183,\n",
       "        183, 184, 182, 180, 182, 174, 202,  63,  59, 220, 196,  94,   0,\n",
       "          0,   0],\n",
       "       [  0,   0,   0,   5, 184, 206, 157,   0, 204, 187, 187, 189, 192,\n",
       "        190, 190, 191, 190, 187, 183, 202,  78,  35, 222, 197,  95,   0,\n",
       "          0,   0],\n",
       "       [  0,   0,   0,   5, 183, 208, 127,   0, 197, 166, 153, 149, 149,\n",
       "        146, 148, 149, 150, 151, 158, 191,  90,   8, 223, 195,  99,   0,\n",
       "          0,   0],\n",
       "       [  0,   0,   0,   6, 184, 208, 114,   0, 204, 173, 161, 180, 176,\n",
       "        172, 173, 173, 174, 176, 162, 202, 115,   0, 229, 199, 105,   0,\n",
       "          0,   0],\n",
       "       [  0,   0,   0,   9, 178, 204, 115,   0, 121, 135, 114, 117, 114,\n",
       "        114, 117, 118, 119, 117, 113, 147,  63,   0, 225, 196, 107,   0,\n",
       "          0,   0],\n",
       "       [  0,   0,   0,  18, 180, 206, 131,   0,   0,   0,   0,   0,   0,\n",
       "          0,   0,   0,   0,   0,   0,   0,   0,   0, 224, 197, 123,   0,\n",
       "          0,   0],\n",
       "       [  0,   0,   0,   0, 141, 151,  76,   0,   1,   1,   0,   0,   0,\n",
       "          0,   0,   0,   0,   0,   0,   0,   0,   0, 133, 167,  73,   0,\n",
       "          0,   0]], dtype=uint8)"
      ]
     },
     "execution_count": 49,
     "metadata": {},
     "output_type": "execute_result"
    }
   ],
   "source": [
    "x_train[5]"
   ]
  },
  {
   "cell_type": "code",
   "execution_count": null,
   "metadata": {},
   "outputs": [
    {
     "data": {
      "text/plain": [
       "array([[0.        , 0.        , 0.        , 0.        , 0.00392157,\n",
       "        0.        , 0.        , 0.        , 0.        , 0.08627451,\n",
       "        0.34509804, 0.7372549 , 0.6745098 , 0.51764706, 0.49019608,\n",
       "        0.55294118, 0.78039216, 0.56078431, 0.03529412, 0.        ,\n",
       "        0.        , 0.        , 0.00392157, 0.        , 0.        ,\n",
       "        0.        , 0.        , 0.        ],\n",
       "       [0.        , 0.        , 0.        , 0.00392157, 0.        ,\n",
       "        0.        , 0.07843137, 0.51372549, 0.78039216, 0.80784314,\n",
       "        0.76862745, 0.79215686, 0.94901961, 1.        , 1.        ,\n",
       "        0.98039216, 0.87058824, 0.77254902, 0.80784314, 0.7372549 ,\n",
       "        0.49411765, 0.06666667, 0.        , 0.        , 0.        ,\n",
       "        0.        , 0.        , 0.        ],\n",
       "       [0.        , 0.        , 0.        , 0.00392157, 0.        ,\n",
       "        0.1372549 , 0.83921569, 0.74901961, 0.71764706, 0.69803922,\n",
       "        0.68627451, 0.65882353, 0.58823529, 0.63529412, 0.62352941,\n",
       "        0.59607843, 0.61960784, 0.70196078, 0.71764706, 0.74117647,\n",
       "        0.76470588, 0.7254902 , 0.32156863, 0.        , 0.        ,\n",
       "        0.        , 0.        , 0.        ],\n",
       "       [0.        , 0.        , 0.        , 0.        , 0.        ,\n",
       "        0.66666667, 0.74509804, 0.6745098 , 0.69411765, 0.69019608,\n",
       "        0.67058824, 0.6627451 , 0.63529412, 0.60784314, 0.58039216,\n",
       "        0.60392157, 0.6627451 , 0.68235294, 0.68627451, 0.68627451,\n",
       "        0.69411765, 0.71764706, 0.7372549 , 0.04705882, 0.        ,\n",
       "        0.        , 0.        , 0.        ],\n",
       "       [0.        , 0.        , 0.        , 0.        , 0.09803922,\n",
       "        0.76078431, 0.70588235, 0.69803922, 0.68235294, 0.72156863,\n",
       "        0.73333333, 0.74117647, 0.73333333, 0.72156863, 0.70980392,\n",
       "        0.74117647, 0.78431373, 0.77254902, 0.75686275, 0.74509804,\n",
       "        0.69803922, 0.68627451, 0.76078431, 0.35294118, 0.        ,\n",
       "        0.        , 0.        , 0.        ],\n",
       "       [0.        , 0.        , 0.        , 0.        , 0.16470588,\n",
       "        0.85490196, 0.74901961, 0.77254902, 0.81568627, 0.8       ,\n",
       "        0.82745098, 0.81960784, 0.82352941, 0.83137255, 0.82745098,\n",
       "        0.83921569, 0.84313725, 0.83529412, 0.83921569, 0.82745098,\n",
       "        0.82745098, 0.74901961, 0.78431373, 0.61960784, 0.        ,\n",
       "        0.        , 0.        , 0.        ],\n",
       "       [0.        , 0.        , 0.        , 0.        , 0.34509804,\n",
       "        0.86666667, 0.84313725, 0.85098039, 0.85882353, 0.82745098,\n",
       "        0.7254902 , 0.58823529, 0.4627451 , 0.41960784, 0.38823529,\n",
       "        0.34509804, 0.3254902 , 0.35294118, 0.52941176, 0.83137255,\n",
       "        0.79607843, 0.81176471, 0.85882353, 0.6627451 , 0.        ,\n",
       "        0.        , 0.        , 0.        ],\n",
       "       [0.        , 0.        , 0.        , 0.        , 0.        ,\n",
       "        0.10588235, 0.4627451 , 0.63529412, 0.15686275, 0.        ,\n",
       "        0.        , 0.        , 0.03921569, 0.0745098 , 0.10980392,\n",
       "        0.15294118, 0.18431373, 0.14117647, 0.        , 0.        ,\n",
       "        0.79607843, 0.90196078, 0.8627451 , 0.79607843, 0.        ,\n",
       "        0.        , 0.        , 0.        ],\n",
       "       [0.        , 0.        , 0.        , 0.        , 0.54117647,\n",
       "        0.53333333, 0.27843137, 0.27058824, 0.21176471, 0.84705882,\n",
       "        0.85098039, 0.79607843, 0.72156863, 0.65882353, 0.63921569,\n",
       "        0.63529412, 0.63921569, 0.69803922, 0.86666667, 0.72941176,\n",
       "        0.14901961, 0.10196078, 0.02745098, 0.        , 0.        ,\n",
       "        0.        , 0.        , 0.        ],\n",
       "       [0.        , 0.        , 0.        , 0.        , 0.2627451 ,\n",
       "        0.5254902 , 0.60392157, 0.87843137, 0.50588235, 0.25882353,\n",
       "        0.31764706, 0.45882353, 0.50588235, 0.50196078, 0.51764706,\n",
       "        0.5372549 , 0.51372549, 0.50588235, 0.3372549 , 0.28627451,\n",
       "        0.61568627, 0.59215686, 0.5254902 , 0.84705882, 0.07058824,\n",
       "        0.        , 0.        , 0.        ],\n",
       "       [0.        , 0.        , 0.        , 0.        , 0.79607843,\n",
       "        0.77647059, 0.6745098 , 0.71764706, 0.80784314, 1.        ,\n",
       "        1.        , 0.98039216, 0.95294118, 0.94117647, 0.9372549 ,\n",
       "        0.92156863, 0.93333333, 0.95686275, 1.        , 0.93333333,\n",
       "        0.72156863, 0.62745098, 0.3372549 , 0.38431373, 0.        ,\n",
       "        0.        , 0.        , 0.        ],\n",
       "       [0.        , 0.        , 0.        , 0.        , 0.47843137,\n",
       "        0.7372549 , 0.87843137, 0.59215686, 0.41176471, 0.49803922,\n",
       "        0.38039216, 0.39215686, 0.41176471, 0.44705882, 0.45882353,\n",
       "        0.45882353, 0.44313725, 0.40392157, 0.38431373, 0.43529412,\n",
       "        0.55686275, 0.99607843, 0.74901961, 1.        , 0.19215686,\n",
       "        0.        , 0.        , 0.        ],\n",
       "       [0.        , 0.        , 0.        , 0.        , 0.63921569,\n",
       "        0.70196078, 0.78431373, 0.37254902, 0.60392157, 0.77647059,\n",
       "        0.77254902, 0.78431373, 0.78431373, 0.77647059, 0.77254902,\n",
       "        0.77647059, 0.78039216, 0.79215686, 0.78431373, 0.69019608,\n",
       "        0.3372549 , 0.80784314, 0.61568627, 0.63529412, 0.03921569,\n",
       "        0.        , 0.        , 0.        ],\n",
       "       [0.        , 0.        , 0.        , 0.        , 0.77254902,\n",
       "        0.78823529, 0.89803922, 0.27843137, 0.56470588, 0.76078431,\n",
       "        0.70980392, 0.71764706, 0.70196078, 0.71372549, 0.70588235,\n",
       "        0.70196078, 0.70588235, 0.74509804, 0.7254902 , 0.77254902,\n",
       "        0.29803922, 0.85882353, 0.7254902 , 0.78823529, 0.13333333,\n",
       "        0.        , 0.        , 0.        ],\n",
       "       [0.        , 0.        , 0.        , 0.        , 0.78039216,\n",
       "        0.75686275, 0.88627451, 0.22745098, 0.60392157, 0.75294118,\n",
       "        0.72156863, 0.73333333, 0.72156863, 0.72941176, 0.72156863,\n",
       "        0.7254902 , 0.71764706, 0.75294118, 0.74901961, 0.78431373,\n",
       "        0.21960784, 0.85882353, 0.79607843, 0.81176471, 0.23529412,\n",
       "        0.        , 0.        , 0.        ],\n",
       "       [0.        , 0.        , 0.        , 0.        , 0.78823529,\n",
       "        0.76078431, 0.87843137, 0.16078431, 0.63921569, 0.74509804,\n",
       "        0.72941176, 0.72941176, 0.72156863, 0.7254902 , 0.71764706,\n",
       "        0.7254902 , 0.69803922, 0.74509804, 0.76078431, 0.79215686,\n",
       "        0.12941176, 0.82745098, 0.78431373, 0.80784314, 0.28627451,\n",
       "        0.        , 0.        , 0.        ],\n",
       "       [0.        , 0.        , 0.        , 0.        , 0.78823529,\n",
       "        0.77254902, 0.87058824, 0.06666667, 0.6745098 , 0.74509804,\n",
       "        0.72941176, 0.73333333, 0.71372549, 0.72941176, 0.7254902 ,\n",
       "        0.73333333, 0.70588235, 0.73333333, 0.75686275, 0.79215686,\n",
       "        0.10196078, 0.83137255, 0.79215686, 0.79607843, 0.29803922,\n",
       "        0.        , 0.        , 0.        ],\n",
       "       [0.        , 0.        , 0.        , 0.        , 0.78431373,\n",
       "        0.77254902, 0.8745098 , 0.        , 0.69411765, 0.74117647,\n",
       "        0.72156863, 0.7254902 , 0.69803922, 0.72156863, 0.71764706,\n",
       "        0.72156863, 0.70588235, 0.71764706, 0.74117647, 0.79607843,\n",
       "        0.1372549 , 0.76862745, 0.79607843, 0.79607843, 0.32941176,\n",
       "        0.        , 0.        , 0.        ],\n",
       "       [0.        , 0.        , 0.        , 0.        , 0.78431373,\n",
       "        0.77254902, 0.8745098 , 0.        , 0.7254902 , 0.73333333,\n",
       "        0.7254902 , 0.73333333, 0.70588235, 0.72156863, 0.71372549,\n",
       "        0.71764706, 0.69803922, 0.71372549, 0.71764706, 0.80392157,\n",
       "        0.17254902, 0.62352941, 0.81176471, 0.78823529, 0.33333333,\n",
       "        0.        , 0.        , 0.        ],\n",
       "       [0.        , 0.        , 0.        , 0.        , 0.73333333,\n",
       "        0.77647059, 0.88235294, 0.        , 0.76078431, 0.7372549 ,\n",
       "        0.72156863, 0.7254902 , 0.70588235, 0.71764706, 0.71764706,\n",
       "        0.72156863, 0.70980392, 0.70980392, 0.69411765, 0.80784314,\n",
       "        0.18039216, 0.50588235, 0.82745098, 0.78431373, 0.34509804,\n",
       "        0.        , 0.        , 0.        ],\n",
       "       [0.        , 0.        , 0.        , 0.02352941, 0.72941176,\n",
       "        0.78431373, 0.82745098, 0.        , 0.78039216, 0.74117647,\n",
       "        0.72156863, 0.72156863, 0.7254902 , 0.71372549, 0.71764706,\n",
       "        0.72156863, 0.7254902 , 0.71372549, 0.68627451, 0.80392157,\n",
       "        0.19607843, 0.38039216, 0.84705882, 0.77254902, 0.36470588,\n",
       "        0.        , 0.        , 0.        ],\n",
       "       [0.        , 0.        , 0.        , 0.01960784, 0.7254902 ,\n",
       "        0.8       , 0.72156863, 0.        , 0.79215686, 0.7372549 ,\n",
       "        0.71372549, 0.71372549, 0.71764706, 0.71764706, 0.72156863,\n",
       "        0.71372549, 0.70588235, 0.71372549, 0.68235294, 0.79215686,\n",
       "        0.24705882, 0.23137255, 0.8627451 , 0.76862745, 0.36862745,\n",
       "        0.        , 0.        , 0.        ],\n",
       "       [0.        , 0.        , 0.        , 0.01960784, 0.72156863,\n",
       "        0.80784314, 0.61568627, 0.        , 0.8       , 0.73333333,\n",
       "        0.73333333, 0.74117647, 0.75294118, 0.74509804, 0.74509804,\n",
       "        0.74901961, 0.74509804, 0.73333333, 0.71764706, 0.79215686,\n",
       "        0.30588235, 0.1372549 , 0.87058824, 0.77254902, 0.37254902,\n",
       "        0.        , 0.        , 0.        ],\n",
       "       [0.        , 0.        , 0.        , 0.01960784, 0.71764706,\n",
       "        0.81568627, 0.49803922, 0.        , 0.77254902, 0.65098039,\n",
       "        0.6       , 0.58431373, 0.58431373, 0.57254902, 0.58039216,\n",
       "        0.58431373, 0.58823529, 0.59215686, 0.61960784, 0.74901961,\n",
       "        0.35294118, 0.03137255, 0.8745098 , 0.76470588, 0.38823529,\n",
       "        0.        , 0.        , 0.        ],\n",
       "       [0.        , 0.        , 0.        , 0.02352941, 0.72156863,\n",
       "        0.81568627, 0.44705882, 0.        , 0.8       , 0.67843137,\n",
       "        0.63137255, 0.70588235, 0.69019608, 0.6745098 , 0.67843137,\n",
       "        0.67843137, 0.68235294, 0.69019608, 0.63529412, 0.79215686,\n",
       "        0.45098039, 0.        , 0.89803922, 0.78039216, 0.41176471,\n",
       "        0.        , 0.        , 0.        ],\n",
       "       [0.        , 0.        , 0.        , 0.03529412, 0.69803922,\n",
       "        0.8       , 0.45098039, 0.        , 0.4745098 , 0.52941176,\n",
       "        0.44705882, 0.45882353, 0.44705882, 0.44705882, 0.45882353,\n",
       "        0.4627451 , 0.46666667, 0.45882353, 0.44313725, 0.57647059,\n",
       "        0.24705882, 0.        , 0.88235294, 0.76862745, 0.41960784,\n",
       "        0.        , 0.        , 0.        ],\n",
       "       [0.        , 0.        , 0.        , 0.07058824, 0.70588235,\n",
       "        0.80784314, 0.51372549, 0.        , 0.        , 0.        ,\n",
       "        0.        , 0.        , 0.        , 0.        , 0.        ,\n",
       "        0.        , 0.        , 0.        , 0.        , 0.        ,\n",
       "        0.        , 0.        , 0.87843137, 0.77254902, 0.48235294,\n",
       "        0.        , 0.        , 0.        ],\n",
       "       [0.        , 0.        , 0.        , 0.        , 0.55294118,\n",
       "        0.59215686, 0.29803922, 0.        , 0.00392157, 0.00392157,\n",
       "        0.        , 0.        , 0.        , 0.        , 0.        ,\n",
       "        0.        , 0.        , 0.        , 0.        , 0.        ,\n",
       "        0.        , 0.        , 0.52156863, 0.65490196, 0.28627451,\n",
       "        0.        , 0.        , 0.        ]])"
      ]
     },
     "execution_count": 50,
     "metadata": {},
     "output_type": "execute_result"
    }
   ],
   "source": [
    "x_train = x_train / 255\n",
    "x_test = x_test / 255\n",
    "x_train[5]"
   ]
  },
  {
   "cell_type": "markdown",
   "metadata": {
    "id": "Yal9uYElv_nU"
   },
   "source": [
    "## Define your Model\n",
    "\n",
    "Define your neural network architecture here\n",
    "\n",
    "* Describe the implemented network architecture.\n",
    "* How many parameters does this network have, and where in the network are these located?"
   ]
  },
  {
   "cell_type": "code",
   "execution_count": null,
   "metadata": {
    "id": "HZTFT_GJv_3N"
   },
   "outputs": [],
   "source": [
    "model = tf.keras.Sequential([\n",
    "    tf.keras.layers.Flatten(input_shape=(28,28)),\n",
    "    tf.keras.layers.Dense(128, activation='relu'),\n",
    "    tf.keras.layers.Dense(10)\n",
    "])"
   ]
  },
  {
   "cell_type": "code",
   "execution_count": null,
   "metadata": {},
   "outputs": [],
   "source": [
    "model.compile(optimizer='adam',\n",
    "              loss=tf.keras.losses.SparseCategoricalCrossentropy(from_logits=True),\n",
    "              metrics=['accuracy'])"
   ]
  },
  {
   "cell_type": "markdown",
   "metadata": {
    "id": "t5t5_38HupW3"
   },
   "source": [
    "# Fit the Model\n",
    "\n",
    "Fitting the model is the time consuming part, this depend on the complexity of the model and the amount of training data.\n",
    "In the fitting process the model is first build up in memory with all the tunable parameters and intercomnnects (with random start values). This is also the limitation of some systems, all these parameters are stored in memory (or when not fitting in a swap file)\n",
    "\n",
    "**TIP:** do not start the first time with training a lot of epochs, first see if this and all following steps in your system work and when you are sure that all works train your final model. You can also monitor the Jetson CPU/GPU/Memory performance during this process (see Tips & Tricks)\n",
    "\n",
    "* Explain what hyperparameters are available and what they do.\n",
    "* Which hyperparameter result in better training results?"
   ]
  },
  {
   "cell_type": "code",
   "execution_count": null,
   "metadata": {
    "id": "rycO-mp9uscG"
   },
   "outputs": [
    {
     "name": "stdout",
     "output_type": "stream",
     "text": [
      "Epoch 1/10\n",
      "1875/1875 [==============================] - 12s 6ms/step - loss: 0.4944 - accuracy: 0.8262\n",
      "Epoch 2/10\n",
      "1875/1875 [==============================] - 10s 5ms/step - loss: 0.3727 - accuracy: 0.8651\n",
      "Epoch 3/10\n",
      "1875/1875 [==============================] - 10s 5ms/step - loss: 0.3357 - accuracy: 0.8778\n",
      "Epoch 4/10\n",
      "1875/1875 [==============================] - 10s 5ms/step - loss: 0.3114 - accuracy: 0.8859\n",
      "Epoch 5/10\n",
      "1875/1875 [==============================] - 10s 5ms/step - loss: 0.2922 - accuracy: 0.8924\n",
      "Epoch 6/10\n",
      "1875/1875 [==============================] - 11s 6ms/step - loss: 0.2806 - accuracy: 0.8958\n",
      "Epoch 7/10\n",
      "1875/1875 [==============================] - 11s 6ms/step - loss: 0.2662 - accuracy: 0.9022\n",
      "Epoch 8/10\n",
      "1875/1875 [==============================] - 10s 5ms/step - loss: 0.2573 - accuracy: 0.9046\n",
      "Epoch 9/10\n",
      "1875/1875 [==============================] - 10s 5ms/step - loss: 0.2459 - accuracy: 0.9081\n",
      "Epoch 10/10\n",
      "1875/1875 [==============================] - 10s 5ms/step - loss: 0.2391 - accuracy: 0.9104\n"
     ]
    }
   ],
   "source": [
    "history = model.fit(x_train, y_train, epochs=10)"
   ]
  },
  {
   "cell_type": "markdown",
   "metadata": {
    "id": "WdzrdzNeusno"
   },
   "source": [
    "# Evaluate Model\n",
    "\n",
    "Show the model accuracy after the training process ...\n",
    "* What is the final accuracy of the trained Network?"
   ]
  },
  {
   "cell_type": "code",
   "execution_count": null,
   "metadata": {
    "id": "7Vk7p7YnuvR_",
    "scrolled": true
   },
   "outputs": [
    {
     "data": {
      "image/png": "[encoded data removed]",
      "text/plain": [
       "<Figure size 800x500 with 1 Axes>"
      ]
     },
     "metadata": {},
     "output_type": "display_data"
    }
   ],
   "source": [
    "pd.DataFrame(history.history).plot(figsize=(8, 5))\n",
    "plt.grid(True)\n",
    "plt.gca().set_ylim(0, 1)b\n",
    "plt.show()"
   ]
  },
  {
   "cell_type": "code",
   "execution_count": null,
   "metadata": {},
   "outputs": [
    {
     "name": "stdout",
     "output_type": "stream",
     "text": [
      "313/313 [==============================] - 2s 6ms/step - loss: 0.3437 - accuracy: 0.8764\n",
      "Validated loss: 0.34371450543403625 , Validated Accuracy: 0.8763999938964844\n"
     ]
    }
   ],
   "source": [
    "val_loss, val_acc = model.evaluate(x_test, y_test)\n",
    "print(f\"Validated loss: {val_loss} , Validated Accuracy: {val_acc}\")"
   ]
  },
  {
   "cell_type": "markdown",
   "metadata": {
    "id": "l8a1ovA8uyMX"
   },
   "source": [
    "# Save model\n",
    "\n",
    "Save the model for later usage"
   ]
  },
  {
   "cell_type": "code",
   "execution_count": null,
   "metadata": {
    "id": "quPWuPwtu3s4"
   },
   "outputs": [
    {
     "name": "stdout",
     "output_type": "stream",
     "text": [
      "INFO:tensorflow:Assets written to: Ass2PartAModel/assets\n"
     ]
    }
   ],
   "source": [
    "model.save('Ass2PartAModel')"
   ]
  },
  {
   "cell_type": "markdown",
   "metadata": {
    "id": "BbK5-OQ4u32A"
   },
   "source": [
    "# Evaluate Final Model\n",
    "\n",
    "After training and saving the model you can deploy this model on any given input image. You can start a new application in where you import this model and apply it on any given imput images, so you can just load the model and don't need the timeconsuming training anymore."
   ]
  },
  {
   "cell_type": "code",
   "execution_count": null,
   "metadata": {
    "id": "zy3j_jLn4I6u"
   },
   "outputs": [],
   "source": [
    "test_model = tf.keras.models.load_model('Ass2PartAModel')"
   ]
  },
  {
   "cell_type": "code",
   "execution_count": null,
   "metadata": {
    "scrolled": true
   },
   "outputs": [
    {
     "name": "stdout",
     "output_type": "stream",
     "text": [
      "313/313 [==============================] - 1s 3ms/step\n"
     ]
    }
   ],
   "source": [
    "prediction = test_model.predict([x_test])"
   ]
  },
  {
   "cell_type": "code",
   "execution_count": null,
   "metadata": {},
   "outputs": [
    {
     "name": "stdout",
     "output_type": "stream",
     "text": [
      "6\n"
     ]
    }
   ],
   "source": [
    "import numpy as np\n",
    "\n",
    "print(np.argmax(prediction[4]))"
   ]
  },
  {
   "cell_type": "code",
   "execution_count": null,
   "metadata": {},
   "outputs": [
    {
     "data": {
      "image/png": "[encoded data removed]",
      "text/plain": [
       "<Figure size 640x480 with 1 Axes>"
      ]
     },
     "metadata": {},
     "output_type": "display_data"
    }
   ],
   "source": [
    "plt.imshow(x_test[4])\n",
    "plt.show()"
   ]
  },
  {
   "cell_type": "markdown",
   "metadata": {
    "id": "uqEeHGjG3fsd"
   },
   "source": [
    "## Make Prediction\n",
    "\n",
    "We can use our saved model to make a prediction on new images that are not trained on... make sure the input images receive the same pre-processing as the images you trained on.\n",
    "\n",
    "So fetch some images from the internet (similar classes, but not from your dataset), prepare them to fit your network and classify them. Do this for  **10 images per class** and show the results!\n",
    "\n",
    "* How good is the detection on you real dataset? (show some statistics) "
   ]
  },
  {
   "cell_type": "code",
   "execution_count": null,
   "metadata": {
    "id": "cNpwYE5Ru8gn"
   },
   "outputs": [],
   "source": []
  },
  {
   "cell_type": "markdown",
   "metadata": {
    "id": "Cf-L0WA7uqWu"
   },
   "source": [
    "## Additional Questions\n",
    "* In which way could the network accuracy be improved further (only explanation, no implementation)?"
   ]
  },
  {
   "cell_type": "markdown",
   "metadata": {
    "id": "Pt5pspww72l9"
   },
   "source": []
  }
 ],
 "metadata": {
  "colab": {
   "private_outputs": true,
   "provenance": []
  },
  "gpuClass": "standard",
  "kernelspec": {
   "display_name": "tf-latest",
   "language": "python",
   "name": "python3"
  },
  "language_info": {
   "codemirror_mode": {
    "name": "ipython",
    "version": 3
   },
   "file_extension": ".py",
   "mimetype": "text/x-python",
   "name": "python",
   "nbconvert_exporter": "python",
   "pygments_lexer": "ipython3",
   "version": "3.8.15"
  },
  "vscode": {
   "interpreter": {
    "hash": "8fcdb777f5d4eb51af059cf867849b918dcc3de6b77b1e67ade1f406d24db837"
   }
  }
 },
 "nbformat": 4,
 "nbformat_minor": 1
}
