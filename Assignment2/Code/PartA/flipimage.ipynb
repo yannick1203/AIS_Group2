{
 "cells": [
  {
   "cell_type": "code",
   "execution_count": 4,
   "metadata": {},
   "outputs": [],
   "source": [
    "from PIL import Image\n",
    "import os\n",
    "\n",
    "\n"
   ]
  },
  {
   "cell_type": "code",
   "execution_count": 5,
   "metadata": {},
   "outputs": [],
   "source": [
    "def mirror_image(image_path):\n",
    "    image = Image.open(image_path)\n",
    "    image_mirror = image.transpose(Image.FLIP_LEFT_RIGHT)\n",
    "    image_mirror.save(image_path)\n",
    "\n",
    "\n",
    "def mirror_images_in_directory(directory):\n",
    "    for image in os.listdir(directory):\n",
    "        mirror_image(os.path.join(directory, image))"
   ]
  },
  {
   "cell_type": "code",
   "execution_count": 8,
   "metadata": {},
   "outputs": [
    {
     "name": "stderr",
     "output_type": "stream",
     "text": [
      "C:\\Users\\yanni\\AppData\\Local\\Temp\\ipykernel_30796\\1861794394.py:3: DeprecationWarning: FLIP_LEFT_RIGHT is deprecated and will be removed in Pillow 10 (2023-07-01). Use Transpose.FLIP_LEFT_RIGHT instead.\n",
      "  image_mirror = image.transpose(Image.FLIP_LEFT_RIGHT)\n"
     ]
    }
   ],
   "source": [
    "mirror_images_in_directory('./testset/datasetTest/sneaker/')"
   ]
  }
 ],
 "metadata": {
  "kernelspec": {
   "display_name": "base",
   "language": "python",
   "name": "python3"
  },
  "language_info": {
   "codemirror_mode": {
    "name": "ipython",
    "version": 3
   },
   "file_extension": ".py",
   "mimetype": "text/x-python",
   "name": "python",
   "nbconvert_exporter": "python",
   "pygments_lexer": "ipython3",
   "version": "3.9.15"
  },
  "orig_nbformat": 4,
  "vscode": {
   "interpreter": {
    "hash": "0d18f53f9c896a2b8bb565adf491d4ea47a0151f3ca6dbc95552d117e45cb145"
   }
  }
 },
 "nbformat": 4,
 "nbformat_minor": 2
}
