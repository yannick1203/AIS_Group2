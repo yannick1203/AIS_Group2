{
 "cells": [
  {
   "cell_type": "code",
   "execution_count": 4,
   "metadata": {},
   "outputs": [],
   "source": [
    "import pandas as pd\n",
    "\n",
    "ijumps = pd.read_csv(\"./imadJumps.csv\")\n",
    "ipushups = pd.read_csv(\"./imadPushups.csv\")\n",
    "isquads = pd.read_csv(\"./imadSquads.csv\")\n",
    "\n",
    "jjumps = pd.read_csv(\"./jaylongJumps.csv\")\n",
    "jpushups = pd.read_csv(\"./jaylongPushups.csv\")\n",
    "jsquads = pd.read_csv(\"./jaylongSquads.csv\")\n",
    "\n",
    "yjumps = pd.read_csv(\"./yannickJumps.csv\")\n",
    "ypushups = pd.read_csv(\"./yannickPushups.csv\")\n",
    "ysquads = pd.read_csv(\"./yannickSquads.csv\")\n",
    "\n",
    "imadData = pd.concat([ijumps,ipushups,isquads])\n",
    "\n",
    "jaylongData = pd.concat([jjumps, jpushups, jsquads])\n",
    "\n",
    "yannickData = pd.concat([yjumps, ypushups, ysquads])"
   ]
  },
  {
   "cell_type": "code",
   "execution_count": 5,
   "metadata": {},
   "outputs": [],
   "source": [
    "data = pd.concat([imadData, jaylongData, yannickData])\n",
    "data.to_csv(\"imadyannickjaylong.csv\", index=False)"
   ]
  }
 ],
 "metadata": {
  "kernelspec": {
   "display_name": "Python 3.11.0 64-bit",
   "language": "python",
   "name": "python3"
  },
  "language_info": {
   "codemirror_mode": {
    "name": "ipython",
    "version": 3
   },
   "file_extension": ".py",
   "mimetype": "text/x-python",
   "name": "python",
   "nbconvert_exporter": "python",
   "pygments_lexer": "ipython3",
   "version": "3.11.0"
  },
  "orig_nbformat": 4,
  "vscode": {
   "interpreter": {
    "hash": "6930a345131aae59ad80afb5304ceec726de6ba3752e54a8b1522b49c85493ae"
   }
  }
 },
 "nbformat": 4,
 "nbformat_minor": 2
}
