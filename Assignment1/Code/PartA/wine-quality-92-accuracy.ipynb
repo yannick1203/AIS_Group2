{
 "cells": [
  {
   "cell_type": "markdown",
   "id": "29638fd6",
   "metadata": {
    "papermill": {
     "duration": 0.016752,
     "end_time": "2022-08-19T09:33:12.725253",
     "exception": false,
     "start_time": "2022-08-19T09:33:12.708501",
     "status": "completed"
    },
    "tags": []
   },
   "source": [
    "# Importing Dependencies"
   ]
  },
  {
   "cell_type": "code",
   "execution_count": 1,
   "id": "343275c1",
   "metadata": {
    "execution": {
     "iopub.execute_input": "2022-08-19T09:33:12.757138Z",
     "iopub.status.busy": "2022-08-19T09:33:12.756621Z",
     "iopub.status.idle": "2022-08-19T09:33:13.817949Z",
     "shell.execute_reply": "2022-08-19T09:33:13.816765Z"
    },
    "papermill": {
     "duration": 1.080738,
     "end_time": "2022-08-19T09:33:13.821094",
     "exception": false,
     "start_time": "2022-08-19T09:33:12.740356",
     "status": "completed"
    },
    "tags": []
   },
   "outputs": [],
   "source": [
    "import numpy as np\n",
    "import pandas as pd\n",
    "import matplotlib.pyplot as plt\n",
    "import seaborn as sns\n",
    "%matplotlib inline"
   ]
  },
  {
   "cell_type": "markdown",
   "id": "3411cff1",
   "metadata": {
    "papermill": {
     "duration": 0.014166,
     "end_time": "2022-08-19T09:33:13.851503",
     "exception": false,
     "start_time": "2022-08-19T09:33:13.837337",
     "status": "completed"
    },
    "tags": []
   },
   "source": [
    "# 1. Problem Statement"
   ]
  },
  {
   "cell_type": "raw",
   "id": "a7a0e9e8",
   "metadata": {
    "papermill": {
     "duration": 0.014156,
     "end_time": "2022-08-19T09:33:13.880170",
     "exception": false,
     "start_time": "2022-08-19T09:33:13.866014",
     "status": "completed"
    },
    "tags": []
   },
   "source": [
    "To group wine as either good or bad using physiochemical properties as estimators"
   ]
  },
  {
   "cell_type": "markdown",
   "id": "9751c133",
   "metadata": {
    "papermill": {
     "duration": 0.013978,
     "end_time": "2022-08-19T09:33:13.908319",
     "exception": false,
     "start_time": "2022-08-19T09:33:13.894341",
     "status": "completed"
    },
    "tags": []
   },
   "source": [
    "# 2. Data Gathering"
   ]
  },
  {
   "cell_type": "code",
   "execution_count": 2,
   "id": "c1ef9967",
   "metadata": {
    "execution": {
     "iopub.execute_input": "2022-08-19T09:33:13.938485Z",
     "iopub.status.busy": "2022-08-19T09:33:13.938054Z",
     "iopub.status.idle": "2022-08-19T09:33:13.992640Z",
     "shell.execute_reply": "2022-08-19T09:33:13.991235Z"
    },
    "papermill": {
     "duration": 0.07399,
     "end_time": "2022-08-19T09:33:13.996639",
     "exception": false,
     "start_time": "2022-08-19T09:33:13.922649",
     "status": "completed"
    },
    "tags": []
   },
   "outputs": [
    {
     "name": "stdout",
     "output_type": "stream",
     "text": [
      "No. of Rows :  1599\n",
      "No. of Columns :  12\n",
      "Sample of data:\n"
     ]
    },
    {
     "data": {
      "text/html": [
       "<div>\n",
       "<style scoped>\n",
       "    .dataframe tbody tr th:only-of-type {\n",
       "        vertical-align: middle;\n",
       "    }\n",
       "\n",
       "    .dataframe tbody tr th {\n",
       "        vertical-align: top;\n",
       "    }\n",
       "\n",
       "    .dataframe thead th {\n",
       "        text-align: right;\n",
       "    }\n",
       "</style>\n",
       "<table border=\"1\" class=\"dataframe\">\n",
       "  <thead>\n",
       "    <tr style=\"text-align: right;\">\n",
       "      <th></th>\n",
       "      <th>fixed acidity</th>\n",
       "      <th>volatile acidity</th>\n",
       "      <th>citric acid</th>\n",
       "      <th>residual sugar</th>\n",
       "      <th>chlorides</th>\n",
       "      <th>free sulfur dioxide</th>\n",
       "      <th>total sulfur dioxide</th>\n",
       "      <th>density</th>\n",
       "      <th>pH</th>\n",
       "      <th>sulphates</th>\n",
       "      <th>alcohol</th>\n",
       "      <th>quality</th>\n",
       "    </tr>\n",
       "  </thead>\n",
       "  <tbody>\n",
       "    <tr>\n",
       "      <th>1258</th>\n",
       "      <td>6.8</td>\n",
       "      <td>0.640</td>\n",
       "      <td>0.00</td>\n",
       "      <td>2.7</td>\n",
       "      <td>0.123</td>\n",
       "      <td>15.0</td>\n",
       "      <td>33.0</td>\n",
       "      <td>0.99538</td>\n",
       "      <td>3.44</td>\n",
       "      <td>0.63</td>\n",
       "      <td>11.3</td>\n",
       "      <td>6</td>\n",
       "    </tr>\n",
       "    <tr>\n",
       "      <th>710</th>\n",
       "      <td>10.6</td>\n",
       "      <td>1.025</td>\n",
       "      <td>0.43</td>\n",
       "      <td>2.8</td>\n",
       "      <td>0.080</td>\n",
       "      <td>21.0</td>\n",
       "      <td>84.0</td>\n",
       "      <td>0.99850</td>\n",
       "      <td>3.06</td>\n",
       "      <td>0.57</td>\n",
       "      <td>10.1</td>\n",
       "      <td>5</td>\n",
       "    </tr>\n",
       "    <tr>\n",
       "      <th>1212</th>\n",
       "      <td>6.8</td>\n",
       "      <td>0.650</td>\n",
       "      <td>0.02</td>\n",
       "      <td>2.1</td>\n",
       "      <td>0.078</td>\n",
       "      <td>8.0</td>\n",
       "      <td>15.0</td>\n",
       "      <td>0.99498</td>\n",
       "      <td>3.35</td>\n",
       "      <td>0.62</td>\n",
       "      <td>10.4</td>\n",
       "      <td>6</td>\n",
       "    </tr>\n",
       "    <tr>\n",
       "      <th>158</th>\n",
       "      <td>7.1</td>\n",
       "      <td>0.680</td>\n",
       "      <td>0.00</td>\n",
       "      <td>2.2</td>\n",
       "      <td>0.073</td>\n",
       "      <td>12.0</td>\n",
       "      <td>22.0</td>\n",
       "      <td>0.99690</td>\n",
       "      <td>3.48</td>\n",
       "      <td>0.50</td>\n",
       "      <td>9.3</td>\n",
       "      <td>5</td>\n",
       "    </tr>\n",
       "    <tr>\n",
       "      <th>562</th>\n",
       "      <td>9.0</td>\n",
       "      <td>0.540</td>\n",
       "      <td>0.49</td>\n",
       "      <td>2.9</td>\n",
       "      <td>0.094</td>\n",
       "      <td>41.0</td>\n",
       "      <td>110.0</td>\n",
       "      <td>0.99820</td>\n",
       "      <td>3.08</td>\n",
       "      <td>0.61</td>\n",
       "      <td>9.2</td>\n",
       "      <td>5</td>\n",
       "    </tr>\n",
       "  </tbody>\n",
       "</table>\n",
       "</div>"
      ],
      "text/plain": [
       "      fixed acidity  volatile acidity  citric acid  residual sugar  chlorides  \\\n",
       "1258            6.8             0.640         0.00             2.7      0.123   \n",
       "710            10.6             1.025         0.43             2.8      0.080   \n",
       "1212            6.8             0.650         0.02             2.1      0.078   \n",
       "158             7.1             0.680         0.00             2.2      0.073   \n",
       "562             9.0             0.540         0.49             2.9      0.094   \n",
       "\n",
       "      free sulfur dioxide  total sulfur dioxide  density    pH  sulphates  \\\n",
       "1258                 15.0                  33.0  0.99538  3.44       0.63   \n",
       "710                  21.0                  84.0  0.99850  3.06       0.57   \n",
       "1212                  8.0                  15.0  0.99498  3.35       0.62   \n",
       "158                  12.0                  22.0  0.99690  3.48       0.50   \n",
       "562                  41.0                 110.0  0.99820  3.08       0.61   \n",
       "\n",
       "      alcohol  quality  \n",
       "1258     11.3        6  \n",
       "710      10.1        5  \n",
       "1212     10.4        6  \n",
       "158       9.3        5  \n",
       "562       9.2        5  "
      ]
     },
     "execution_count": 2,
     "metadata": {},
     "output_type": "execute_result"
    }
   ],
   "source": [
    "data=pd.read_csv(\"../input/red-wine-quality-cortez-et-al-2009/winequality-red.csv\")\n",
    "print(\"No. of Rows : \",data.shape[0])\n",
    "print(\"No. of Columns : \",data.shape[1])\n",
    "print(\"Sample of data:\")\n",
    "data.sample(5)"
   ]
  },
  {
   "cell_type": "code",
   "execution_count": 3,
   "id": "8e274f13",
   "metadata": {
    "execution": {
     "iopub.execute_input": "2022-08-19T09:33:14.036784Z",
     "iopub.status.busy": "2022-08-19T09:33:14.036311Z",
     "iopub.status.idle": "2022-08-19T09:33:14.047079Z",
     "shell.execute_reply": "2022-08-19T09:33:14.045751Z"
    },
    "papermill": {
     "duration": 0.033781,
     "end_time": "2022-08-19T09:33:14.050940",
     "exception": false,
     "start_time": "2022-08-19T09:33:14.017159",
     "status": "completed"
    },
    "tags": []
   },
   "outputs": [
    {
     "name": "stdout",
     "output_type": "stream",
     "text": [
      "fixed acidity           0\n",
      "volatile acidity        0\n",
      "citric acid             0\n",
      "residual sugar          0\n",
      "chlorides               0\n",
      "free sulfur dioxide     0\n",
      "total sulfur dioxide    0\n",
      "density                 0\n",
      "pH                      0\n",
      "sulphates               0\n",
      "alcohol                 0\n",
      "quality                 0\n",
      "dtype: int64\n"
     ]
    }
   ],
   "source": [
    "print(data.isna().sum())"
   ]
  },
  {
   "cell_type": "markdown",
   "id": "f1a8ce64",
   "metadata": {
    "papermill": {
     "duration": 0.019235,
     "end_time": "2022-08-19T09:33:14.090346",
     "exception": false,
     "start_time": "2022-08-19T09:33:14.071111",
     "status": "completed"
    },
    "tags": []
   },
   "source": [
    "# 3. Explatory Data Analysis"
   ]
  },
  {
   "cell_type": "markdown",
   "id": "53026a4a",
   "metadata": {
    "papermill": {
     "duration": 0.015266,
     "end_time": "2022-08-19T09:33:14.122900",
     "exception": false,
     "start_time": "2022-08-19T09:33:14.107634",
     "status": "completed"
    },
    "tags": []
   },
   "source": [
    "## 3.1 Descriptive Statistics"
   ]
  },
  {
   "cell_type": "code",
   "execution_count": 4,
   "id": "f6bccf85",
   "metadata": {
    "execution": {
     "iopub.execute_input": "2022-08-19T09:33:14.155858Z",
     "iopub.status.busy": "2022-08-19T09:33:14.155452Z",
     "iopub.status.idle": "2022-08-19T09:33:14.163197Z",
     "shell.execute_reply": "2022-08-19T09:33:14.161971Z"
    },
    "papermill": {
     "duration": 0.026858,
     "end_time": "2022-08-19T09:33:14.165430",
     "exception": false,
     "start_time": "2022-08-19T09:33:14.138572",
     "status": "completed"
    },
    "tags": []
   },
   "outputs": [
    {
     "data": {
      "text/plain": [
       "['fixed acidity',\n",
       " 'volatile acidity',\n",
       " 'citric acid',\n",
       " 'residual sugar',\n",
       " 'chlorides',\n",
       " 'free sulfur dioxide',\n",
       " 'total sulfur dioxide',\n",
       " 'density',\n",
       " 'pH',\n",
       " 'sulphates',\n",
       " 'alcohol',\n",
       " 'quality']"
      ]
     },
     "execution_count": 4,
     "metadata": {},
     "output_type": "execute_result"
    }
   ],
   "source": [
    "data.columns.tolist() #Checking Columns"
   ]
  },
  {
   "cell_type": "code",
   "execution_count": 5,
   "id": "a7a64782",
   "metadata": {
    "execution": {
     "iopub.execute_input": "2022-08-19T09:33:14.197084Z",
     "iopub.status.busy": "2022-08-19T09:33:14.196324Z",
     "iopub.status.idle": "2022-08-19T09:33:14.249970Z",
     "shell.execute_reply": "2022-08-19T09:33:14.248808Z"
    },
    "papermill": {
     "duration": 0.072088,
     "end_time": "2022-08-19T09:33:14.252340",
     "exception": false,
     "start_time": "2022-08-19T09:33:14.180252",
     "status": "completed"
    },
    "tags": []
   },
   "outputs": [
    {
     "data": {
      "text/html": [
       "<div>\n",
       "<style scoped>\n",
       "    .dataframe tbody tr th:only-of-type {\n",
       "        vertical-align: middle;\n",
       "    }\n",
       "\n",
       "    .dataframe tbody tr th {\n",
       "        vertical-align: top;\n",
       "    }\n",
       "\n",
       "    .dataframe thead th {\n",
       "        text-align: right;\n",
       "    }\n",
       "</style>\n",
       "<table border=\"1\" class=\"dataframe\">\n",
       "  <thead>\n",
       "    <tr style=\"text-align: right;\">\n",
       "      <th></th>\n",
       "      <th>fixed acidity</th>\n",
       "      <th>volatile acidity</th>\n",
       "      <th>citric acid</th>\n",
       "      <th>residual sugar</th>\n",
       "      <th>chlorides</th>\n",
       "      <th>free sulfur dioxide</th>\n",
       "      <th>total sulfur dioxide</th>\n",
       "      <th>density</th>\n",
       "      <th>pH</th>\n",
       "      <th>sulphates</th>\n",
       "      <th>alcohol</th>\n",
       "      <th>quality</th>\n",
       "    </tr>\n",
       "  </thead>\n",
       "  <tbody>\n",
       "    <tr>\n",
       "      <th>count</th>\n",
       "      <td>1599.000000</td>\n",
       "      <td>1599.000000</td>\n",
       "      <td>1599.000000</td>\n",
       "      <td>1599.000000</td>\n",
       "      <td>1599.000000</td>\n",
       "      <td>1599.000000</td>\n",
       "      <td>1599.000000</td>\n",
       "      <td>1599.000000</td>\n",
       "      <td>1599.000000</td>\n",
       "      <td>1599.000000</td>\n",
       "      <td>1599.000000</td>\n",
       "      <td>1599.000000</td>\n",
       "    </tr>\n",
       "    <tr>\n",
       "      <th>mean</th>\n",
       "      <td>8.319637</td>\n",
       "      <td>0.527821</td>\n",
       "      <td>0.270976</td>\n",
       "      <td>2.538806</td>\n",
       "      <td>0.087467</td>\n",
       "      <td>15.874922</td>\n",
       "      <td>46.467792</td>\n",
       "      <td>0.996747</td>\n",
       "      <td>3.311113</td>\n",
       "      <td>0.658149</td>\n",
       "      <td>10.422983</td>\n",
       "      <td>5.636023</td>\n",
       "    </tr>\n",
       "    <tr>\n",
       "      <th>std</th>\n",
       "      <td>1.741096</td>\n",
       "      <td>0.179060</td>\n",
       "      <td>0.194801</td>\n",
       "      <td>1.409928</td>\n",
       "      <td>0.047065</td>\n",
       "      <td>10.460157</td>\n",
       "      <td>32.895324</td>\n",
       "      <td>0.001887</td>\n",
       "      <td>0.154386</td>\n",
       "      <td>0.169507</td>\n",
       "      <td>1.065668</td>\n",
       "      <td>0.807569</td>\n",
       "    </tr>\n",
       "    <tr>\n",
       "      <th>min</th>\n",
       "      <td>4.600000</td>\n",
       "      <td>0.120000</td>\n",
       "      <td>0.000000</td>\n",
       "      <td>0.900000</td>\n",
       "      <td>0.012000</td>\n",
       "      <td>1.000000</td>\n",
       "      <td>6.000000</td>\n",
       "      <td>0.990070</td>\n",
       "      <td>2.740000</td>\n",
       "      <td>0.330000</td>\n",
       "      <td>8.400000</td>\n",
       "      <td>3.000000</td>\n",
       "    </tr>\n",
       "    <tr>\n",
       "      <th>25%</th>\n",
       "      <td>7.100000</td>\n",
       "      <td>0.390000</td>\n",
       "      <td>0.090000</td>\n",
       "      <td>1.900000</td>\n",
       "      <td>0.070000</td>\n",
       "      <td>7.000000</td>\n",
       "      <td>22.000000</td>\n",
       "      <td>0.995600</td>\n",
       "      <td>3.210000</td>\n",
       "      <td>0.550000</td>\n",
       "      <td>9.500000</td>\n",
       "      <td>5.000000</td>\n",
       "    </tr>\n",
       "    <tr>\n",
       "      <th>50%</th>\n",
       "      <td>7.900000</td>\n",
       "      <td>0.520000</td>\n",
       "      <td>0.260000</td>\n",
       "      <td>2.200000</td>\n",
       "      <td>0.079000</td>\n",
       "      <td>14.000000</td>\n",
       "      <td>38.000000</td>\n",
       "      <td>0.996750</td>\n",
       "      <td>3.310000</td>\n",
       "      <td>0.620000</td>\n",
       "      <td>10.200000</td>\n",
       "      <td>6.000000</td>\n",
       "    </tr>\n",
       "    <tr>\n",
       "      <th>75%</th>\n",
       "      <td>9.200000</td>\n",
       "      <td>0.640000</td>\n",
       "      <td>0.420000</td>\n",
       "      <td>2.600000</td>\n",
       "      <td>0.090000</td>\n",
       "      <td>21.000000</td>\n",
       "      <td>62.000000</td>\n",
       "      <td>0.997835</td>\n",
       "      <td>3.400000</td>\n",
       "      <td>0.730000</td>\n",
       "      <td>11.100000</td>\n",
       "      <td>6.000000</td>\n",
       "    </tr>\n",
       "    <tr>\n",
       "      <th>max</th>\n",
       "      <td>15.900000</td>\n",
       "      <td>1.580000</td>\n",
       "      <td>1.000000</td>\n",
       "      <td>15.500000</td>\n",
       "      <td>0.611000</td>\n",
       "      <td>72.000000</td>\n",
       "      <td>289.000000</td>\n",
       "      <td>1.003690</td>\n",
       "      <td>4.010000</td>\n",
       "      <td>2.000000</td>\n",
       "      <td>14.900000</td>\n",
       "      <td>8.000000</td>\n",
       "    </tr>\n",
       "  </tbody>\n",
       "</table>\n",
       "</div>"
      ],
      "text/plain": [
       "       fixed acidity  volatile acidity  citric acid  residual sugar  \\\n",
       "count    1599.000000       1599.000000  1599.000000     1599.000000   \n",
       "mean        8.319637          0.527821     0.270976        2.538806   \n",
       "std         1.741096          0.179060     0.194801        1.409928   \n",
       "min         4.600000          0.120000     0.000000        0.900000   \n",
       "25%         7.100000          0.390000     0.090000        1.900000   \n",
       "50%         7.900000          0.520000     0.260000        2.200000   \n",
       "75%         9.200000          0.640000     0.420000        2.600000   \n",
       "max        15.900000          1.580000     1.000000       15.500000   \n",
       "\n",
       "         chlorides  free sulfur dioxide  total sulfur dioxide      density  \\\n",
       "count  1599.000000          1599.000000           1599.000000  1599.000000   \n",
       "mean      0.087467            15.874922             46.467792     0.996747   \n",
       "std       0.047065            10.460157             32.895324     0.001887   \n",
       "min       0.012000             1.000000              6.000000     0.990070   \n",
       "25%       0.070000             7.000000             22.000000     0.995600   \n",
       "50%       0.079000            14.000000             38.000000     0.996750   \n",
       "75%       0.090000            21.000000             62.000000     0.997835   \n",
       "max       0.611000            72.000000            289.000000     1.003690   \n",
       "\n",
       "                pH    sulphates      alcohol      quality  \n",
       "count  1599.000000  1599.000000  1599.000000  1599.000000  \n",
       "mean      3.311113     0.658149    10.422983     5.636023  \n",
       "std       0.154386     0.169507     1.065668     0.807569  \n",
       "min       2.740000     0.330000     8.400000     3.000000  \n",
       "25%       3.210000     0.550000     9.500000     5.000000  \n",
       "50%       3.310000     0.620000    10.200000     6.000000  \n",
       "75%       3.400000     0.730000    11.100000     6.000000  \n",
       "max       4.010000     2.000000    14.900000     8.000000  "
      ]
     },
     "execution_count": 5,
     "metadata": {},
     "output_type": "execute_result"
    }
   ],
   "source": [
    "data.describe() #Descriptive Statistics"
   ]
  },
  {
   "cell_type": "code",
   "execution_count": 6,
   "id": "4af84f20",
   "metadata": {
    "execution": {
     "iopub.execute_input": "2022-08-19T09:33:14.284680Z",
     "iopub.status.busy": "2022-08-19T09:33:14.283662Z",
     "iopub.status.idle": "2022-08-19T09:33:14.301603Z",
     "shell.execute_reply": "2022-08-19T09:33:14.299805Z"
    },
    "papermill": {
     "duration": 0.036545,
     "end_time": "2022-08-19T09:33:14.303984",
     "exception": false,
     "start_time": "2022-08-19T09:33:14.267439",
     "status": "completed"
    },
    "tags": []
   },
   "outputs": [
    {
     "name": "stdout",
     "output_type": "stream",
     "text": [
      "<class 'pandas.core.frame.DataFrame'>\n",
      "RangeIndex: 1599 entries, 0 to 1598\n",
      "Data columns (total 12 columns):\n",
      " #   Column                Non-Null Count  Dtype  \n",
      "---  ------                --------------  -----  \n",
      " 0   fixed acidity         1599 non-null   float64\n",
      " 1   volatile acidity      1599 non-null   float64\n",
      " 2   citric acid           1599 non-null   float64\n",
      " 3   residual sugar        1599 non-null   float64\n",
      " 4   chlorides             1599 non-null   float64\n",
      " 5   free sulfur dioxide   1599 non-null   float64\n",
      " 6   total sulfur dioxide  1599 non-null   float64\n",
      " 7   density               1599 non-null   float64\n",
      " 8   pH                    1599 non-null   float64\n",
      " 9   sulphates             1599 non-null   float64\n",
      " 10  alcohol               1599 non-null   float64\n",
      " 11  quality               1599 non-null   int64  \n",
      "dtypes: float64(11), int64(1)\n",
      "memory usage: 150.0 KB\n"
     ]
    }
   ],
   "source": [
    "data.info()"
   ]
  },
  {
   "cell_type": "markdown",
   "id": "07ca1309",
   "metadata": {
    "papermill": {
     "duration": 0.014952,
     "end_time": "2022-08-19T09:33:14.334260",
     "exception": false,
     "start_time": "2022-08-19T09:33:14.319308",
     "status": "completed"
    },
    "tags": []
   },
   "source": [
    "## 3.2 Missing data"
   ]
  },
  {
   "cell_type": "code",
   "execution_count": 7,
   "id": "249143a0",
   "metadata": {
    "execution": {
     "iopub.execute_input": "2022-08-19T09:33:14.370779Z",
     "iopub.status.busy": "2022-08-19T09:33:14.369773Z",
     "iopub.status.idle": "2022-08-19T09:33:14.379637Z",
     "shell.execute_reply": "2022-08-19T09:33:14.378797Z"
    },
    "papermill": {
     "duration": 0.031333,
     "end_time": "2022-08-19T09:33:14.382452",
     "exception": false,
     "start_time": "2022-08-19T09:33:14.351119",
     "status": "completed"
    },
    "tags": []
   },
   "outputs": [
    {
     "data": {
      "text/plain": [
       "fixed acidity           0\n",
       "volatile acidity        0\n",
       "citric acid             0\n",
       "residual sugar          0\n",
       "chlorides               0\n",
       "free sulfur dioxide     0\n",
       "total sulfur dioxide    0\n",
       "density                 0\n",
       "pH                      0\n",
       "sulphates               0\n",
       "alcohol                 0\n",
       "quality                 0\n",
       "dtype: int64"
      ]
     },
     "execution_count": 7,
     "metadata": {},
     "output_type": "execute_result"
    }
   ],
   "source": [
    "data.isnull().sum() "
   ]
  },
  {
   "cell_type": "raw",
   "id": "d2f1d30c",
   "metadata": {
    "papermill": {
     "duration": 0.015946,
     "end_time": "2022-08-19T09:33:14.415890",
     "exception": false,
     "start_time": "2022-08-19T09:33:14.399944",
     "status": "completed"
    },
    "tags": []
   },
   "source": [
    "We do not have nay missing value. If we did, we would have filled in those values using suitable statistical methods."
   ]
  },
  {
   "cell_type": "markdown",
   "id": "a0eca769",
   "metadata": {
    "papermill": {
     "duration": 0.016232,
     "end_time": "2022-08-19T09:33:14.448912",
     "exception": false,
     "start_time": "2022-08-19T09:33:14.432680",
     "status": "completed"
    },
    "tags": []
   },
   "source": [
    "## 3.3 Data Visuilization"
   ]
  },
  {
   "cell_type": "code",
   "execution_count": 8,
   "id": "e5d62c6a",
   "metadata": {
    "execution": {
     "iopub.execute_input": "2022-08-19T09:33:14.481962Z",
     "iopub.status.busy": "2022-08-19T09:33:14.481475Z",
     "iopub.status.idle": "2022-08-19T09:33:14.662531Z",
     "shell.execute_reply": "2022-08-19T09:33:14.661552Z"
    },
    "papermill": {
     "duration": 0.200569,
     "end_time": "2022-08-19T09:33:14.665050",
     "exception": false,
     "start_time": "2022-08-19T09:33:14.464481",
     "status": "completed"
    },
    "tags": []
   },
   "outputs": [
    {
     "data": {
      "text/plain": [
       "<AxesSubplot:xlabel='quality', ylabel='count'>"
      ]
     },
     "execution_count": 8,
     "metadata": {},
     "output_type": "execute_result"
    },
    {
     "data": {
      "image/png": "[encoded data removed]",
      "text/plain": [
       "<Figure size 432x288 with 1 Axes>"
      ]
     },
     "metadata": {
      "needs_background": "light"
     },
     "output_type": "display_data"
    }
   ],
   "source": [
    "sns.countplot(x='quality',data=data) #Distribution of target variable"
   ]
  },
  {
   "cell_type": "raw",
   "id": "2793988f",
   "metadata": {
    "papermill": {
     "duration": 0.015247,
     "end_time": "2022-08-19T09:33:14.696059",
     "exception": false,
     "start_time": "2022-08-19T09:33:14.680812",
     "status": "completed"
    },
    "tags": []
   },
   "source": [
    "We can see average quality wine has the most occuring"
   ]
  },
  {
   "cell_type": "code",
   "execution_count": 9,
   "id": "07b91a9a",
   "metadata": {
    "execution": {
     "iopub.execute_input": "2022-08-19T09:33:14.729234Z",
     "iopub.status.busy": "2022-08-19T09:33:14.728673Z",
     "iopub.status.idle": "2022-08-19T09:33:15.698936Z",
     "shell.execute_reply": "2022-08-19T09:33:15.697630Z"
    },
    "papermill": {
     "duration": 0.991037,
     "end_time": "2022-08-19T09:33:15.702782",
     "exception": false,
     "start_time": "2022-08-19T09:33:14.711745",
     "status": "completed"
    },
    "tags": []
   },
   "outputs": [
    {
     "data": {
      "text/plain": [
       "<AxesSubplot:>"
      ]
     },
     "execution_count": 9,
     "metadata": {},
     "output_type": "execute_result"
    },
    {
     "data": {
      "image/png": "[encoded data removed]",
      "text/plain": [
       "<Figure size 1440x720 with 2 Axes>"
      ]
     },
     "metadata": {
      "needs_background": "light"
     },
     "output_type": "display_data"
    }
   ],
   "source": [
    "plt.figure(figsize = (20,10))\n",
    "sns.heatmap(data.corr(),annot = True)"
   ]
  },
  {
   "cell_type": "code",
   "execution_count": 10,
   "id": "bf0c9793",
   "metadata": {
    "execution": {
     "iopub.execute_input": "2022-08-19T09:33:15.744576Z",
     "iopub.status.busy": "2022-08-19T09:33:15.744205Z",
     "iopub.status.idle": "2022-08-19T09:33:15.755019Z",
     "shell.execute_reply": "2022-08-19T09:33:15.754017Z"
    },
    "papermill": {
     "duration": 0.03624,
     "end_time": "2022-08-19T09:33:15.757366",
     "exception": false,
     "start_time": "2022-08-19T09:33:15.721126",
     "status": "completed"
    },
    "tags": []
   },
   "outputs": [
    {
     "data": {
      "text/plain": [
       "quality                 1.000000\n",
       "alcohol                 0.476166\n",
       "sulphates               0.251397\n",
       "citric acid             0.226373\n",
       "fixed acidity           0.124052\n",
       "residual sugar          0.013732\n",
       "free sulfur dioxide    -0.050656\n",
       "pH                     -0.057731\n",
       "chlorides              -0.128907\n",
       "density                -0.174919\n",
       "total sulfur dioxide   -0.185100\n",
       "volatile acidity       -0.390558\n",
       "Name: quality, dtype: float64"
      ]
     },
     "execution_count": 10,
     "metadata": {},
     "output_type": "execute_result"
    }
   ],
   "source": [
    "data.corr()['quality'].sort_values(ascending=False)"
   ]
  },
  {
   "cell_type": "code",
   "execution_count": 11,
   "id": "58d1f8e4",
   "metadata": {
    "execution": {
     "iopub.execute_input": "2022-08-19T09:33:15.794370Z",
     "iopub.status.busy": "2022-08-19T09:33:15.793961Z",
     "iopub.status.idle": "2022-08-19T09:33:19.039529Z",
     "shell.execute_reply": "2022-08-19T09:33:19.038351Z"
    },
    "papermill": {
     "duration": 3.266915,
     "end_time": "2022-08-19T09:33:19.042061",
     "exception": false,
     "start_time": "2022-08-19T09:33:15.775146",
     "status": "completed"
    },
    "tags": []
   },
   "outputs": [
    {
     "data": {
      "image/png": "[encoded data removed]",
      "text/plain": [
       "<Figure size 1080x720 with 11 Axes>"
      ]
     },
     "metadata": {
      "needs_background": "light"
     },
     "output_type": "display_data"
    }
   ],
   "source": [
    "fig = plt.figure(figsize=(15,10))\n",
    "plt.subplot(3,4,1)\n",
    "sns.barplot(x='quality',y='fixed acidity',data=data)\n",
    "plt.subplot(3,4,2)\n",
    "sns.barplot(x='quality',y='volatile acidity',data=data)\n",
    "plt.subplot(3,4,3)\n",
    "sns.barplot(x='quality',y='citric acid',data=data)\n",
    "plt.subplot(3,4,4)\n",
    "sns.barplot(x='quality',y='residual sugar',data=data)\n",
    "plt.subplot(3,4,5)\n",
    "sns.barplot(x='quality',y='chlorides',data=data)\n",
    "plt.subplot(3,4,6)\n",
    "sns.barplot(x='quality',y='free sulfur dioxide',data=data)\n",
    "plt.subplot(3,4,7)\n",
    "sns.barplot(x='quality',y='total sulfur dioxide',data=data)\n",
    "plt.subplot(3,4,8)\n",
    "sns.barplot(x='quality',y='density',data=data)\n",
    "plt.subplot(3,4,9)\n",
    "sns.barplot(x='quality',y='pH',data=data)\n",
    "plt.subplot(3,4,10)\n",
    "sns.barplot(x='quality',y='sulphates',data=data)\n",
    "plt.subplot(3,4,11)\n",
    "sns.barplot(x='quality',y='alcohol',data=data)\n",
    "plt.tight_layout()"
   ]
  },
  {
   "cell_type": "raw",
   "id": "e714ca02",
   "metadata": {
    "papermill": {
     "duration": 0.018445,
     "end_time": "2022-08-19T09:33:19.079321",
     "exception": false,
     "start_time": "2022-08-19T09:33:19.060876",
     "status": "completed"
    },
    "tags": []
   },
   "source": [
    "We can infer from the graphs:\n",
    "1. Both good and bad quailty wine has almost same fixed acidity.\n",
    "2. Wine with more volatile acidity is considered poor\n",
    "3. Good quality wine has more citric acid\n",
    "4. All wine qualities has almost simialr residue sugar.\n",
    "5. Poor quality wine has almost twice the volume of chlride than good quality wine.\n",
    "6. Average quality wine has most cncentration of free sulpher dioxide\n",
    "7. Total Sulpher Dioxide is in highest concentration in average quality wine\n",
    "8. Density and pH of all wine qualities is the nearabout the same.\n",
    "9. Good quality wine has comperatively hiher proportion of sulphates and alchol in it."
   ]
  },
  {
   "cell_type": "markdown",
   "id": "e0ed9b8d",
   "metadata": {
    "papermill": {
     "duration": 0.018114,
     "end_time": "2022-08-19T09:33:19.116095",
     "exception": false,
     "start_time": "2022-08-19T09:33:19.097981",
     "status": "completed"
    },
    "tags": []
   },
   "source": [
    "# 4 Feature Engineering"
   ]
  },
  {
   "cell_type": "markdown",
   "id": "6beb6e41",
   "metadata": {
    "papermill": {
     "duration": 0.017751,
     "end_time": "2022-08-19T09:33:19.152153",
     "exception": false,
     "start_time": "2022-08-19T09:33:19.134402",
     "status": "completed"
    },
    "tags": []
   },
   "source": [
    "## 4.1 Checking for Outliers"
   ]
  },
  {
   "cell_type": "code",
   "execution_count": 12,
   "id": "3ded7a94",
   "metadata": {
    "execution": {
     "iopub.execute_input": "2022-08-19T09:33:19.190334Z",
     "iopub.status.busy": "2022-08-19T09:33:19.189600Z",
     "iopub.status.idle": "2022-08-19T09:33:20.618045Z",
     "shell.execute_reply": "2022-08-19T09:33:20.617072Z"
    },
    "papermill": {
     "duration": 1.450099,
     "end_time": "2022-08-19T09:33:20.620284",
     "exception": false,
     "start_time": "2022-08-19T09:33:19.170185",
     "status": "completed"
    },
    "tags": []
   },
   "outputs": [
    {
     "data": {
      "image/png": "[encoded data removed]",
      "text/plain": [
       "<Figure size 1080x720 with 12 Axes>"
      ]
     },
     "metadata": {
      "needs_background": "light"
     },
     "output_type": "display_data"
    }
   ],
   "source": [
    "fig,axis=plt.subplots(ncols=4,nrows=3,figsize=(15,10))\n",
    "index=0\n",
    "axis=axis.flatten()\n",
    "\n",
    "for col,values in data.items():\n",
    "    sns.boxplot(y=col,data=data,color='r',ax=axis[index])\n",
    "    index+=1\n",
    "plt.tight_layout(pad=0.5,w_pad=0.7,h_pad=5.0)"
   ]
  },
  {
   "cell_type": "markdown",
   "id": "65651c60",
   "metadata": {
    "papermill": {
     "duration": 0.018832,
     "end_time": "2022-08-19T09:33:20.658397",
     "exception": false,
     "start_time": "2022-08-19T09:33:20.639565",
     "status": "completed"
    },
    "tags": []
   },
   "source": [
    "## 4.2 Removing Outliers"
   ]
  },
  {
   "cell_type": "code",
   "execution_count": 13,
   "id": "402485b2",
   "metadata": {
    "execution": {
     "iopub.execute_input": "2022-08-19T09:33:20.698627Z",
     "iopub.status.busy": "2022-08-19T09:33:20.697570Z",
     "iopub.status.idle": "2022-08-19T09:33:20.702483Z",
     "shell.execute_reply": "2022-08-19T09:33:20.701403Z"
    },
    "papermill": {
     "duration": 0.027211,
     "end_time": "2022-08-19T09:33:20.704667",
     "exception": false,
     "start_time": "2022-08-19T09:33:20.677456",
     "status": "completed"
    },
    "tags": []
   },
   "outputs": [],
   "source": [
    "import warnings as wr\n",
    "wr.filterwarnings('ignore')"
   ]
  },
  {
   "cell_type": "code",
   "execution_count": 14,
   "id": "2ddc119d",
   "metadata": {
    "execution": {
     "iopub.execute_input": "2022-08-19T09:33:20.745454Z",
     "iopub.status.busy": "2022-08-19T09:33:20.745041Z",
     "iopub.status.idle": "2022-08-19T09:33:21.359139Z",
     "shell.execute_reply": "2022-08-19T09:33:21.357968Z"
    },
    "papermill": {
     "duration": 0.638458,
     "end_time": "2022-08-19T09:33:21.361987",
     "exception": false,
     "start_time": "2022-08-19T09:33:20.723529",
     "status": "completed"
    },
    "tags": []
   },
   "outputs": [],
   "source": [
    "def outlier(data):\n",
    "    df1=data.copy()\n",
    "    data=data._get_numeric_data()\n",
    "    q1=data.quantile(0.25)\n",
    "    q3=data.quantile(0.75)\n",
    "    iqr=q3-q1\n",
    "    lower_bound=q1-(1.5*iqr)\n",
    "    upper_bound=q3+(1.5*iqr)\n",
    "    \n",
    "    for col in data.columns:\n",
    "        for i in range(0,len(data[col])):\n",
    "            if data[col][i] < lower_bound[col]:\n",
    "                data[col][i] = lower_bound[col]\n",
    "                \n",
    "            if data[col][i] > upper_bound[col]:\n",
    "                data[col][i] = upper_bound[col]\n",
    "    \n",
    "    for col in data.columns:\n",
    "        df1[col]=data[col]\n",
    "        \n",
    "    return(df1)\n",
    "\n",
    "df=outlier(data)"
   ]
  },
  {
   "cell_type": "code",
   "execution_count": 15,
   "id": "91483f05",
   "metadata": {
    "execution": {
     "iopub.execute_input": "2022-08-19T09:33:21.401966Z",
     "iopub.status.busy": "2022-08-19T09:33:21.400898Z",
     "iopub.status.idle": "2022-08-19T09:33:22.670523Z",
     "shell.execute_reply": "2022-08-19T09:33:22.669410Z"
    },
    "papermill": {
     "duration": 1.292266,
     "end_time": "2022-08-19T09:33:22.673110",
     "exception": false,
     "start_time": "2022-08-19T09:33:21.380844",
     "status": "completed"
    },
    "tags": []
   },
   "outputs": [
    {
     "data": {
      "image/png": "[encoded data removed]",
      "text/plain": [
       "<Figure size 1080x720 with 12 Axes>"
      ]
     },
     "metadata": {
      "needs_background": "light"
     },
     "output_type": "display_data"
    }
   ],
   "source": [
    "#Data after outlier removal\n",
    "fig,axis=plt.subplots(ncols=4,nrows=3,figsize=(15,10))\n",
    "index=0\n",
    "axis=axis.flatten()\n",
    "\n",
    "for col,values in data.items():\n",
    "    sns.boxplot(y=col,data=df,color='b',ax=axis[index])\n",
    "    index+=1\n",
    "plt.tight_layout(pad=0.5,w_pad=0.7,h_pad=5.0)"
   ]
  },
  {
   "cell_type": "markdown",
   "id": "4ba2c962",
   "metadata": {
    "papermill": {
     "duration": 0.0193,
     "end_time": "2022-08-19T09:33:22.712176",
     "exception": false,
     "start_time": "2022-08-19T09:33:22.692876",
     "status": "completed"
    },
    "tags": []
   },
   "source": [
    "### Counting the instances of each class"
   ]
  },
  {
   "cell_type": "code",
   "execution_count": 16,
   "id": "63850af5",
   "metadata": {
    "execution": {
     "iopub.execute_input": "2022-08-19T09:33:22.753019Z",
     "iopub.status.busy": "2022-08-19T09:33:22.752624Z",
     "iopub.status.idle": "2022-08-19T09:33:22.760973Z",
     "shell.execute_reply": "2022-08-19T09:33:22.759858Z"
    },
    "papermill": {
     "duration": 0.031438,
     "end_time": "2022-08-19T09:33:22.763226",
     "exception": false,
     "start_time": "2022-08-19T09:33:22.731788",
     "status": "completed"
    },
    "tags": []
   },
   "outputs": [
    {
     "data": {
      "text/plain": [
       "5    681\n",
       "6    638\n",
       "7    217\n",
       "4     53\n",
       "3     10\n",
       "Name: quality, dtype: int64"
      ]
     },
     "execution_count": 16,
     "metadata": {},
     "output_type": "execute_result"
    }
   ],
   "source": [
    "data['quality'].value_counts() #Checking for the frequency of each wine quality"
   ]
  },
  {
   "cell_type": "markdown",
   "id": "649bb546",
   "metadata": {
    "papermill": {
     "duration": 0.019679,
     "end_time": "2022-08-19T09:33:22.803205",
     "exception": false,
     "start_time": "2022-08-19T09:33:22.783526",
     "status": "completed"
    },
    "tags": []
   },
   "source": [
    "### Convert to a Classification Problem"
   ]
  },
  {
   "cell_type": "raw",
   "id": "0ab88974",
   "metadata": {
    "papermill": {
     "duration": 0.019426,
     "end_time": "2022-08-19T09:33:22.842365",
     "exception": false,
     "start_time": "2022-08-19T09:33:22.822939",
     "status": "completed"
    },
    "tags": []
   },
   "source": [
    "To convert to a classification problem, we set our qulaity threshold to 7, anything abobe that will be classifies as good quality, everything below as poor quality"
   ]
  },
  {
   "cell_type": "code",
   "execution_count": 17,
   "id": "19aefc31",
   "metadata": {
    "execution": {
     "iopub.execute_input": "2022-08-19T09:33:22.884048Z",
     "iopub.status.busy": "2022-08-19T09:33:22.883297Z",
     "iopub.status.idle": "2022-08-19T09:33:22.909691Z",
     "shell.execute_reply": "2022-08-19T09:33:22.908415Z"
    },
    "papermill": {
     "duration": 0.050079,
     "end_time": "2022-08-19T09:33:22.912234",
     "exception": false,
     "start_time": "2022-08-19T09:33:22.862155",
     "status": "completed"
    },
    "tags": []
   },
   "outputs": [
    {
     "data": {
      "text/html": [
       "<div>\n",
       "<style scoped>\n",
       "    .dataframe tbody tr th:only-of-type {\n",
       "        vertical-align: middle;\n",
       "    }\n",
       "\n",
       "    .dataframe tbody tr th {\n",
       "        vertical-align: top;\n",
       "    }\n",
       "\n",
       "    .dataframe thead th {\n",
       "        text-align: right;\n",
       "    }\n",
       "</style>\n",
       "<table border=\"1\" class=\"dataframe\">\n",
       "  <thead>\n",
       "    <tr style=\"text-align: right;\">\n",
       "      <th></th>\n",
       "      <th>fixed acidity</th>\n",
       "      <th>volatile acidity</th>\n",
       "      <th>citric acid</th>\n",
       "      <th>residual sugar</th>\n",
       "      <th>chlorides</th>\n",
       "      <th>free sulfur dioxide</th>\n",
       "      <th>total sulfur dioxide</th>\n",
       "      <th>density</th>\n",
       "      <th>pH</th>\n",
       "      <th>sulphates</th>\n",
       "      <th>alcohol</th>\n",
       "      <th>quality</th>\n",
       "      <th>good_quality</th>\n",
       "    </tr>\n",
       "  </thead>\n",
       "  <tbody>\n",
       "    <tr>\n",
       "      <th>0</th>\n",
       "      <td>7.4</td>\n",
       "      <td>0.70</td>\n",
       "      <td>0.00</td>\n",
       "      <td>1.90</td>\n",
       "      <td>0.076</td>\n",
       "      <td>11.0</td>\n",
       "      <td>34.0</td>\n",
       "      <td>0.9978</td>\n",
       "      <td>3.51</td>\n",
       "      <td>0.56</td>\n",
       "      <td>9.4</td>\n",
       "      <td>5</td>\n",
       "      <td>no</td>\n",
       "    </tr>\n",
       "    <tr>\n",
       "      <th>1</th>\n",
       "      <td>7.8</td>\n",
       "      <td>0.88</td>\n",
       "      <td>0.00</td>\n",
       "      <td>2.60</td>\n",
       "      <td>0.098</td>\n",
       "      <td>25.0</td>\n",
       "      <td>67.0</td>\n",
       "      <td>0.9968</td>\n",
       "      <td>3.20</td>\n",
       "      <td>0.68</td>\n",
       "      <td>9.8</td>\n",
       "      <td>5</td>\n",
       "      <td>no</td>\n",
       "    </tr>\n",
       "    <tr>\n",
       "      <th>2</th>\n",
       "      <td>7.8</td>\n",
       "      <td>0.76</td>\n",
       "      <td>0.04</td>\n",
       "      <td>2.30</td>\n",
       "      <td>0.092</td>\n",
       "      <td>15.0</td>\n",
       "      <td>54.0</td>\n",
       "      <td>0.9970</td>\n",
       "      <td>3.26</td>\n",
       "      <td>0.65</td>\n",
       "      <td>9.8</td>\n",
       "      <td>5</td>\n",
       "      <td>no</td>\n",
       "    </tr>\n",
       "    <tr>\n",
       "      <th>3</th>\n",
       "      <td>11.2</td>\n",
       "      <td>0.28</td>\n",
       "      <td>0.56</td>\n",
       "      <td>1.90</td>\n",
       "      <td>0.075</td>\n",
       "      <td>17.0</td>\n",
       "      <td>60.0</td>\n",
       "      <td>0.9980</td>\n",
       "      <td>3.16</td>\n",
       "      <td>0.58</td>\n",
       "      <td>9.8</td>\n",
       "      <td>6</td>\n",
       "      <td>no</td>\n",
       "    </tr>\n",
       "    <tr>\n",
       "      <th>4</th>\n",
       "      <td>7.4</td>\n",
       "      <td>0.70</td>\n",
       "      <td>0.00</td>\n",
       "      <td>1.90</td>\n",
       "      <td>0.076</td>\n",
       "      <td>11.0</td>\n",
       "      <td>34.0</td>\n",
       "      <td>0.9978</td>\n",
       "      <td>3.51</td>\n",
       "      <td>0.56</td>\n",
       "      <td>9.4</td>\n",
       "      <td>5</td>\n",
       "      <td>no</td>\n",
       "    </tr>\n",
       "    <tr>\n",
       "      <th>5</th>\n",
       "      <td>7.4</td>\n",
       "      <td>0.66</td>\n",
       "      <td>0.00</td>\n",
       "      <td>1.80</td>\n",
       "      <td>0.075</td>\n",
       "      <td>13.0</td>\n",
       "      <td>40.0</td>\n",
       "      <td>0.9978</td>\n",
       "      <td>3.51</td>\n",
       "      <td>0.56</td>\n",
       "      <td>9.4</td>\n",
       "      <td>5</td>\n",
       "      <td>no</td>\n",
       "    </tr>\n",
       "    <tr>\n",
       "      <th>6</th>\n",
       "      <td>7.9</td>\n",
       "      <td>0.60</td>\n",
       "      <td>0.06</td>\n",
       "      <td>1.60</td>\n",
       "      <td>0.069</td>\n",
       "      <td>15.0</td>\n",
       "      <td>59.0</td>\n",
       "      <td>0.9964</td>\n",
       "      <td>3.30</td>\n",
       "      <td>0.46</td>\n",
       "      <td>9.4</td>\n",
       "      <td>5</td>\n",
       "      <td>no</td>\n",
       "    </tr>\n",
       "    <tr>\n",
       "      <th>7</th>\n",
       "      <td>7.3</td>\n",
       "      <td>0.65</td>\n",
       "      <td>0.00</td>\n",
       "      <td>1.20</td>\n",
       "      <td>0.065</td>\n",
       "      <td>15.0</td>\n",
       "      <td>21.0</td>\n",
       "      <td>0.9946</td>\n",
       "      <td>3.39</td>\n",
       "      <td>0.47</td>\n",
       "      <td>10.0</td>\n",
       "      <td>7</td>\n",
       "      <td>yes</td>\n",
       "    </tr>\n",
       "    <tr>\n",
       "      <th>8</th>\n",
       "      <td>7.8</td>\n",
       "      <td>0.58</td>\n",
       "      <td>0.02</td>\n",
       "      <td>2.00</td>\n",
       "      <td>0.073</td>\n",
       "      <td>9.0</td>\n",
       "      <td>18.0</td>\n",
       "      <td>0.9968</td>\n",
       "      <td>3.36</td>\n",
       "      <td>0.57</td>\n",
       "      <td>9.5</td>\n",
       "      <td>7</td>\n",
       "      <td>yes</td>\n",
       "    </tr>\n",
       "    <tr>\n",
       "      <th>9</th>\n",
       "      <td>7.5</td>\n",
       "      <td>0.50</td>\n",
       "      <td>0.36</td>\n",
       "      <td>3.65</td>\n",
       "      <td>0.071</td>\n",
       "      <td>17.0</td>\n",
       "      <td>102.0</td>\n",
       "      <td>0.9978</td>\n",
       "      <td>3.35</td>\n",
       "      <td>0.80</td>\n",
       "      <td>10.5</td>\n",
       "      <td>5</td>\n",
       "      <td>no</td>\n",
       "    </tr>\n",
       "  </tbody>\n",
       "</table>\n",
       "</div>"
      ],
      "text/plain": [
       "   fixed acidity  volatile acidity  citric acid  residual sugar  chlorides  \\\n",
       "0            7.4              0.70         0.00            1.90      0.076   \n",
       "1            7.8              0.88         0.00            2.60      0.098   \n",
       "2            7.8              0.76         0.04            2.30      0.092   \n",
       "3           11.2              0.28         0.56            1.90      0.075   \n",
       "4            7.4              0.70         0.00            1.90      0.076   \n",
       "5            7.4              0.66         0.00            1.80      0.075   \n",
       "6            7.9              0.60         0.06            1.60      0.069   \n",
       "7            7.3              0.65         0.00            1.20      0.065   \n",
       "8            7.8              0.58         0.02            2.00      0.073   \n",
       "9            7.5              0.50         0.36            3.65      0.071   \n",
       "\n",
       "   free sulfur dioxide  total sulfur dioxide  density    pH  sulphates  \\\n",
       "0                 11.0                  34.0   0.9978  3.51       0.56   \n",
       "1                 25.0                  67.0   0.9968  3.20       0.68   \n",
       "2                 15.0                  54.0   0.9970  3.26       0.65   \n",
       "3                 17.0                  60.0   0.9980  3.16       0.58   \n",
       "4                 11.0                  34.0   0.9978  3.51       0.56   \n",
       "5                 13.0                  40.0   0.9978  3.51       0.56   \n",
       "6                 15.0                  59.0   0.9964  3.30       0.46   \n",
       "7                 15.0                  21.0   0.9946  3.39       0.47   \n",
       "8                  9.0                  18.0   0.9968  3.36       0.57   \n",
       "9                 17.0                 102.0   0.9978  3.35       0.80   \n",
       "\n",
       "   alcohol  quality good_quality  \n",
       "0      9.4        5           no  \n",
       "1      9.8        5           no  \n",
       "2      9.8        5           no  \n",
       "3      9.8        6           no  \n",
       "4      9.4        5           no  \n",
       "5      9.4        5           no  \n",
       "6      9.4        5           no  \n",
       "7     10.0        7          yes  \n",
       "8      9.5        7          yes  \n",
       "9     10.5        5           no  "
      ]
     },
     "execution_count": 17,
     "metadata": {},
     "output_type": "execute_result"
    }
   ],
   "source": [
    "data['good_quality']=[\"yes\" if x>=7 else 'no' for x in data['quality']]\n",
    "data.head(10)"
   ]
  },
  {
   "cell_type": "markdown",
   "id": "ac311428",
   "metadata": {
    "papermill": {
     "duration": 0.019891,
     "end_time": "2022-08-19T09:33:22.952606",
     "exception": false,
     "start_time": "2022-08-19T09:33:22.932715",
     "status": "completed"
    },
    "tags": []
   },
   "source": [
    "### Label encoding the target variable"
   ]
  },
  {
   "cell_type": "raw",
   "id": "a229f436",
   "metadata": {
    "papermill": {
     "duration": 0.020039,
     "end_time": "2022-08-19T09:33:22.993147",
     "exception": false,
     "start_time": "2022-08-19T09:33:22.973108",
     "status": "completed"
    },
    "tags": []
   },
   "source": [
    "Since the data is categorized as good and bad, we need to convert to ordinal categorical value."
   ]
  },
  {
   "cell_type": "code",
   "execution_count": 18,
   "id": "0a241e17",
   "metadata": {
    "execution": {
     "iopub.execute_input": "2022-08-19T09:33:23.036126Z",
     "iopub.status.busy": "2022-08-19T09:33:23.035379Z",
     "iopub.status.idle": "2022-08-19T09:33:23.169881Z",
     "shell.execute_reply": "2022-08-19T09:33:23.168926Z"
    },
    "papermill": {
     "duration": 0.159101,
     "end_time": "2022-08-19T09:33:23.172540",
     "exception": false,
     "start_time": "2022-08-19T09:33:23.013439",
     "status": "completed"
    },
    "tags": []
   },
   "outputs": [],
   "source": [
    "from sklearn.preprocessing import LabelEncoder\n",
    "le = LabelEncoder()\n",
    "data['good_quality']=le.fit_transform(data['good_quality'])"
   ]
  },
  {
   "cell_type": "code",
   "execution_count": 19,
   "id": "04b56cb9",
   "metadata": {
    "execution": {
     "iopub.execute_input": "2022-08-19T09:33:23.214949Z",
     "iopub.status.busy": "2022-08-19T09:33:23.214284Z",
     "iopub.status.idle": "2022-08-19T09:33:23.222715Z",
     "shell.execute_reply": "2022-08-19T09:33:23.221862Z"
    },
    "papermill": {
     "duration": 0.031721,
     "end_time": "2022-08-19T09:33:23.224710",
     "exception": false,
     "start_time": "2022-08-19T09:33:23.192989",
     "status": "completed"
    },
    "tags": []
   },
   "outputs": [
    {
     "data": {
      "text/plain": [
       "0    1382\n",
       "1     217\n",
       "Name: good_quality, dtype: int64"
      ]
     },
     "execution_count": 19,
     "metadata": {},
     "output_type": "execute_result"
    }
   ],
   "source": [
    "data['good_quality'].value_counts() #Checking the proportion of yes to no in good_quality"
   ]
  },
  {
   "cell_type": "code",
   "execution_count": 20,
   "id": "0db31753",
   "metadata": {
    "execution": {
     "iopub.execute_input": "2022-08-19T09:33:23.267308Z",
     "iopub.status.busy": "2022-08-19T09:33:23.266247Z",
     "iopub.status.idle": "2022-08-19T09:33:23.272501Z",
     "shell.execute_reply": "2022-08-19T09:33:23.271661Z"
    },
    "papermill": {
     "duration": 0.029548,
     "end_time": "2022-08-19T09:33:23.274608",
     "exception": false,
     "start_time": "2022-08-19T09:33:23.245060",
     "status": "completed"
    },
    "tags": []
   },
   "outputs": [],
   "source": [
    "X=data.drop(['quality','good_quality'],axis=1)\n",
    "y=data['good_quality']"
   ]
  },
  {
   "cell_type": "markdown",
   "id": "3fbb6bcf",
   "metadata": {
    "papermill": {
     "duration": 0.019838,
     "end_time": "2022-08-19T09:33:23.314771",
     "exception": false,
     "start_time": "2022-08-19T09:33:23.294933",
     "status": "completed"
    },
    "tags": []
   },
   "source": [
    "## Resampling"
   ]
  },
  {
   "cell_type": "raw",
   "id": "66972036",
   "metadata": {
    "papermill": {
     "duration": 0.019717,
     "end_time": "2022-08-19T09:33:23.354607",
     "exception": false,
     "start_time": "2022-08-19T09:33:23.334890",
     "status": "completed"
    },
    "tags": []
   },
   "source": [
    "Since the data is mostly conataing a no value for good_quality, we resample it so that both the categories are in equal proportion\n",
    "The resultant will contain 2*217 rows"
   ]
  },
  {
   "cell_type": "code",
   "execution_count": 21,
   "id": "4876ba11",
   "metadata": {
    "execution": {
     "iopub.execute_input": "2022-08-19T09:33:23.396961Z",
     "iopub.status.busy": "2022-08-19T09:33:23.396257Z",
     "iopub.status.idle": "2022-08-19T09:33:23.400144Z",
     "shell.execute_reply": "2022-08-19T09:33:23.399416Z"
    },
    "papermill": {
     "duration": 0.027409,
     "end_time": "2022-08-19T09:33:23.402079",
     "exception": false,
     "start_time": "2022-08-19T09:33:23.374670",
     "status": "completed"
    },
    "tags": []
   },
   "outputs": [],
   "source": [
    "#UNDERSAMPLING\n",
    "# good_wine = data[data['good_quality']=='yes']\n",
    "# bad_wine = data[data['good_quality']=='no']\n",
    "\n",
    "# bad_wine = bad_wine.sample(frac=1)\n",
    "# bad_wine = bad_wine[:217]\n",
    "\n",
    "# new_data = pd.concat([good_wine,bad_wine])\n",
    "# new_data = new_data.sample(frac=1)\n",
    "# new_data"
   ]
  },
  {
   "cell_type": "markdown",
   "id": "a2ba8492",
   "metadata": {
    "papermill": {
     "duration": 0.019718,
     "end_time": "2022-08-19T09:33:23.441804",
     "exception": false,
     "start_time": "2022-08-19T09:33:23.422086",
     "status": "completed"
    },
    "tags": []
   },
   "source": [
    "## Oversampling"
   ]
  },
  {
   "cell_type": "code",
   "execution_count": 22,
   "id": "a05136f3",
   "metadata": {
    "execution": {
     "iopub.execute_input": "2022-08-19T09:33:23.484071Z",
     "iopub.status.busy": "2022-08-19T09:33:23.483370Z",
     "iopub.status.idle": "2022-08-19T09:33:24.056479Z",
     "shell.execute_reply": "2022-08-19T09:33:24.055344Z"
    },
    "papermill": {
     "duration": 0.597254,
     "end_time": "2022-08-19T09:33:24.059276",
     "exception": false,
     "start_time": "2022-08-19T09:33:23.462022",
     "status": "completed"
    },
    "tags": []
   },
   "outputs": [],
   "source": [
    "from imblearn.over_sampling import SMOTE"
   ]
  },
  {
   "cell_type": "code",
   "execution_count": 23,
   "id": "054210ce",
   "metadata": {
    "execution": {
     "iopub.execute_input": "2022-08-19T09:33:24.120996Z",
     "iopub.status.busy": "2022-08-19T09:33:24.120200Z",
     "iopub.status.idle": "2022-08-19T09:33:24.136029Z",
     "shell.execute_reply": "2022-08-19T09:33:24.135058Z"
    },
    "papermill": {
     "duration": 0.058343,
     "end_time": "2022-08-19T09:33:24.138189",
     "exception": false,
     "start_time": "2022-08-19T09:33:24.079846",
     "status": "completed"
    },
    "tags": []
   },
   "outputs": [
    {
     "data": {
      "text/plain": [
       "0    1382\n",
       "1    1382\n",
       "Name: good_quality, dtype: int64"
      ]
     },
     "execution_count": 23,
     "metadata": {},
     "output_type": "execute_result"
    }
   ],
   "source": [
    "X,y = SMOTE().fit_resample(X,y)\n",
    "y.value_counts()"
   ]
  },
  {
   "cell_type": "markdown",
   "id": "93a12d2b",
   "metadata": {
    "papermill": {
     "duration": 0.019929,
     "end_time": "2022-08-19T09:33:24.178799",
     "exception": false,
     "start_time": "2022-08-19T09:33:24.158870",
     "status": "completed"
    },
    "tags": []
   },
   "source": [
    "# 5. Splitting Data"
   ]
  },
  {
   "cell_type": "code",
   "execution_count": 24,
   "id": "f6912886",
   "metadata": {
    "execution": {
     "iopub.execute_input": "2022-08-19T09:33:24.221456Z",
     "iopub.status.busy": "2022-08-19T09:33:24.220773Z",
     "iopub.status.idle": "2022-08-19T09:33:24.227364Z",
     "shell.execute_reply": "2022-08-19T09:33:24.226588Z"
    },
    "papermill": {
     "duration": 0.030299,
     "end_time": "2022-08-19T09:33:24.229423",
     "exception": false,
     "start_time": "2022-08-19T09:33:24.199124",
     "status": "completed"
    },
    "tags": []
   },
   "outputs": [],
   "source": [
    "from sklearn.model_selection import train_test_split\n",
    "\n",
    "X_train, X_test, y_train, y_test = train_test_split(X, y, test_size=0.2, random_state=101)"
   ]
  },
  {
   "cell_type": "markdown",
   "id": "73cab39b",
   "metadata": {
    "papermill": {
     "duration": 0.020039,
     "end_time": "2022-08-19T09:33:24.269851",
     "exception": false,
     "start_time": "2022-08-19T09:33:24.249812",
     "status": "completed"
    },
    "tags": []
   },
   "source": [
    "### Scaling independent variables"
   ]
  },
  {
   "cell_type": "code",
   "execution_count": 25,
   "id": "9a94e55a",
   "metadata": {
    "execution": {
     "iopub.execute_input": "2022-08-19T09:33:24.312849Z",
     "iopub.status.busy": "2022-08-19T09:33:24.312147Z",
     "iopub.status.idle": "2022-08-19T09:33:24.323273Z",
     "shell.execute_reply": "2022-08-19T09:33:24.322451Z"
    },
    "papermill": {
     "duration": 0.035015,
     "end_time": "2022-08-19T09:33:24.325454",
     "exception": false,
     "start_time": "2022-08-19T09:33:24.290439",
     "status": "completed"
    },
    "tags": []
   },
   "outputs": [],
   "source": [
    "from sklearn.preprocessing import StandardScaler\n",
    "\n",
    "sc=StandardScaler()\n",
    "sc.fit(X_train)\n",
    "X_train=sc.fit_transform(X_train)\n",
    "X_test=sc.transform(X_test)"
   ]
  },
  {
   "cell_type": "markdown",
   "id": "4151b02e",
   "metadata": {
    "papermill": {
     "duration": 0.020017,
     "end_time": "2022-08-19T09:33:24.365676",
     "exception": false,
     "start_time": "2022-08-19T09:33:24.345659",
     "status": "completed"
    },
    "tags": []
   },
   "source": [
    "## Applying PCA"
   ]
  },
  {
   "cell_type": "code",
   "execution_count": 26,
   "id": "3e9b62f4",
   "metadata": {
    "execution": {
     "iopub.execute_input": "2022-08-19T09:33:24.407912Z",
     "iopub.status.busy": "2022-08-19T09:33:24.407220Z",
     "iopub.status.idle": "2022-08-19T09:33:24.431860Z",
     "shell.execute_reply": "2022-08-19T09:33:24.430570Z"
    },
    "papermill": {
     "duration": 0.049988,
     "end_time": "2022-08-19T09:33:24.435803",
     "exception": false,
     "start_time": "2022-08-19T09:33:24.385815",
     "status": "completed"
    },
    "tags": []
   },
   "outputs": [],
   "source": [
    "from sklearn.decomposition import PCA\n",
    "pca=PCA(n_components=9)\n",
    "X_train=pca.fit_transform(X_train)"
   ]
  },
  {
   "cell_type": "code",
   "execution_count": 27,
   "id": "86e087fa",
   "metadata": {
    "execution": {
     "iopub.execute_input": "2022-08-19T09:33:24.505219Z",
     "iopub.status.busy": "2022-08-19T09:33:24.504677Z",
     "iopub.status.idle": "2022-08-19T09:33:24.510868Z",
     "shell.execute_reply": "2022-08-19T09:33:24.509700Z"
    },
    "papermill": {
     "duration": 0.046976,
     "end_time": "2022-08-19T09:33:24.516497",
     "exception": false,
     "start_time": "2022-08-19T09:33:24.469521",
     "status": "completed"
    },
    "tags": []
   },
   "outputs": [],
   "source": [
    "X_test=pca.transform(X_test)"
   ]
  },
  {
   "cell_type": "code",
   "execution_count": 28,
   "id": "8732ed65",
   "metadata": {
    "execution": {
     "iopub.execute_input": "2022-08-19T09:33:24.572008Z",
     "iopub.status.busy": "2022-08-19T09:33:24.571624Z",
     "iopub.status.idle": "2022-08-19T09:33:24.578251Z",
     "shell.execute_reply": "2022-08-19T09:33:24.577164Z"
    },
    "papermill": {
     "duration": 0.030738,
     "end_time": "2022-08-19T09:33:24.580508",
     "exception": false,
     "start_time": "2022-08-19T09:33:24.549770",
     "status": "completed"
    },
    "tags": []
   },
   "outputs": [
    {
     "data": {
      "text/plain": [
       "(2211, 9)"
      ]
     },
     "execution_count": 28,
     "metadata": {},
     "output_type": "execute_result"
    }
   ],
   "source": [
    "X_train.shape"
   ]
  },
  {
   "cell_type": "markdown",
   "id": "d659a92f",
   "metadata": {
    "papermill": {
     "duration": 0.020335,
     "end_time": "2022-08-19T09:33:24.621362",
     "exception": false,
     "start_time": "2022-08-19T09:33:24.601027",
     "status": "completed"
    },
    "tags": []
   },
   "source": [
    "## Feature Importance"
   ]
  },
  {
   "cell_type": "code",
   "execution_count": 29,
   "id": "a8e2d102",
   "metadata": {
    "execution": {
     "iopub.execute_input": "2022-08-19T09:33:24.664811Z",
     "iopub.status.busy": "2022-08-19T09:33:24.664078Z",
     "iopub.status.idle": "2022-08-19T09:33:24.953355Z",
     "shell.execute_reply": "2022-08-19T09:33:24.952102Z"
    },
    "papermill": {
     "duration": 0.314394,
     "end_time": "2022-08-19T09:33:24.956495",
     "exception": false,
     "start_time": "2022-08-19T09:33:24.642101",
     "status": "completed"
    },
    "tags": []
   },
   "outputs": [
    {
     "name": "stdout",
     "output_type": "stream",
     "text": [
      "[0.10269289 0.34605797 0.09669472 0.09110105 0.06921691 0.06266662\n",
      " 0.07564885 0.07261885 0.08330213]\n"
     ]
    }
   ],
   "source": [
    "from sklearn.linear_model import LogisticRegression\n",
    "model = LogisticRegression()\n",
    "\n",
    "from sklearn.ensemble import ExtraTreesClassifier\n",
    "classifiern = ExtraTreesClassifier()\n",
    "classifiern.fit(X_train,y_train)\n",
    "score = classifiern.feature_importances_\n",
    "print(score)"
   ]
  },
  {
   "cell_type": "markdown",
   "id": "b79bda9f",
   "metadata": {
    "papermill": {
     "duration": 0.020656,
     "end_time": "2022-08-19T09:33:24.998691",
     "exception": false,
     "start_time": "2022-08-19T09:33:24.978035",
     "status": "completed"
    },
    "tags": []
   },
   "source": [
    "## 3.1 Logistic Regression "
   ]
  },
  {
   "cell_type": "code",
   "execution_count": 30,
   "id": "9e45af8c",
   "metadata": {
    "execution": {
     "iopub.execute_input": "2022-08-19T09:33:25.042929Z",
     "iopub.status.busy": "2022-08-19T09:33:25.042512Z",
     "iopub.status.idle": "2022-08-19T09:33:25.070577Z",
     "shell.execute_reply": "2022-08-19T09:33:25.069366Z"
    },
    "papermill": {
     "duration": 0.054146,
     "end_time": "2022-08-19T09:33:25.073677",
     "exception": false,
     "start_time": "2022-08-19T09:33:25.019531",
     "status": "completed"
    },
    "tags": []
   },
   "outputs": [
    {
     "name": "stdout",
     "output_type": "stream",
     "text": [
      "Accuracy Score: 0.8191681735985533\n"
     ]
    }
   ],
   "source": [
    "from sklearn.linear_model import LogisticRegression\n",
    "model1 = LogisticRegression()\n",
    "model1.fit(X_train,y_train)\n",
    "y_pred1 = model1.predict(X_test)\n",
    "\n",
    "from sklearn.metrics import accuracy_score\n",
    "acc_score1=accuracy_score(y_test,y_pred1)\n",
    "print(\"Accuracy Score:\",acc_score1)"
   ]
  },
  {
   "cell_type": "markdown",
   "id": "8253af6f",
   "metadata": {
    "papermill": {
     "duration": 0.03338,
     "end_time": "2022-08-19T09:33:25.141547",
     "exception": false,
     "start_time": "2022-08-19T09:33:25.108167",
     "status": "completed"
    },
    "tags": []
   },
   "source": [
    "## 3.2 KNN"
   ]
  },
  {
   "cell_type": "code",
   "execution_count": 31,
   "id": "3edad560",
   "metadata": {
    "execution": {
     "iopub.execute_input": "2022-08-19T09:33:25.203082Z",
     "iopub.status.busy": "2022-08-19T09:33:25.201924Z",
     "iopub.status.idle": "2022-08-19T09:33:25.235177Z",
     "shell.execute_reply": "2022-08-19T09:33:25.233612Z"
    },
    "papermill": {
     "duration": 0.062055,
     "end_time": "2022-08-19T09:33:25.237491",
     "exception": false,
     "start_time": "2022-08-19T09:33:25.175436",
     "status": "completed"
    },
    "tags": []
   },
   "outputs": [
    {
     "name": "stdout",
     "output_type": "stream",
     "text": [
      "Accuracy Score: 0.9059674502712477\n"
     ]
    }
   ],
   "source": [
    "from sklearn.neighbors import KNeighborsClassifier\n",
    "model2 = KNeighborsClassifier(n_neighbors=3)\n",
    "model2.fit(X_train,y_train)\n",
    "y_pred2 = model2.predict(X_test)\n",
    "\n",
    "acc_score2=accuracy_score(y_test,y_pred2)\n",
    "print(\"Accuracy Score:\",acc_score2)"
   ]
  },
  {
   "cell_type": "markdown",
   "id": "493d8b90",
   "metadata": {
    "papermill": {
     "duration": 0.020566,
     "end_time": "2022-08-19T09:33:25.278802",
     "exception": false,
     "start_time": "2022-08-19T09:33:25.258236",
     "status": "completed"
    },
    "tags": []
   },
   "source": [
    "## 3.3 Decision Tree"
   ]
  },
  {
   "cell_type": "code",
   "execution_count": 32,
   "id": "485c6ee5",
   "metadata": {
    "execution": {
     "iopub.execute_input": "2022-08-19T09:33:25.322269Z",
     "iopub.status.busy": "2022-08-19T09:33:25.321555Z",
     "iopub.status.idle": "2022-08-19T09:33:25.354680Z",
     "shell.execute_reply": "2022-08-19T09:33:25.353691Z"
    },
    "papermill": {
     "duration": 0.05748,
     "end_time": "2022-08-19T09:33:25.357049",
     "exception": false,
     "start_time": "2022-08-19T09:33:25.299569",
     "status": "completed"
    },
    "tags": []
   },
   "outputs": [
    {
     "name": "stdout",
     "output_type": "stream",
     "text": [
      "Accuracy Score: 0.8824593128390597\n"
     ]
    }
   ],
   "source": [
    "from sklearn.tree import DecisionTreeClassifier\n",
    "model3 = DecisionTreeClassifier(criterion='entropy',random_state=7)\n",
    "model3.fit(X_train,y_train)\n",
    "y_pred3 = model3.predict(X_test)\n",
    "\n",
    "acc_score3=accuracy_score(y_test,y_pred3)\n",
    "print(\"Accuracy Score:\",acc_score3)"
   ]
  },
  {
   "cell_type": "markdown",
   "id": "0533b28e",
   "metadata": {
    "papermill": {
     "duration": 0.020378,
     "end_time": "2022-08-19T09:33:25.398248",
     "exception": false,
     "start_time": "2022-08-19T09:33:25.377870",
     "status": "completed"
    },
    "tags": []
   },
   "source": [
    "## 3.4 Random Forest"
   ]
  },
  {
   "cell_type": "code",
   "execution_count": 33,
   "id": "968487b7",
   "metadata": {
    "execution": {
     "iopub.execute_input": "2022-08-19T09:33:25.441342Z",
     "iopub.status.busy": "2022-08-19T09:33:25.440934Z",
     "iopub.status.idle": "2022-08-19T09:33:26.095668Z",
     "shell.execute_reply": "2022-08-19T09:33:26.094512Z"
    },
    "papermill": {
     "duration": 0.679933,
     "end_time": "2022-08-19T09:33:26.098921",
     "exception": false,
     "start_time": "2022-08-19T09:33:25.418988",
     "status": "completed"
    },
    "tags": []
   },
   "outputs": [
    {
     "name": "stdout",
     "output_type": "stream",
     "text": [
      "Accuracy Score: 0.9312839059674503\n"
     ]
    }
   ],
   "source": [
    "from sklearn.ensemble import RandomForestClassifier\n",
    "model4 = RandomForestClassifier(random_state=1)\n",
    "model4.fit(X_train, y_train)\n",
    "y_pred4 = model4.predict(X_test)\n",
    "\n",
    "acc_score4=accuracy_score(y_test,y_pred4)\n",
    "print(\"Accuracy Score:\",acc_score4)"
   ]
  },
  {
   "cell_type": "markdown",
   "id": "2c68997d",
   "metadata": {
    "papermill": {
     "duration": 0.020644,
     "end_time": "2022-08-19T09:33:26.141977",
     "exception": false,
     "start_time": "2022-08-19T09:33:26.121333",
     "status": "completed"
    },
    "tags": []
   },
   "source": [
    "## 3.5 XGBoost"
   ]
  },
  {
   "cell_type": "code",
   "execution_count": 34,
   "id": "7b6670a7",
   "metadata": {
    "execution": {
     "iopub.execute_input": "2022-08-19T09:33:26.185691Z",
     "iopub.status.busy": "2022-08-19T09:33:26.184958Z",
     "iopub.status.idle": "2022-08-19T09:33:27.045529Z",
     "shell.execute_reply": "2022-08-19T09:33:27.044551Z"
    },
    "papermill": {
     "duration": 0.885468,
     "end_time": "2022-08-19T09:33:27.048273",
     "exception": false,
     "start_time": "2022-08-19T09:33:26.162805",
     "status": "completed"
    },
    "tags": []
   },
   "outputs": [
    {
     "name": "stdout",
     "output_type": "stream",
     "text": [
      "Accuracy Score: 0.9439421338155516\n"
     ]
    }
   ],
   "source": [
    "import xgboost as xgb\n",
    "model5 = xgb.XGBClassifier(random_state=1)\n",
    "model5.fit(X_train, y_train)\n",
    "y_pred5 = model5.predict(X_test)\n",
    "\n",
    "acc_score5=accuracy_score(y_test,y_pred5)\n",
    "print(\"Accuracy Score:\",acc_score5)"
   ]
  },
  {
   "cell_type": "raw",
   "id": "c5fa55d6",
   "metadata": {
    "papermill": {
     "duration": 0.020613,
     "end_time": "2022-08-19T09:33:27.090390",
     "exception": false,
     "start_time": "2022-08-19T09:33:27.069777",
     "status": "completed"
    },
    "tags": []
   },
   "source": [
    "XGBoost gives the best accuracy score"
   ]
  },
  {
   "cell_type": "markdown",
   "id": "4991f9bc",
   "metadata": {
    "papermill": {
     "duration": 0.02116,
     "end_time": "2022-08-19T09:33:27.132594",
     "exception": false,
     "start_time": "2022-08-19T09:33:27.111434",
     "status": "completed"
    },
    "tags": []
   },
   "source": [
    "# Cross Validation"
   ]
  },
  {
   "cell_type": "code",
   "execution_count": 35,
   "id": "94b204f2",
   "metadata": {
    "execution": {
     "iopub.execute_input": "2022-08-19T09:33:27.176888Z",
     "iopub.status.busy": "2022-08-19T09:33:27.176205Z",
     "iopub.status.idle": "2022-08-19T09:33:27.180577Z",
     "shell.execute_reply": "2022-08-19T09:33:27.179688Z"
    },
    "papermill": {
     "duration": 0.029238,
     "end_time": "2022-08-19T09:33:27.182916",
     "exception": false,
     "start_time": "2022-08-19T09:33:27.153678",
     "status": "completed"
    },
    "tags": []
   },
   "outputs": [],
   "source": [
    "from sklearn.model_selection import cross_val_score"
   ]
  },
  {
   "cell_type": "code",
   "execution_count": 36,
   "id": "bc8cb633",
   "metadata": {
    "execution": {
     "iopub.execute_input": "2022-08-19T09:33:27.228416Z",
     "iopub.status.busy": "2022-08-19T09:33:27.227274Z",
     "iopub.status.idle": "2022-08-19T09:33:27.339137Z",
     "shell.execute_reply": "2022-08-19T09:33:27.337843Z"
    },
    "papermill": {
     "duration": 0.13822,
     "end_time": "2022-08-19T09:33:27.343051",
     "exception": false,
     "start_time": "2022-08-19T09:33:27.204831",
     "status": "completed"
    },
    "tags": []
   },
   "outputs": [
    {
     "name": "stdout",
     "output_type": "stream",
     "text": [
      "Mean Score: 82.95 %\n"
     ]
    }
   ],
   "source": [
    "LR_score=cross_val_score(model1,X_train,y_train,cv=10)\n",
    "cv_score1=LR_score.mean().round(5)*100\n",
    "print(\"Mean Score:\",cv_score1,'%')"
   ]
  },
  {
   "cell_type": "code",
   "execution_count": 37,
   "id": "c58cc7b6",
   "metadata": {
    "execution": {
     "iopub.execute_input": "2022-08-19T09:33:27.413654Z",
     "iopub.status.busy": "2022-08-19T09:33:27.412577Z",
     "iopub.status.idle": "2022-08-19T09:33:27.564556Z",
     "shell.execute_reply": "2022-08-19T09:33:27.563279Z"
    },
    "papermill": {
     "duration": 0.190705,
     "end_time": "2022-08-19T09:33:27.567761",
     "exception": false,
     "start_time": "2022-08-19T09:33:27.377056",
     "status": "completed"
    },
    "tags": []
   },
   "outputs": [
    {
     "name": "stdout",
     "output_type": "stream",
     "text": [
      "Mean Score: 90.006 %\n"
     ]
    }
   ],
   "source": [
    "KNN_score=cross_val_score(model2,X_train,y_train,cv=10)\n",
    "cv_score2=KNN_score.mean().round(5)*100\n",
    "print(\"Mean Score:\",cv_score2,'%')"
   ]
  },
  {
   "cell_type": "code",
   "execution_count": 38,
   "id": "4f497bbd",
   "metadata": {
    "execution": {
     "iopub.execute_input": "2022-08-19T09:33:27.613251Z",
     "iopub.status.busy": "2022-08-19T09:33:27.612006Z",
     "iopub.status.idle": "2022-08-19T09:33:27.857885Z",
     "shell.execute_reply": "2022-08-19T09:33:27.856539Z"
    },
    "papermill": {
     "duration": 0.270931,
     "end_time": "2022-08-19T09:33:27.860239",
     "exception": false,
     "start_time": "2022-08-19T09:33:27.589308",
     "status": "completed"
    },
    "tags": []
   },
   "outputs": [
    {
     "name": "stdout",
     "output_type": "stream",
     "text": [
      "Mean Score: 88.424 %\n"
     ]
    }
   ],
   "source": [
    "DT_score=cross_val_score(model3,X_train,y_train,cv=10)\n",
    "cv_score3=DT_score.mean().round(5)*100\n",
    "print(\"Mean Score:\",cv_score3,'%')"
   ]
  },
  {
   "cell_type": "code",
   "execution_count": 39,
   "id": "5c197a4a",
   "metadata": {
    "execution": {
     "iopub.execute_input": "2022-08-19T09:33:27.904634Z",
     "iopub.status.busy": "2022-08-19T09:33:27.904246Z",
     "iopub.status.idle": "2022-08-19T09:33:33.702398Z",
     "shell.execute_reply": "2022-08-19T09:33:33.701022Z"
    },
    "papermill": {
     "duration": 5.82466,
     "end_time": "2022-08-19T09:33:33.706088",
     "exception": false,
     "start_time": "2022-08-19T09:33:27.881428",
     "status": "completed"
    },
    "tags": []
   },
   "outputs": [
    {
     "name": "stdout",
     "output_type": "stream",
     "text": [
      "Mean Score: 94.392 %\n"
     ]
    }
   ],
   "source": [
    "RF_score=cross_val_score(model4,X_train,y_train,cv=10)\n",
    "cv_score4=RF_score.mean().round(5)*100\n",
    "print(\"Mean Score:\",cv_score4,'%')"
   ]
  },
  {
   "cell_type": "code",
   "execution_count": 40,
   "id": "db6dba7d",
   "metadata": {
    "execution": {
     "iopub.execute_input": "2022-08-19T09:33:33.751290Z",
     "iopub.status.busy": "2022-08-19T09:33:33.750274Z",
     "iopub.status.idle": "2022-08-19T09:33:40.027993Z",
     "shell.execute_reply": "2022-08-19T09:33:40.027004Z"
    },
    "papermill": {
     "duration": 6.302919,
     "end_time": "2022-08-19T09:33:40.030529",
     "exception": false,
     "start_time": "2022-08-19T09:33:33.727610",
     "status": "completed"
    },
    "tags": []
   },
   "outputs": [
    {
     "name": "stdout",
     "output_type": "stream",
     "text": [
      "Mean Score: 93.985 %\n"
     ]
    }
   ],
   "source": [
    "XGB_score=cross_val_score(model5,X_train,y_train,cv=10)\n",
    "cv_score5=XGB_score.mean().round(5)*100\n",
    "print(\"Mean Score:\",cv_score5,'%')"
   ]
  },
  {
   "cell_type": "code",
   "execution_count": 41,
   "id": "f41e03df",
   "metadata": {
    "execution": {
     "iopub.execute_input": "2022-08-19T09:33:40.075293Z",
     "iopub.status.busy": "2022-08-19T09:33:40.074667Z",
     "iopub.status.idle": "2022-08-19T09:33:40.081194Z",
     "shell.execute_reply": "2022-08-19T09:33:40.080229Z"
    },
    "papermill": {
     "duration": 0.03156,
     "end_time": "2022-08-19T09:33:40.083307",
     "exception": false,
     "start_time": "2022-08-19T09:33:40.051747",
     "status": "completed"
    },
    "tags": []
   },
   "outputs": [],
   "source": [
    "result=pd.DataFrame([{'Algortihm':\"LR\", 'Accuracy Score':acc_score1,'Cross Validation Score (%)':cv_score1},\n",
    "                     {'Algortihm':\"KNN\", 'Accuracy Score':acc_score2,'Cross Validation Score (%)':cv_score2},\n",
    "                     {'Algortihm':\"DT\", 'Accuracy Score':acc_score3,'Cross Validation Score (%)':cv_score3},\n",
    "                     {'Algortihm':\"RF\", 'Accuracy Score':acc_score4,'Cross Validation Score (%)':cv_score4},\n",
    "                     {'Algortihm':\"XGB\", 'Accuracy Score':acc_score2,'Cross Validation Score (%)':cv_score5}])"
   ]
  },
  {
   "cell_type": "code",
   "execution_count": 42,
   "id": "102e2252",
   "metadata": {
    "execution": {
     "iopub.execute_input": "2022-08-19T09:33:40.127746Z",
     "iopub.status.busy": "2022-08-19T09:33:40.126560Z",
     "iopub.status.idle": "2022-08-19T09:33:40.137520Z",
     "shell.execute_reply": "2022-08-19T09:33:40.136751Z"
    },
    "papermill": {
     "duration": 0.035081,
     "end_time": "2022-08-19T09:33:40.139505",
     "exception": false,
     "start_time": "2022-08-19T09:33:40.104424",
     "status": "completed"
    },
    "tags": []
   },
   "outputs": [
    {
     "data": {
      "text/html": [
       "<div>\n",
       "<style scoped>\n",
       "    .dataframe tbody tr th:only-of-type {\n",
       "        vertical-align: middle;\n",
       "    }\n",
       "\n",
       "    .dataframe tbody tr th {\n",
       "        vertical-align: top;\n",
       "    }\n",
       "\n",
       "    .dataframe thead th {\n",
       "        text-align: right;\n",
       "    }\n",
       "</style>\n",
       "<table border=\"1\" class=\"dataframe\">\n",
       "  <thead>\n",
       "    <tr style=\"text-align: right;\">\n",
       "      <th></th>\n",
       "      <th>Algortihm</th>\n",
       "      <th>Accuracy Score</th>\n",
       "      <th>Cross Validation Score (%)</th>\n",
       "    </tr>\n",
       "  </thead>\n",
       "  <tbody>\n",
       "    <tr>\n",
       "      <th>0</th>\n",
       "      <td>LR</td>\n",
       "      <td>0.819168</td>\n",
       "      <td>82.950</td>\n",
       "    </tr>\n",
       "    <tr>\n",
       "      <th>1</th>\n",
       "      <td>KNN</td>\n",
       "      <td>0.905967</td>\n",
       "      <td>90.006</td>\n",
       "    </tr>\n",
       "    <tr>\n",
       "      <th>2</th>\n",
       "      <td>DT</td>\n",
       "      <td>0.882459</td>\n",
       "      <td>88.424</td>\n",
       "    </tr>\n",
       "    <tr>\n",
       "      <th>3</th>\n",
       "      <td>RF</td>\n",
       "      <td>0.931284</td>\n",
       "      <td>94.392</td>\n",
       "    </tr>\n",
       "    <tr>\n",
       "      <th>4</th>\n",
       "      <td>XGB</td>\n",
       "      <td>0.905967</td>\n",
       "      <td>93.985</td>\n",
       "    </tr>\n",
       "  </tbody>\n",
       "</table>\n",
       "</div>"
      ],
      "text/plain": [
       "  Algortihm  Accuracy Score  Cross Validation Score (%)\n",
       "0        LR        0.819168                      82.950\n",
       "1       KNN        0.905967                      90.006\n",
       "2        DT        0.882459                      88.424\n",
       "3        RF        0.931284                      94.392\n",
       "4       XGB        0.905967                      93.985"
      ]
     },
     "execution_count": 42,
     "metadata": {},
     "output_type": "execute_result"
    }
   ],
   "source": [
    "result"
   ]
  }
 ],
 "metadata": {
  "kernelspec": {
   "display_name": "Python 3",
   "language": "python",
   "name": "python3"
  },
  "language_info": {
   "codemirror_mode": {
    "name": "ipython",
    "version": 3
   },
   "file_extension": ".py",
   "mimetype": "text/x-python",
   "name": "python",
   "nbconvert_exporter": "python",
   "pygments_lexer": "ipython3",
   "version": "3.7.12"
  },
  "papermill": {
   "default_parameters": {},
   "duration": 37.076922,
   "end_time": "2022-08-19T09:33:40.982417",
   "environment_variables": {},
   "exception": null,
   "input_path": "__notebook__.ipynb",
   "output_path": "__notebook__.ipynb",
   "parameters": {},
   "start_time": "2022-08-19T09:33:03.905495",
   "version": "2.3.4"
  }
 },
 "nbformat": 4,
 "nbformat_minor": 5
}
